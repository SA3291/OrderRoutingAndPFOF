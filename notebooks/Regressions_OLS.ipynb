{
 "cells": [
  {
   "cell_type": "code",
   "execution_count": 625,
   "metadata": {},
   "outputs": [],
   "source": [
    "import numpy as np\n",
    "import pandas as pd\n",
    "import statsmodels.api as sm\n",
    "import matplotlib.pyplot as plt\n",
    "from scipy.stats import chi2\n",
    "from scipy.stats import norm\n",
    "\n",
    "%matplotlib inline"
   ]
  },
  {
   "cell_type": "markdown",
   "metadata": {},
   "source": [
    "# Functions"
   ]
  },
  {
   "cell_type": "code",
   "execution_count": 626,
   "metadata": {},
   "outputs": [],
   "source": [
    "def hausman_test(result_a, result_b, r):\n",
    "    \n",
    "    cov_a = result_a.cov_HC0[0:r,0:r]\n",
    "    cov_b = result_b.cov_HC0[0:r,0:r]\n",
    "    \n",
    "    beta_a = result_a.params[0:r]\n",
    "    beta_b = result_b.params[0:r]\n",
    "    \n",
    "    wald_stat = np.matrix(beta_a - beta_b) * np.linalg.inv(np.matrix(cov_b - cov_a)) * np.matrix(beta_a - beta_b).T\n",
    "    pval = 1 - chi2.cdf(wald_stat, r-1)\n",
    "    \n",
    "    return wald_stat, pval\n",
    "\n",
    "def get_sig_stars(p_val, p_value_labels = {0.05: '*', 0.01: '**', 0.001: '***'}, as_latex = False):\n",
    "\n",
    "    below_ind = np.where([p_val < x for x in p_value_labels.keys()])[0]\n",
    "    below_vals = [list(p_value_labels.keys())[i] for i in below_ind]\n",
    "    \n",
    "    if not below_vals:\n",
    "        stars = ''\n",
    "    else:\n",
    "        min_p_val = np.min(below_vals)\n",
    "        stars = p_value_labels[min_p_val]\n",
    "        \n",
    "    if as_latex:\n",
    "        if not stars:\n",
    "            return ''\n",
    "        else:\n",
    "            return '$^{' + stars + '}$'\n",
    "    else:\n",
    "        return stars"
   ]
  },
  {
   "cell_type": "markdown",
   "metadata": {},
   "source": [
    "# Params"
   ]
  },
  {
   "cell_type": "code",
   "execution_count": 627,
   "metadata": {},
   "outputs": [],
   "source": [
    "workbook_file_loc = '../analysis/results/parametric_regressions_all_market_Other.xlsx'\n",
    "sample_query = 'OrderType == \"Market\" & Exchange == \"Other\"'"
   ]
  },
  {
   "cell_type": "markdown",
   "metadata": {},
   "source": [
    "# Load Data"
   ]
  },
  {
   "cell_type": "code",
   "execution_count": 628,
   "metadata": {},
   "outputs": [
    {
     "name": "stdout",
     "output_type": "stream",
     "text": [
      "Market Centers: ['AQUA' 'ARCA' 'BNYC' 'CDRG' 'CITI' 'EDGX' 'FBCO' 'G1ES' 'SGMA' 'UBSS'\n",
      " 'VRTU' 'WOLV']\n",
      "Brokers: ['Deutsche' 'Credit Suisse' 'Barclays Capital' 'BMO Capital' 'BTIG'\n",
      " 'TD Ameritrade' 'Insigneo Securities' 'Bank of the West'\n",
      " 'Boenning Scattergood' 'Edward Jones' 'Hollencrest Securities' 'AXA'\n",
      " 'COR Clearing' 'DA Davidson' 'Euro Pacific Capital' 'Florida Atlantic'\n",
      " 'LPL' 'DST Market Services' 'Aurora Capital' 'Corporate Investment Group'\n",
      " 'E1 Asset Mgmt' 'Elish Elish' 'Dakota Securities' 'Benjamin Jerold'\n",
      " 'INTL FCStone' 'Bull Market Securities' 'Fifth Third' 'Freedom Investors'\n",
      " 'Inlet Securities' 'Cambria Capital' 'JP Morgan' 'Evercore Group']\n",
      "Samples: 1102\n",
      "Sparsity: 43.28%\n"
     ]
    },
    {
     "data": {
      "text/html": [
       "<div>\n",
       "<style scoped>\n",
       "    .dataframe tbody tr th:only-of-type {\n",
       "        vertical-align: middle;\n",
       "    }\n",
       "\n",
       "    .dataframe tbody tr th {\n",
       "        vertical-align: top;\n",
       "    }\n",
       "\n",
       "    .dataframe thead th {\n",
       "        text-align: right;\n",
       "    }\n",
       "</style>\n",
       "<table border=\"1\" class=\"dataframe\">\n",
       "  <thead>\n",
       "    <tr style=\"text-align: right;\">\n",
       "      <th></th>\n",
       "      <th>MarketCenter</th>\n",
       "      <th>Quarter</th>\n",
       "      <th>Exchange</th>\n",
       "      <th>OrderCode</th>\n",
       "      <th>CoveredOrders</th>\n",
       "      <th>CoveredShares</th>\n",
       "      <th>CancelledShares</th>\n",
       "      <th>MktCtrExecShares</th>\n",
       "      <th>AwayExecShares</th>\n",
       "      <th>ExecShares_0_9</th>\n",
       "      <th>...</th>\n",
       "      <th>dummy_LPLSGMAOther</th>\n",
       "      <th>dummy_LPLUBSSOther</th>\n",
       "      <th>dummy_LPLVRTUOther</th>\n",
       "      <th>dummy_TDAmeritradeCDRGOther</th>\n",
       "      <th>dummy_TDAmeritradeCITIOther</th>\n",
       "      <th>dummy_TDAmeritradeEDGXOther</th>\n",
       "      <th>dummy_TDAmeritradeG1ESOther</th>\n",
       "      <th>dummy_TDAmeritradeSGMAOther</th>\n",
       "      <th>dummy_TDAmeritradeUBSSOther</th>\n",
       "      <th>dummy_TDAmeritradeVRTUOther</th>\n",
       "    </tr>\n",
       "  </thead>\n",
       "  <tbody>\n",
       "    <tr>\n",
       "      <th>658</th>\n",
       "      <td>CDRG</td>\n",
       "      <td>2015Q2</td>\n",
       "      <td>Other</td>\n",
       "      <td>11</td>\n",
       "      <td>5987304</td>\n",
       "      <td>5122722954</td>\n",
       "      <td>27335736</td>\n",
       "      <td>5092400907</td>\n",
       "      <td>0</td>\n",
       "      <td>5064869592</td>\n",
       "      <td>...</td>\n",
       "      <td>0</td>\n",
       "      <td>0</td>\n",
       "      <td>0</td>\n",
       "      <td>0</td>\n",
       "      <td>0</td>\n",
       "      <td>0</td>\n",
       "      <td>0</td>\n",
       "      <td>0</td>\n",
       "      <td>0</td>\n",
       "      <td>0</td>\n",
       "    </tr>\n",
       "    <tr>\n",
       "      <th>4454</th>\n",
       "      <td>SGMA</td>\n",
       "      <td>2017Q4</td>\n",
       "      <td>Other</td>\n",
       "      <td>11</td>\n",
       "      <td>974142</td>\n",
       "      <td>684177411</td>\n",
       "      <td>851091</td>\n",
       "      <td>683321787</td>\n",
       "      <td>0</td>\n",
       "      <td>682412646</td>\n",
       "      <td>...</td>\n",
       "      <td>0</td>\n",
       "      <td>0</td>\n",
       "      <td>0</td>\n",
       "      <td>0</td>\n",
       "      <td>0</td>\n",
       "      <td>0</td>\n",
       "      <td>0</td>\n",
       "      <td>1</td>\n",
       "      <td>0</td>\n",
       "      <td>0</td>\n",
       "    </tr>\n",
       "    <tr>\n",
       "      <th>4884</th>\n",
       "      <td>UBSS</td>\n",
       "      <td>2014Q1</td>\n",
       "      <td>Other</td>\n",
       "      <td>11</td>\n",
       "      <td>7790994</td>\n",
       "      <td>5804119239</td>\n",
       "      <td>48544461</td>\n",
       "      <td>4685506125</td>\n",
       "      <td>484803852</td>\n",
       "      <td>5164961706</td>\n",
       "      <td>...</td>\n",
       "      <td>0</td>\n",
       "      <td>0</td>\n",
       "      <td>0</td>\n",
       "      <td>0</td>\n",
       "      <td>0</td>\n",
       "      <td>0</td>\n",
       "      <td>0</td>\n",
       "      <td>0</td>\n",
       "      <td>0</td>\n",
       "      <td>0</td>\n",
       "    </tr>\n",
       "    <tr>\n",
       "      <th>4140</th>\n",
       "      <td>SGMA</td>\n",
       "      <td>2016Q3</td>\n",
       "      <td>Other</td>\n",
       "      <td>11</td>\n",
       "      <td>3015957</td>\n",
       "      <td>2424865749</td>\n",
       "      <td>8675247</td>\n",
       "      <td>2416136967</td>\n",
       "      <td>0</td>\n",
       "      <td>2412871323</td>\n",
       "      <td>...</td>\n",
       "      <td>0</td>\n",
       "      <td>0</td>\n",
       "      <td>0</td>\n",
       "      <td>0</td>\n",
       "      <td>0</td>\n",
       "      <td>0</td>\n",
       "      <td>0</td>\n",
       "      <td>0</td>\n",
       "      <td>0</td>\n",
       "      <td>0</td>\n",
       "    </tr>\n",
       "    <tr>\n",
       "      <th>4678</th>\n",
       "      <td>UBSS</td>\n",
       "      <td>2012Q2</td>\n",
       "      <td>Other</td>\n",
       "      <td>11</td>\n",
       "      <td>7674537</td>\n",
       "      <td>6314982792</td>\n",
       "      <td>15655254</td>\n",
       "      <td>5506270242</td>\n",
       "      <td>410098629</td>\n",
       "      <td>5909963097</td>\n",
       "      <td>...</td>\n",
       "      <td>0</td>\n",
       "      <td>0</td>\n",
       "      <td>0</td>\n",
       "      <td>0</td>\n",
       "      <td>0</td>\n",
       "      <td>0</td>\n",
       "      <td>0</td>\n",
       "      <td>0</td>\n",
       "      <td>0</td>\n",
       "      <td>0</td>\n",
       "    </tr>\n",
       "  </tbody>\n",
       "</table>\n",
       "<p>5 rows × 196 columns</p>\n",
       "</div>"
      ],
      "text/plain": [
       "     MarketCenter Quarter Exchange  OrderCode  CoveredOrders  CoveredShares  \\\n",
       "658          CDRG  2015Q2    Other         11        5987304     5122722954   \n",
       "4454         SGMA  2017Q4    Other         11         974142      684177411   \n",
       "4884         UBSS  2014Q1    Other         11        7790994     5804119239   \n",
       "4140         SGMA  2016Q3    Other         11        3015957     2424865749   \n",
       "4678         UBSS  2012Q2    Other         11        7674537     6314982792   \n",
       "\n",
       "      CancelledShares  MktCtrExecShares  AwayExecShares  ExecShares_0_9  \\\n",
       "658          27335736        5092400907               0      5064869592   \n",
       "4454           851091         683321787               0       682412646   \n",
       "4884         48544461        4685506125       484803852      5164961706   \n",
       "4140          8675247        2416136967               0      2412871323   \n",
       "4678         15655254        5506270242       410098629      5909963097   \n",
       "\n",
       "                 ...               dummy_LPLSGMAOther  dummy_LPLUBSSOther  \\\n",
       "658              ...                                0                   0   \n",
       "4454             ...                                0                   0   \n",
       "4884             ...                                0                   0   \n",
       "4140             ...                                0                   0   \n",
       "4678             ...                                0                   0   \n",
       "\n",
       "      dummy_LPLVRTUOther  dummy_TDAmeritradeCDRGOther  \\\n",
       "658                    0                            0   \n",
       "4454                   0                            0   \n",
       "4884                   0                            0   \n",
       "4140                   0                            0   \n",
       "4678                   0                            0   \n",
       "\n",
       "      dummy_TDAmeritradeCITIOther  dummy_TDAmeritradeEDGXOther  \\\n",
       "658                             0                            0   \n",
       "4454                            0                            0   \n",
       "4884                            0                            0   \n",
       "4140                            0                            0   \n",
       "4678                            0                            0   \n",
       "\n",
       "      dummy_TDAmeritradeG1ESOther  dummy_TDAmeritradeSGMAOther  \\\n",
       "658                             0                            0   \n",
       "4454                            0                            1   \n",
       "4884                            0                            0   \n",
       "4140                            0                            0   \n",
       "4678                            0                            0   \n",
       "\n",
       "      dummy_TDAmeritradeUBSSOther  dummy_TDAmeritradeVRTUOther  \n",
       "658                             0                            0  \n",
       "4454                            0                            0  \n",
       "4884                            0                            0  \n",
       "4140                            0                            0  \n",
       "4678                            0                            0  \n",
       "\n",
       "[5 rows x 196 columns]"
      ]
     },
     "execution_count": 628,
     "metadata": {},
     "output_type": "execute_result"
    }
   ],
   "source": [
    "# demeaned for fixed effects\n",
    "data_df = pd.read_csv('../data/processed/regression_data_levels_demeaned.csv')\n",
    "data_df['PrImp_Pct_Rebate_Dummy'] = data_df['PrImp_Pct'] * data_df['Rebate_Dummy']\n",
    "data_df['PrImp_AvgAmt_Rebate_Dummy'] = data_df['PrImp_AvgAmt'] * data_df['Rebate_Dummy']\n",
    "data_df['PrImp_ExpAmt_Rebate_Dummy'] = data_df['PrImp_ExpAmt'] * data_df['Rebate_Dummy']\n",
    "data_df['PrImp_AvgT_Rebate_Dummy'] = data_df['PrImp_AvgT'] * data_df['Rebate_Dummy']\n",
    "data_df['All_AvgT_Rebate_Dummy'] = data_df['All_AvgT'] * data_df['Rebate_Dummy']\n",
    "data_df_dmd = data_df.copy()\n",
    "\n",
    "# levels for random effects\n",
    "data_df = pd.read_csv('../data/processed/regression_data_levels.csv')\n",
    "data_df['PrImp_Pct_Rebate_Dummy'] = data_df['PrImp_Pct'] * data_df['Rebate_Dummy']\n",
    "data_df['PrImp_AvgAmt_Rebate_Dummy'] = data_df['PrImp_AvgAmt'] * data_df['Rebate_Dummy']\n",
    "data_df['PrImp_ExpAmt_Rebate_Dummy'] = data_df['PrImp_ExpAmt'] * data_df['Rebate_Dummy']\n",
    "data_df['PrImp_AvgT_Rebate_Dummy'] = data_df['PrImp_AvgT'] * data_df['Rebate_Dummy']\n",
    "data_df['All_AvgT_Rebate_Dummy'] = data_df['All_AvgT'] * data_df['Rebate_Dummy']\n",
    "\n",
    "\n",
    "# Info\n",
    "print('Market Centers: ', end = '') \n",
    "print(data_df['MarketCenter'].unique())\n",
    "\n",
    "print('Brokers: ', end = '') \n",
    "print(data_df['Broker'].unique())\n",
    "\n",
    "\n",
    "sample_frac = 1 # None => All obs\n",
    "data_df = data_df.sample(frac = sample_frac).query(sample_query)\n",
    "\n",
    "print('Samples: %d' % data_df.shape[0])\n",
    "print('Sparsity: %0.2f%%' % (100*data_df.query('MktShare == 0').shape[0] / data_df.shape[0]))\n",
    "\n",
    "# Add dummy vars to levels\n",
    "\n",
    "data_df['obs_id'] = data_df['Broker'].apply(lambda x: x.replace(\" \", \"\")) + data_df['MarketCenter'] + data_df['Exchange'] \n",
    "data_df = pd.get_dummies(data_df, columns = ['obs_id'], prefix = 'dummy')\n",
    "\n",
    "dummy_coeff_cols = [x for x in list(data_df.columns) if x[:5] == 'dummy']\n",
    "dummy_coeff_formula = ' + '.join(dummy_coeff_cols)\n",
    "\n",
    "data_df.head()"
   ]
  },
  {
   "cell_type": "markdown",
   "metadata": {},
   "source": [
    "# Regressions "
   ]
  },
  {
   "cell_type": "code",
   "execution_count": 629,
   "metadata": {},
   "outputs": [],
   "source": [
    "# Fits\n",
    "# fit1_formula = 'MktShare ~ PrImp_Pct + PrImp_AvgAmt + PrImp_AvgT'\n",
    "# fit2_formula = 'MktShare ~ PrImp_ExpAmt + PrImp_AvgT'\n",
    "# fit3_formula = 'MktShare ~ PrImp_Pct + PrImp_AvgAmt + All_AvgT'\n",
    "# fit4_formula = 'MktShare ~ PrImp_ExpAmt + All_AvgT'\n",
    "\n",
    "fit1_formula = 'MktShare ~ PrImp_Pct + PrImp_Pct_Rebate_Dummy + PrImp_AvgAmt + PrImp_AvgAmt_Rebate_Dummy + PrImp_AvgT + PrImp_AvgT_Rebate_Dummy'\n",
    "fit2_formula = 'MktShare ~ PrImp_ExpAmt + PrImp_ExpAmt_Rebate_Dummy + PrImp_AvgT + PrImp_AvgT_Rebate_Dummy'\n",
    "fit3_formula = 'MktShare ~ PrImp_Pct + PrImp_Pct_Rebate_Dummy + PrImp_AvgAmt + PrImp_AvgAmt_Rebate_Dummy + All_AvgT + All_AvgT_Rebate_Dummy'\n",
    "fit4_formula = 'MktShare ~ PrImp_ExpAmt + PrImp_ExpAmt_Rebate_Dummy + All_AvgT + All_AvgT_Rebate_Dummy'\n",
    "\n",
    "\n",
    "formulaCols = lambda x: x.replace(' ', '').replace('~', '+').split('+') \n",
    "fit_formulae = [fit1_formula, fit2_formula, fit3_formula, fit4_formula]\n",
    "fit_formulae = [formulaCols(x) for x in fit_formulae]\n",
    "\n",
    "# Store results\n",
    "fit_results_re = [None] * len(fit_formulae)\n",
    "fit_results_fe = [None] * len(fit_formulae)"
   ]
  },
  {
   "cell_type": "markdown",
   "metadata": {},
   "source": [
    "## Results"
   ]
  },
  {
   "cell_type": "code",
   "execution_count": 630,
   "metadata": {},
   "outputs": [
    {
     "name": "stdout",
     "output_type": "stream",
     "text": [
      "Regressing with fit 1...\n",
      "Regressing with fit 2...\n",
      "Regressing with fit 3...\n",
      "Regressing with fit 4...\n"
     ]
    }
   ],
   "source": [
    "i = 1\n",
    "\n",
    "## Get results\n",
    "for i in range(0, len(fit_formulae)):\n",
    "    \n",
    "    print('Regressing with fit %d...' % (i + 1) )\n",
    "\n",
    "    data = data_df_dmd[fit_formulae[i]]\n",
    "    \n",
    "    X = data.iloc[:,1:]\n",
    "    Y = data.iloc[:,0]\n",
    "\n",
    "    fit_results_fe[i] = sm.OLS(Y, X, missing = 'drop').fit().get_robustcov_results(cov_type='HC0')\n",
    "    \n",
    "    # include dummies and drop one \n",
    "    data = data_df[fit_formulae[i] + dummy_coeff_cols[:-1]]\n",
    "    \n",
    "    X = data.iloc[:,1:]\n",
    "    Y = data.iloc[:,0]\n",
    "\n",
    "    fit_results_re[i] = sm.OLS(Y, sm.add_constant(X), missing = 'drop').fit().get_robustcov_results(cov_type='HC0')\n",
    "    "
   ]
  },
  {
   "cell_type": "markdown",
   "metadata": {},
   "source": [
    "## Run Hausman Tests"
   ]
  },
  {
   "cell_type": "code",
   "execution_count": 631,
   "metadata": {},
   "outputs": [],
   "source": [
    "fit_results = [None] * len(fit_formulae)\n",
    "hausman_results = [None] * len(fit_formulae)\n",
    "\n",
    "for i in range(0, len(fit_formulae)):\n",
    "\n",
    "    n_var = len(fit_formulae[i]) - 1\n",
    "\n",
    "    wald_stat, pval = hausman_test(fit_results_re[i], fit_results_fe[i], n_var)\n",
    "    \n",
    "    if pval < 0.05:\n",
    "        fit_results[i] = fit_results_fe[i]\n",
    "        hausman_results[i] = 'FE'\n",
    "    else:\n",
    "        fit_results[i] = fit_results_re[i]\n",
    "        hausman_results[i] = 'RE'"
   ]
  },
  {
   "cell_type": "markdown",
   "metadata": {},
   "source": [
    "# Export"
   ]
  },
  {
   "cell_type": "code",
   "execution_count": 632,
   "metadata": {},
   "outputs": [],
   "source": [
    "from openpyxl import Workbook, load_workbook, utils\n",
    "from openpyxl.styles import Alignment, Font\n",
    "import string\n",
    "import csv"
   ]
  },
  {
   "cell_type": "code",
   "execution_count": 633,
   "metadata": {},
   "outputs": [],
   "source": [
    "## Open workbook\n",
    "wb = Workbook()"
   ]
  },
  {
   "cell_type": "markdown",
   "metadata": {},
   "source": [
    "## Coefficient Results"
   ]
  },
  {
   "cell_type": "code",
   "execution_count": 634,
   "metadata": {},
   "outputs": [],
   "source": [
    "for i in range(0, len(fit_results)):\n",
    "    \n",
    "    ws = wb.create_sheet(title = 'Fit ' + str(i+1) +' Results')\n",
    "    \n",
    "    # space out columns\n",
    "    ws.column_dimensions[\"A\"].width = 35\n",
    "    \n",
    "    for col in list('BCDEFG'):\n",
    "        ws.column_dimensions[col].width = 15\n",
    "    \n",
    "    # add data\n",
    "    reader = (fit_results[i].summary().as_csv()).split('\\n')\n",
    "    \n",
    "    random_effects_model = True\n",
    "\n",
    "    for row in reader:\n",
    "        if row[:5] != 'dummy':\n",
    "            ws.append(row.split(','))\n",
    "        else:\n",
    "            random_effects_model = False\n",
    "            \n",
    "    if random_effects_model:\n",
    "        ws['C1'] = 'Random Effects'\n",
    "    else:\n",
    "        ws['C1'] = 'Fixed Effects'"
   ]
  },
  {
   "cell_type": "markdown",
   "metadata": {},
   "source": [
    "## Save and Close"
   ]
  },
  {
   "cell_type": "code",
   "execution_count": 635,
   "metadata": {},
   "outputs": [],
   "source": [
    "del wb['Sheet']\n",
    "wb.save(workbook_file_loc)\n",
    "wb.close()"
   ]
  },
  {
   "cell_type": "markdown",
   "metadata": {},
   "source": [
    "# As LaTeX"
   ]
  },
  {
   "cell_type": "code",
   "execution_count": 636,
   "metadata": {},
   "outputs": [],
   "source": [
    "fit_results_dict = [None] * 4\n",
    "\n",
    "for i in range(0, len(fit_results)):\n",
    "    \n",
    "    coeffs = {}\n",
    "    stders = {}\n",
    "    \n",
    "    # Coefficients\n",
    "    for j in range(0, len(fit_formulae[i][1:])):\n",
    "    \n",
    "        stder = fit_results[i].HC0_se[j]\n",
    "        coeff = fit_results[i].params[j]\n",
    "        key = fit_formulae[i][1:][j]\n",
    "        \n",
    "        coeffs[key] = coeff\n",
    "        stders[key] = stder\n",
    "        \n",
    "    fit_results_dict[i] = {}\n",
    "    fit_results_dict[i]['coeffs'] = coeffs.copy()\n",
    "    fit_results_dict[i]['stders'] = stders.copy()"
   ]
  },
  {
   "cell_type": "code",
   "execution_count": 637,
   "metadata": {},
   "outputs": [
    {
     "name": "stdout",
     "output_type": "stream",
     "text": [
      "PrImp\\_Pct & 0.386$^{*}$ &  & -0.2684$^{***}$ & \\\\\n",
      "  & (0.1855) &  & (0.0469) & \\\\ [0.5ex]\n",
      "PrImp\\_Pct$*$Rebate\\_Dummy & -0.5998$^{***}$ &  & -0.0666 & \\\\\n",
      "  & (0.1421) &  & (0.0869) & \\\\ [0.5ex]\n",
      "PrImp\\_AvgAmt & 0.2748 &  & 5.3334$^{***}$ & \\\\\n",
      "  & (0.232) &  & (1.6083) & \\\\ [0.5ex]\n",
      "PrImp\\_AvgAmt$*$Rebate\\_Dummy & 3.6485 &  & -5.3048$^{***}$ & \\\\\n",
      "  & (2.5701) &  & (1.6084) & \\\\ [0.5ex]\n",
      "PrImp\\_ExpAmt &  & 0.0767 &  & 4.5377\\\\\n",
      "  &  & (0.1016) &  & (2.9273)\\\\ [0.5ex]\n",
      "PrImp\\_ExpAmt$*$Rebate\\_Dummy &  & -11.5118 &  & -4.5374\\\\\n",
      "  &  & (6.8002) &  & (2.9273)\\\\ [0.5ex]\n",
      "PrImp\\_AvgT & 1.5938 & 21.522$^{*}$ &  & \\\\\n",
      "  & (3.3401) & (8.3555) &  & \\\\ [0.5ex]\n",
      "PrImp\\_AvgT$*$Rebate\\_Dummy & -0.0014$^{**}$ & -0.0012 &  & \\\\\n",
      "  & (0.0005) & (0.0007) &  & \\\\ [0.5ex]\n",
      "All\\_AvgT &  &  & -0.0015$^{***}$ & -0.0016$^{***}$\\\\\n",
      "  &  &  & (0.0003) & (0.0003)\\\\ [0.5ex]\n",
      "All\\_AvgT$*$Rebate\\_Dummy &  &  & 0.002$^{***}$ & 0.002$^{***}$\\\\\n",
      "  &  &  & (0.0005) & (0.0005)\\\\ [0.5ex]\n"
     ]
    }
   ],
   "source": [
    "regressors = ['PrImp_Pct', 'PrImp_Pct_Rebate_Dummy', 'PrImp_AvgAmt', 'PrImp_AvgAmt_Rebate_Dummy','PrImp_ExpAmt', \n",
    "     'PrImp_ExpAmt_Rebate_Dummy', 'PrImp_AvgT', 'PrImp_AvgT_Rebate_Dummy', 'All_AvgT', 'All_AvgT_Rebate_Dummy']\n",
    "\n",
    "\n",
    "for reg in regressors:\n",
    "    \n",
    "    line = reg.replace('_Rebate', '$*$Rebate').replace('_', '\\\\_')\n",
    "    line2 = ' '\n",
    "    \n",
    "    for i in range(0, len(fit_results_dict)):\n",
    "        \n",
    "        fit = fit_results_dict[i]\n",
    "        \n",
    "        if reg in fit['coeffs']:\n",
    "            \n",
    "            coef  = fit['coeffs'][reg]\n",
    "            stder = fit['stders'][reg]\n",
    "            tstat = coef / stder\n",
    "            pval  = 2 * (1- t.cdf(np.abs(tstat), int(fit_results[i].nobs) - len(fit['coeffs']) - 1) )\n",
    "         \n",
    "            line = line + ' & ' + str(np.round(coef, decimals = 4)) + get_sig_stars(pval, as_latex = True)\n",
    "            line2 = line2 + ' & (' + str(np.round(stder, decimals = 4)) + ')'\n",
    "        \n",
    "        else:\n",
    "            \n",
    "            line = line + ' & '\n",
    "            line2 = line2 + ' & '\n",
    "    \n",
    "    print(line + '\\\\\\\\')\n",
    "    print(line2 + '\\\\\\\\ [0.5ex]')"
   ]
  },
  {
   "cell_type": "code",
   "execution_count": 638,
   "metadata": {},
   "outputs": [],
   "source": [
    "obs_line = 'N'\n",
    "model_line = 'Model'\n",
    "r_2_line = 'R$^{2}$'\n",
    "r_2adj_line = 'Adjusted R$^{2}$'\n",
    "f_stat = 'F Statistic'\n",
    "\n",
    "for i in range(0, len(fit_results)):\n",
    "\n",
    "    fit = fit_results[i]\n",
    "    \n",
    "    obs_line = obs_line + ' & ' + str(int(fit.nobs))\n",
    "    model_line = model_line + ' & ' +  hausman_results[i]\n",
    "    r_2_line = r_2_line + ' & ' +  str(np.round(fit.rsquared, decimals = 3))\n",
    "    r_2adj_line = r_2adj_line + ' & ' +  str(np.round(fit.rsquared_adj, decimals = 3))\n",
    "    \n",
    "    if np.abs(fit.fvalue) > 100:\n",
    "        fvalue_label = '$>$100$^{***}$'\n",
    "    else:\n",
    "        fvalue_label = str(np.round(float(fit.fvalue), decimals = 3)) + get_sig_stars(fit.f_pvalue, as_latex = True) \n",
    "        \n",
    "    f_stat = f_stat + ' & ' + fvalue_label\n",
    "    "
   ]
  },
  {
   "cell_type": "code",
   "execution_count": 639,
   "metadata": {},
   "outputs": [
    {
     "name": "stdout",
     "output_type": "stream",
     "text": [
      "Model & RE & RE & FE & FE \\\\ \n",
      "N & 1072 & 1072 & 6708 & 6708 \\\\ \n",
      "R$^{2}$ & 0.522 & 0.511 & 0.02 & 0.005 \\\\ \n",
      "Adjusted R$^{2}$ & 0.448 & 0.436 & 0.019 & 0.004 \\\\ \n",
      "F Statistic & $>$100$^{***}$ & $>$100$^{***}$ & 14.912$^{***}$ & 6.034$^{***}$ \\\\ \n"
     ]
    }
   ],
   "source": [
    "print(' \\\\\\\\ \\n'.join([model_line, obs_line, r_2_line, r_2adj_line, f_stat]), end = ' \\\\\\\\ \\n')"
   ]
  },
  {
   "cell_type": "code",
   "execution_count": 640,
   "metadata": {},
   "outputs": [
    {
     "data": {
      "text/plain": [
       "array(5.11216788e-17)"
      ]
     },
     "execution_count": 640,
     "metadata": {},
     "output_type": "execute_result"
    }
   ],
   "source": [
    "fit_results[2].f_pvalue"
   ]
  },
  {
   "cell_type": "code",
   "execution_count": 641,
   "metadata": {},
   "outputs": [
    {
     "data": {
      "text/plain": [
       "['RE', 'RE', 'FE', 'FE']"
      ]
     },
     "execution_count": 641,
     "metadata": {},
     "output_type": "execute_result"
    }
   ],
   "source": [
    "hausman_results"
   ]
  },
  {
   "cell_type": "code",
   "execution_count": 642,
   "metadata": {},
   "outputs": [
    {
     "data": {
      "text/plain": [
       "array(['BMO Capital', 'Insigneo Securities', 'Bank of the West',\n",
       "       'Edward Jones', 'Hollencrest Securities', 'AXA', 'COR Clearing',\n",
       "       'DA Davidson', 'Euro Pacific Capital', 'Florida Atlantic', 'LPL',\n",
       "       'DST Market Services', 'Aurora Capital',\n",
       "       'Corporate Investment Group', 'E1 Asset Mgmt', 'Elish Elish',\n",
       "       'Dakota Securities', 'Benjamin Jerold', 'Bull Market Securities',\n",
       "       'Fifth Third', 'Freedom Investors', 'Inlet Securities',\n",
       "       'Cambria Capital'], dtype=object)"
      ]
     },
     "execution_count": 642,
     "metadata": {},
     "output_type": "execute_result"
    }
   ],
   "source": [
    "data_df_dmd.query('Rebate_Dummy == 0')['Broker'].unique()"
   ]
  },
  {
   "cell_type": "code",
   "execution_count": 643,
   "metadata": {},
   "outputs": [
    {
     "data": {
      "text/plain": [
       "[0, 1, 2, 3, 4, 5, 6, 7, 8, 9]"
      ]
     },
     "execution_count": 643,
     "metadata": {},
     "output_type": "execute_result"
    }
   ],
   "source": [
    "[x \n",
    "for x in range(0,10)]"
   ]
  },
  {
   "cell_type": "code",
   "execution_count": null,
   "metadata": {},
   "outputs": [],
   "source": []
  },
  {
   "cell_type": "code",
   "execution_count": null,
   "metadata": {},
   "outputs": [],
   "source": []
  }
 ],
 "metadata": {
  "kernelspec": {
   "display_name": "Python 3",
   "language": "python",
   "name": "python3"
  },
  "language_info": {
   "codemirror_mode": {
    "name": "ipython",
    "version": 3
   },
   "file_extension": ".py",
   "mimetype": "text/x-python",
   "name": "python",
   "nbconvert_exporter": "python",
   "pygments_lexer": "ipython3",
   "version": "3.5.2"
  }
 },
 "nbformat": 4,
 "nbformat_minor": 2
}
