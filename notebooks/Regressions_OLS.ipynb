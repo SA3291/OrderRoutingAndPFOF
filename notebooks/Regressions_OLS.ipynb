{
 "cells": [
  {
   "cell_type": "code",
   "execution_count": 482,
   "metadata": {},
   "outputs": [],
   "source": [
    "import numpy as np\n",
    "import pandas as pd\n",
    "import statsmodels.api as sm\n",
    "import matplotlib.pyplot as plt\n",
    "from scipy.stats import chi2\n",
    "from scipy.stats import norm\n",
    "\n",
    "%matplotlib inline"
   ]
  },
  {
   "cell_type": "markdown",
   "metadata": {},
   "source": [
    "# Functions"
   ]
  },
  {
   "cell_type": "code",
   "execution_count": 483,
   "metadata": {},
   "outputs": [],
   "source": [
    "def hausman_test(result_a, result_b, r):\n",
    "    \n",
    "    cov_a = result_a.cov_HC0[0:r,0:r]\n",
    "    cov_b = result_b.cov_HC0[0:r,0:r]\n",
    "    \n",
    "    beta_a = result_a.params[0:r]\n",
    "    beta_b = result_b.params[0:r]\n",
    "    \n",
    "    wald_stat = np.matrix(beta_a - beta_b) * np.linalg.inv(np.matrix(cov_b - cov_a)) * np.matrix(beta_a - beta_b).T\n",
    "    pval = 1 - chi2.cdf(wald_stat, r-1)\n",
    "    \n",
    "    return wald_stat, pval\n",
    "\n",
    "def get_sig_stars(p_val, p_value_labels = {0.05: '*', 0.01: '**', 0.001: '***'}, as_latex = False):\n",
    "\n",
    "    below_ind = np.where([p_val < x for x in p_value_labels.keys()])[0]\n",
    "    below_vals = [list(p_value_labels.keys())[i] for i in below_ind]\n",
    "    \n",
    "    if not below_vals:\n",
    "        stars = ''\n",
    "    else:\n",
    "        min_p_val = np.min(below_vals)\n",
    "        stars = p_value_labels[min_p_val]\n",
    "        \n",
    "    if as_latex:\n",
    "        if not stars:\n",
    "            return ''\n",
    "        else:\n",
    "            return '$^{' + stars + '}$'\n",
    "    else:\n",
    "        return stars"
   ]
  },
  {
   "cell_type": "markdown",
   "metadata": {},
   "source": [
    "# Params"
   ]
  },
  {
   "cell_type": "code",
   "execution_count": 558,
   "metadata": {},
   "outputs": [],
   "source": [
    "workbook_file_loc = '../analysis/results/parametric_regressions_all_limitasdf.xlsx'\n",
    "sample_query = 'OrderType == \"Limit\" & Exchange != \"Otaher\"'"
   ]
  },
  {
   "cell_type": "markdown",
   "metadata": {},
   "source": [
    "# Load Data"
   ]
  },
  {
   "cell_type": "code",
   "execution_count": 559,
   "metadata": {},
   "outputs": [
    {
     "name": "stdout",
     "output_type": "stream",
     "text": [
      "Market Centers: ['AQUA' 'ARCA' 'BNYC' 'CDRG' 'CITI' 'EDGX' 'FBCO' 'G1ES' 'SGMA' 'UBSS'\n",
      " 'VRTU' 'WOLV']\n",
      "Brokers: ['Deutsche' 'Credit Suisse' 'Barclays Capital' 'BMO Capital' 'BTIG'\n",
      " 'TD Ameritrade' 'Insigneo Securities' 'Bank of the West'\n",
      " 'Boenning Scattergood' 'Edward Jones' 'Hollencrest Securities' 'AXA'\n",
      " 'COR Clearing' 'DA Davidson' 'Euro Pacific Capital' 'Florida Atlantic'\n",
      " 'LPL' 'DST Market Services' 'Aurora Capital' 'Corporate Investment Group'\n",
      " 'E1 Asset Mgmt' 'Elish Elish' 'Dakota Securities' 'Benjamin Jerold'\n",
      " 'INTL FCStone' 'Bull Market Securities' 'Fifth Third' 'Freedom Investors'\n",
      " 'Inlet Securities' 'Cambria Capital' 'JP Morgan' 'Evercore Group'\n",
      " 'BGC Financial']\n",
      "Samples: 3418\n",
      "Sparsity: 43.39%\n"
     ]
    },
    {
     "data": {
      "text/html": [
       "<div>\n",
       "<style scoped>\n",
       "    .dataframe tbody tr th:only-of-type {\n",
       "        vertical-align: middle;\n",
       "    }\n",
       "\n",
       "    .dataframe tbody tr th {\n",
       "        vertical-align: top;\n",
       "    }\n",
       "\n",
       "    .dataframe thead th {\n",
       "        text-align: right;\n",
       "    }\n",
       "</style>\n",
       "<table border=\"1\" class=\"dataframe\">\n",
       "  <thead>\n",
       "    <tr style=\"text-align: right;\">\n",
       "      <th></th>\n",
       "      <th>MarketCenter</th>\n",
       "      <th>Quarter</th>\n",
       "      <th>Exchange</th>\n",
       "      <th>OrderCode</th>\n",
       "      <th>CoveredOrders</th>\n",
       "      <th>CoveredShares</th>\n",
       "      <th>CancelledShares</th>\n",
       "      <th>MktCtrExecShares</th>\n",
       "      <th>AwayExecShares</th>\n",
       "      <th>ExecShares_0_9</th>\n",
       "      <th>...</th>\n",
       "      <th>dummy_TDAmeritradeG1ESNYSE</th>\n",
       "      <th>dummy_TDAmeritradeG1ESOther</th>\n",
       "      <th>dummy_TDAmeritradeSGMANASDAQ</th>\n",
       "      <th>dummy_TDAmeritradeSGMANYSE</th>\n",
       "      <th>dummy_TDAmeritradeSGMAOther</th>\n",
       "      <th>dummy_TDAmeritradeUBSSOther</th>\n",
       "      <th>dummy_TDAmeritradeVRTUNASDAQ</th>\n",
       "      <th>dummy_TDAmeritradeVRTUNYSE</th>\n",
       "      <th>dummy_TDAmeritradeVRTUOther</th>\n",
       "      <th>dummy_TDAmeritradeWOLVNYSE</th>\n",
       "    </tr>\n",
       "  </thead>\n",
       "  <tbody>\n",
       "    <tr>\n",
       "      <th>1303</th>\n",
       "      <td>CDRG</td>\n",
       "      <td>2016Q4</td>\n",
       "      <td>NYSE</td>\n",
       "      <td>12</td>\n",
       "      <td>48438354</td>\n",
       "      <td>19003828482</td>\n",
       "      <td>12077877502</td>\n",
       "      <td>6909125882</td>\n",
       "      <td>5894174</td>\n",
       "      <td>6828573150</td>\n",
       "      <td>...</td>\n",
       "      <td>0</td>\n",
       "      <td>0</td>\n",
       "      <td>0</td>\n",
       "      <td>0</td>\n",
       "      <td>0</td>\n",
       "      <td>0</td>\n",
       "      <td>0</td>\n",
       "      <td>0</td>\n",
       "      <td>0</td>\n",
       "      <td>0</td>\n",
       "    </tr>\n",
       "    <tr>\n",
       "      <th>4965</th>\n",
       "      <td>UBSS</td>\n",
       "      <td>2014Q2</td>\n",
       "      <td>NYSE</td>\n",
       "      <td>12</td>\n",
       "      <td>90105708</td>\n",
       "      <td>29413322282</td>\n",
       "      <td>25161210076</td>\n",
       "      <td>2309175286</td>\n",
       "      <td>1182631132</td>\n",
       "      <td>3426069328</td>\n",
       "      <td>...</td>\n",
       "      <td>0</td>\n",
       "      <td>0</td>\n",
       "      <td>0</td>\n",
       "      <td>0</td>\n",
       "      <td>0</td>\n",
       "      <td>0</td>\n",
       "      <td>0</td>\n",
       "      <td>0</td>\n",
       "      <td>0</td>\n",
       "      <td>0</td>\n",
       "    </tr>\n",
       "    <tr>\n",
       "      <th>2838</th>\n",
       "      <td>FBCO</td>\n",
       "      <td>2015Q1</td>\n",
       "      <td>Other</td>\n",
       "      <td>12</td>\n",
       "      <td>35306</td>\n",
       "      <td>55140676</td>\n",
       "      <td>3575058</td>\n",
       "      <td>49375430</td>\n",
       "      <td>1861392</td>\n",
       "      <td>48674102</td>\n",
       "      <td>...</td>\n",
       "      <td>0</td>\n",
       "      <td>0</td>\n",
       "      <td>0</td>\n",
       "      <td>0</td>\n",
       "      <td>0</td>\n",
       "      <td>0</td>\n",
       "      <td>0</td>\n",
       "      <td>0</td>\n",
       "      <td>0</td>\n",
       "      <td>0</td>\n",
       "    </tr>\n",
       "    <tr>\n",
       "      <th>1818</th>\n",
       "      <td>CDRG</td>\n",
       "      <td>2017Q4</td>\n",
       "      <td>NASDAQ</td>\n",
       "      <td>12</td>\n",
       "      <td>20992422</td>\n",
       "      <td>9303077702</td>\n",
       "      <td>6883179156</td>\n",
       "      <td>2398298526</td>\n",
       "      <td>15581398</td>\n",
       "      <td>2355136718</td>\n",
       "      <td>...</td>\n",
       "      <td>0</td>\n",
       "      <td>0</td>\n",
       "      <td>0</td>\n",
       "      <td>0</td>\n",
       "      <td>0</td>\n",
       "      <td>0</td>\n",
       "      <td>0</td>\n",
       "      <td>0</td>\n",
       "      <td>0</td>\n",
       "      <td>0</td>\n",
       "    </tr>\n",
       "    <tr>\n",
       "      <th>2903</th>\n",
       "      <td>FBCO</td>\n",
       "      <td>2015Q3</td>\n",
       "      <td>NASDAQ</td>\n",
       "      <td>12</td>\n",
       "      <td>162752</td>\n",
       "      <td>115728508</td>\n",
       "      <td>18510462</td>\n",
       "      <td>97033814</td>\n",
       "      <td>0</td>\n",
       "      <td>94108482</td>\n",
       "      <td>...</td>\n",
       "      <td>0</td>\n",
       "      <td>0</td>\n",
       "      <td>0</td>\n",
       "      <td>0</td>\n",
       "      <td>0</td>\n",
       "      <td>0</td>\n",
       "      <td>0</td>\n",
       "      <td>0</td>\n",
       "      <td>0</td>\n",
       "      <td>0</td>\n",
       "    </tr>\n",
       "  </tbody>\n",
       "</table>\n",
       "<p>5 rows × 496 columns</p>\n",
       "</div>"
      ],
      "text/plain": [
       "     MarketCenter Quarter Exchange  OrderCode  CoveredOrders  CoveredShares  \\\n",
       "1303         CDRG  2016Q4     NYSE         12       48438354    19003828482   \n",
       "4965         UBSS  2014Q2     NYSE         12       90105708    29413322282   \n",
       "2838         FBCO  2015Q1    Other         12          35306       55140676   \n",
       "1818         CDRG  2017Q4   NASDAQ         12       20992422     9303077702   \n",
       "2903         FBCO  2015Q3   NASDAQ         12         162752      115728508   \n",
       "\n",
       "      CancelledShares  MktCtrExecShares  AwayExecShares  ExecShares_0_9  \\\n",
       "1303      12077877502        6909125882         5894174      6828573150   \n",
       "4965      25161210076        2309175286      1182631132      3426069328   \n",
       "2838          3575058          49375430         1861392        48674102   \n",
       "1818       6883179156        2398298526        15581398      2355136718   \n",
       "2903         18510462          97033814               0        94108482   \n",
       "\n",
       "                 ...              dummy_TDAmeritradeG1ESNYSE  \\\n",
       "1303             ...                                       0   \n",
       "4965             ...                                       0   \n",
       "2838             ...                                       0   \n",
       "1818             ...                                       0   \n",
       "2903             ...                                       0   \n",
       "\n",
       "      dummy_TDAmeritradeG1ESOther  dummy_TDAmeritradeSGMANASDAQ  \\\n",
       "1303                            0                             0   \n",
       "4965                            0                             0   \n",
       "2838                            0                             0   \n",
       "1818                            0                             0   \n",
       "2903                            0                             0   \n",
       "\n",
       "      dummy_TDAmeritradeSGMANYSE  dummy_TDAmeritradeSGMAOther  \\\n",
       "1303                           0                            0   \n",
       "4965                           0                            0   \n",
       "2838                           0                            0   \n",
       "1818                           0                            0   \n",
       "2903                           0                            0   \n",
       "\n",
       "      dummy_TDAmeritradeUBSSOther  dummy_TDAmeritradeVRTUNASDAQ  \\\n",
       "1303                            0                             0   \n",
       "4965                            0                             0   \n",
       "2838                            0                             0   \n",
       "1818                            0                             0   \n",
       "2903                            0                             0   \n",
       "\n",
       "      dummy_TDAmeritradeVRTUNYSE  dummy_TDAmeritradeVRTUOther  \\\n",
       "1303                           0                            0   \n",
       "4965                           0                            0   \n",
       "2838                           0                            0   \n",
       "1818                           0                            0   \n",
       "2903                           0                            0   \n",
       "\n",
       "      dummy_TDAmeritradeWOLVNYSE  \n",
       "1303                           0  \n",
       "4965                           0  \n",
       "2838                           0  \n",
       "1818                           0  \n",
       "2903                           0  \n",
       "\n",
       "[5 rows x 496 columns]"
      ]
     },
     "execution_count": 559,
     "metadata": {},
     "output_type": "execute_result"
    }
   ],
   "source": [
    "# demeaned for fixed effects\n",
    "data_df = pd.read_csv('../data/processed/regression_data_levels_demeaned.csv')\n",
    "data_df['PrImp_Pct_Rebate_Dummy'] = data_df['PrImp_Pct'] * data_df['Rebate_Dummy']\n",
    "data_df['PrImp_AvgAmt_Rebate_Dummy'] = data_df['PrImp_AvgAmt'] * data_df['Rebate_Dummy']\n",
    "data_df['PrImp_ExpAmt_Rebate_Dummy'] = data_df['PrImp_ExpAmt'] * data_df['Rebate_Dummy']\n",
    "data_df['PrImp_AvgT_Rebate_Dummy'] = data_df['PrImp_AvgT'] * data_df['Rebate_Dummy']\n",
    "data_df['All_AvgT_Rebate_Dummy'] = data_df['All_AvgT'] * data_df['Rebate_Dummy']\n",
    "data_df_dmd = data_df.copy()\n",
    "\n",
    "# levels for random effects\n",
    "data_df = pd.read_csv('../data/processed/regression_data_levels.csv')\n",
    "data_df['PrImp_Pct_Rebate_Dummy'] = data_df['PrImp_Pct'] * data_df['Rebate_Dummy']\n",
    "data_df['PrImp_AvgAmt_Rebate_Dummy'] = data_df['PrImp_AvgAmt'] * data_df['Rebate_Dummy']\n",
    "data_df['PrImp_ExpAmt_Rebate_Dummy'] = data_df['PrImp_ExpAmt'] * data_df['Rebate_Dummy']\n",
    "data_df['PrImp_AvgT_Rebate_Dummy'] = data_df['PrImp_AvgT'] * data_df['Rebate_Dummy']\n",
    "data_df['All_AvgT_Rebate_Dummy'] = data_df['All_AvgT'] * data_df['Rebate_Dummy']\n",
    "\n",
    "\n",
    "# Info\n",
    "print('Market Centers: ', end = '') \n",
    "print(data_df['MarketCenter'].unique())\n",
    "\n",
    "print('Brokers: ', end = '') \n",
    "print(data_df['Broker'].unique())\n",
    "\n",
    "\n",
    "sample_frac = 1 # None => All obs\n",
    "data_df = data_df.sample(frac = sample_frac).query(sample_query)\n",
    "\n",
    "print('Samples: %d' % data_df.shape[0])\n",
    "print('Sparsity: %0.2f%%' % (100*data_df.query('MktShare == 0').shape[0] / data_df.shape[0]))\n",
    "\n",
    "# Add dummy vars to levels\n",
    "\n",
    "data_df['obs_id'] = data_df['Broker'].apply(lambda x: x.replace(\" \", \"\")) + data_df['MarketCenter'] + data_df['Exchange'] \n",
    "data_df = pd.get_dummies(data_df, columns = ['obs_id'], prefix = 'dummy')\n",
    "\n",
    "dummy_coeff_cols = [x for x in list(data_df.columns) if x[:5] == 'dummy']\n",
    "dummy_coeff_formula = ' + '.join(dummy_coeff_cols)\n",
    "\n",
    "data_df.head()"
   ]
  },
  {
   "cell_type": "markdown",
   "metadata": {},
   "source": [
    "# Regressions "
   ]
  },
  {
   "cell_type": "code",
   "execution_count": 560,
   "metadata": {},
   "outputs": [],
   "source": [
    "# Fits\n",
    "# fit1_formula = 'MktShare ~ PrImp_Pct + PrImp_AvgAmt + PrImp_AvgT'\n",
    "# fit2_formula = 'MktShare ~ PrImp_ExpAmt + PrImp_AvgT'\n",
    "# fit3_formula = 'MktShare ~ PrImp_Pct + PrImp_AvgAmt + All_AvgT'\n",
    "# fit4_formula = 'MktShare ~ PrImp_ExpAmt + All_AvgT'\n",
    "\n",
    "fit1_formula = 'MktShare ~ PrImp_Pct + PrImp_Pct_Rebate_Dummy + PrImp_AvgAmt + PrImp_AvgAmt_Rebate_Dummy + PrImp_AvgT + PrImp_AvgT_Rebate_Dummy'\n",
    "fit2_formula = 'MktShare ~ PrImp_ExpAmt + PrImp_ExpAmt_Rebate_Dummy + PrImp_AvgT + PrImp_AvgT_Rebate_Dummy'\n",
    "fit3_formula = 'MktShare ~ PrImp_Pct + PrImp_Pct_Rebate_Dummy + PrImp_AvgAmt + PrImp_AvgAmt_Rebate_Dummy + All_AvgT + All_AvgT_Rebate_Dummy'\n",
    "fit4_formula = 'MktShare ~ PrImp_ExpAmt + PrImp_ExpAmt_Rebate_Dummy + All_AvgT + All_AvgT_Rebate_Dummy'\n",
    "\n",
    "\n",
    "formulaCols = lambda x: x.replace(' ', '').replace('~', '+').split('+') \n",
    "fit_formulae = [fit1_formula, fit2_formula, fit3_formula, fit4_formula]\n",
    "fit_formulae = [formulaCols(x) for x in fit_formulae]\n",
    "\n",
    "# Store results\n",
    "fit_results_re = [None] * len(fit_formulae)\n",
    "fit_results_fe = [None] * len(fit_formulae)"
   ]
  },
  {
   "cell_type": "markdown",
   "metadata": {},
   "source": [
    "## Results"
   ]
  },
  {
   "cell_type": "code",
   "execution_count": 561,
   "metadata": {},
   "outputs": [
    {
     "name": "stdout",
     "output_type": "stream",
     "text": [
      "Regressing with fit 1...\n",
      "Regressing with fit 2...\n",
      "Regressing with fit 3...\n",
      "Regressing with fit 4...\n"
     ]
    }
   ],
   "source": [
    "i = 1\n",
    "\n",
    "## Get results\n",
    "for i in range(0, len(fit_formulae)):\n",
    "    \n",
    "    print('Regressing with fit %d...' % (i + 1) )\n",
    "\n",
    "    data = data_df_dmd[fit_formulae[i]]\n",
    "    \n",
    "    X = data.iloc[:,1:]\n",
    "    Y = data.iloc[:,0]\n",
    "\n",
    "    fit_results_fe[i] = sm.OLS(Y, X, missing = 'drop').fit().get_robustcov_results(cov_type='HC0')\n",
    "    \n",
    "    # include dummies and drop one \n",
    "    data = data_df[fit_formulae[i] + dummy_coeff_cols[:-1]]\n",
    "    \n",
    "    X = data.iloc[:,1:]\n",
    "    Y = data.iloc[:,0]\n",
    "\n",
    "    fit_results_re[i] = sm.OLS(Y, sm.add_constant(X), missing = 'drop').fit().get_robustcov_results(cov_type='HC0')\n",
    "    "
   ]
  },
  {
   "cell_type": "markdown",
   "metadata": {},
   "source": [
    "## Run Hausman Tests"
   ]
  },
  {
   "cell_type": "code",
   "execution_count": 562,
   "metadata": {},
   "outputs": [],
   "source": [
    "fit_results = [None] * len(fit_formulae)\n",
    "hausman_results = [None] * len(fit_formulae)\n",
    "\n",
    "for i in range(0, len(fit_formulae)):\n",
    "\n",
    "    n_var = len(fit_formulae[i]) - 1\n",
    "\n",
    "    wald_stat, pval = hausman_test(fit_results_re[i], fit_results_fe[i], n_var)\n",
    "    \n",
    "    if pval < 0.05:\n",
    "        fit_results[i] = fit_results_fe[i]\n",
    "        hausman_results[i] = 'FE'\n",
    "    else:\n",
    "        fit_results[i] = fit_results_re[i]\n",
    "        hausman_results[i] = 'RE'"
   ]
  },
  {
   "cell_type": "markdown",
   "metadata": {},
   "source": [
    "# Export"
   ]
  },
  {
   "cell_type": "code",
   "execution_count": 563,
   "metadata": {},
   "outputs": [],
   "source": [
    "from openpyxl import Workbook, load_workbook, utils\n",
    "from openpyxl.styles import Alignment, Font\n",
    "import string\n",
    "import csv"
   ]
  },
  {
   "cell_type": "code",
   "execution_count": 564,
   "metadata": {},
   "outputs": [],
   "source": [
    "## Open workbook\n",
    "wb = Workbook()"
   ]
  },
  {
   "cell_type": "markdown",
   "metadata": {},
   "source": [
    "## Coefficient Results"
   ]
  },
  {
   "cell_type": "code",
   "execution_count": 565,
   "metadata": {},
   "outputs": [],
   "source": [
    "for i in range(0, len(fit_results)):\n",
    "    \n",
    "    ws = wb.create_sheet(title = 'Fit ' + str(i+1) +' Results')\n",
    "    \n",
    "    # space out columns\n",
    "    ws.column_dimensions[\"A\"].width = 35\n",
    "    \n",
    "    for col in list('BCDEFG'):\n",
    "        ws.column_dimensions[col].width = 15\n",
    "    \n",
    "    # add data\n",
    "    reader = (fit_results[i].summary().as_csv()).split('\\n')\n",
    "    \n",
    "    random_effects_model = True\n",
    "\n",
    "    for row in reader:\n",
    "        if row[:5] != 'dummy':\n",
    "            ws.append(row.split(','))\n",
    "        else:\n",
    "            random_effects_model = False\n",
    "            \n",
    "    if random_effects_model:\n",
    "        ws['C1'] = 'Random Effects'\n",
    "    else:\n",
    "        ws['C1'] = 'Fixed Effects'"
   ]
  },
  {
   "cell_type": "markdown",
   "metadata": {},
   "source": [
    "## Save and Close"
   ]
  },
  {
   "cell_type": "code",
   "execution_count": 566,
   "metadata": {},
   "outputs": [],
   "source": [
    "del wb['Sheet']\n",
    "wb.save(workbook_file_loc)\n",
    "wb.close()"
   ]
  },
  {
   "cell_type": "markdown",
   "metadata": {},
   "source": [
    "# As LaTeX"
   ]
  },
  {
   "cell_type": "code",
   "execution_count": 567,
   "metadata": {},
   "outputs": [],
   "source": [
    "fit_results_dict = [None] * 4\n",
    "\n",
    "for i in range(0, len(fit_results)):\n",
    "    \n",
    "    coeffs = {}\n",
    "    stders = {}\n",
    "    \n",
    "    # Coefficients\n",
    "    for j in range(0, len(fit_formulae[i][1:])):\n",
    "    \n",
    "        stder = fit_results[i].HC0_se[j]\n",
    "        coeff = fit_results[i].params[j]\n",
    "        key = fit_formulae[i][1:][j]\n",
    "        \n",
    "        coeffs[key] = coeff\n",
    "        stders[key] = stder\n",
    "        \n",
    "    fit_results_dict[i] = {}\n",
    "    fit_results_dict[i]['coeffs'] = coeffs.copy()\n",
    "    fit_results_dict[i]['stders'] = stders.copy()"
   ]
  },
  {
   "cell_type": "code",
   "execution_count": 568,
   "metadata": {},
   "outputs": [
    {
     "name": "stdout",
     "output_type": "stream",
     "text": [
      "PrImp\\_Pct & 0.1432 &  & 0.1778 & \\\\\n",
      "  & (0.1097) &  & (0.1025) & \\\\ [0.5ex]\n",
      "PrImp\\_Pct$*$Rebate\\_Dummy & -0.281$^{***}$ &  & -0.2548$^{***}$ & \\\\\n",
      "  & (0.0602) &  & (0.06) & \\\\ [0.5ex]\n",
      "PrImp\\_AvgAmt & 0.067 &  & 0.0073 & \\\\\n",
      "  & (0.1306) &  & (0.1247) & \\\\ [0.5ex]\n",
      "PrImp\\_AvgAmt$*$Rebate\\_Dummy & 1.1547 &  & 1.8009 & \\\\\n",
      "  & (1.1739) &  & (1.2164) & \\\\ [0.5ex]\n",
      "PrImp\\_ExpAmt &  & 17.8577$^{***}$ &  & 17.1341$^{***}$\\\\\n",
      "  &  & (3.8352) &  & (3.8078)\\\\ [0.5ex]\n",
      "PrImp\\_ExpAmt$*$Rebate\\_Dummy &  & -11.675$^{*}$ &  & -11.962$^{*}$\\\\\n",
      "  &  & (4.9257) &  & (4.9188)\\\\ [0.5ex]\n",
      "PrImp\\_AvgT & 24.0354$^{***}$ & -0.0292$^{*}$ &  & \\\\\n",
      "  & (4.7768) & (0.013) &  & \\\\ [0.5ex]\n",
      "PrImp\\_AvgT$*$Rebate\\_Dummy & -0.0019$^{**}$ & 0.0288$^{*}$ &  & \\\\\n",
      "  & (0.0006) & (0.0131) &  & \\\\ [0.5ex]\n",
      "All\\_AvgT &  &  & 20.0124$^{***}$ & -0.0007\\\\\n",
      "  &  &  & (4.4945) & (0.0005)\\\\ [0.5ex]\n",
      "All\\_AvgT$*$Rebate\\_Dummy &  &  & -0.0014$^{***}$ & 0.0013\\\\\n",
      "  &  &  & (0.0004) & (0.0007)\\\\ [0.5ex]\n"
     ]
    }
   ],
   "source": [
    "regressors = ['PrImp_Pct', 'PrImp_Pct_Rebate_Dummy', 'PrImp_AvgAmt', 'PrImp_AvgAmt_Rebate_Dummy','PrImp_ExpAmt', \n",
    "     'PrImp_ExpAmt_Rebate_Dummy', 'PrImp_AvgT', 'PrImp_AvgT_Rebate_Dummy', 'All_AvgT', 'All_AvgT_Rebate_Dummy']\n",
    "\n",
    "\n",
    "for reg in regressors:\n",
    "    \n",
    "    line = reg.replace('_Rebate', '$*$Rebate').replace('_', '\\\\_')\n",
    "    line2 = ' '\n",
    "    \n",
    "    for i in range(0, len(fit_results_dict)):\n",
    "        \n",
    "        fit = fit_results_dict[i]\n",
    "        \n",
    "        if reg in fit['coeffs']:\n",
    "            \n",
    "            coef  = fit['coeffs'][reg]\n",
    "            stder = fit['stders'][reg]\n",
    "            tstat = coef / stder\n",
    "            pval  = 2 * (1- t.cdf(np.abs(tstat), int(fit_results[i].nobs) - len(fit['coeffs']) - 1) )\n",
    "         \n",
    "            line = line + ' & ' + str(np.round(coef, decimals = 4)) + get_sig_stars(pval, as_latex = True)\n",
    "            line2 = line2 + ' & (' + str(np.round(stder, decimals = 4)) + ')'\n",
    "        \n",
    "        else:\n",
    "            \n",
    "            line = line + ' & '\n",
    "            line2 = line2 + ' & '\n",
    "    \n",
    "    print(line + '\\\\\\\\')\n",
    "    print(line2 + '\\\\\\\\ [0.5ex]')"
   ]
  },
  {
   "cell_type": "code",
   "execution_count": 569,
   "metadata": {},
   "outputs": [],
   "source": [
    "obs_line = 'N'\n",
    "model_line = 'Model'\n",
    "r_2_line = 'R$^{2}$'\n",
    "r_2adj_line = 'Adjusted R$^{2}$'\n",
    "f_stat = 'F Statistic'\n",
    "\n",
    "for i in range(0, len(fit_results)):\n",
    "\n",
    "    fit = fit_results[i]\n",
    "    \n",
    "    obs_line = obs_line + ' & ' + str(int(fit.nobs))\n",
    "    model_line = model_line + ' & ' +  hausman_results[i]\n",
    "    r_2_line = r_2_line + ' & ' +  str(np.round(fit.rsquared, decimals = 3))\n",
    "    r_2adj_line = r_2adj_line + ' & ' +  str(np.round(fit.rsquared_adj, decimals = 3))\n",
    "    \n",
    "    if np.abs(fit.fvalue) > 100:\n",
    "        fvalue_label = '$>$100$^{***}$'\n",
    "    else:\n",
    "        fvalue_label = str(np.round(float(fit.fvalue), decimals = 3)) + get_sig_stars(fit.f_pvalue, as_latex = True) \n",
    "        \n",
    "    f_stat = f_stat + ' & ' + fvalue_label\n",
    "    "
   ]
  },
  {
   "cell_type": "code",
   "execution_count": 570,
   "metadata": {},
   "outputs": [
    {
     "name": "stdout",
     "output_type": "stream",
     "text": [
      "Model & RE & FE & RE & FE \\\\ \n",
      "N & 3411 & 2895 & 3411 & 2895 \\\\ \n",
      "R$^{2}$ & 0.504 & 0.01 & 0.507 & 0.01 \\\\ \n",
      "Adjusted R$^{2}$ & 0.429 & 0.008 & 0.433 & 0.008 \\\\ \n",
      "F Statistic & $>$100$^{***}$ & 7.146$^{***}$ & $>$100$^{***}$ & 6.435$^{***}$ \\\\ \n"
     ]
    }
   ],
   "source": [
    "print(' \\\\\\\\ \\n'.join([model_line, obs_line, r_2_line, r_2adj_line, f_stat]), end = ' \\\\\\\\ \\n')"
   ]
  },
  {
   "cell_type": "code",
   "execution_count": 571,
   "metadata": {},
   "outputs": [
    {
     "data": {
      "text/plain": [
       "array(0.)"
      ]
     },
     "execution_count": 571,
     "metadata": {},
     "output_type": "execute_result"
    }
   ],
   "source": [
    "fit_results[2].f_pvalue"
   ]
  },
  {
   "cell_type": "code",
   "execution_count": 572,
   "metadata": {},
   "outputs": [
    {
     "data": {
      "text/plain": [
       "['RE', 'FE', 'RE', 'FE']"
      ]
     },
     "execution_count": 572,
     "metadata": {},
     "output_type": "execute_result"
    }
   ],
   "source": [
    "hausman_results"
   ]
  },
  {
   "cell_type": "code",
   "execution_count": null,
   "metadata": {},
   "outputs": [],
   "source": []
  },
  {
   "cell_type": "code",
   "execution_count": null,
   "metadata": {},
   "outputs": [],
   "source": []
  },
  {
   "cell_type": "code",
   "execution_count": null,
   "metadata": {},
   "outputs": [],
   "source": []
  },
  {
   "cell_type": "code",
   "execution_count": null,
   "metadata": {},
   "outputs": [],
   "source": []
  }
 ],
 "metadata": {
  "kernelspec": {
   "display_name": "Python 3",
   "language": "python",
   "name": "python3"
  },
  "language_info": {
   "codemirror_mode": {
    "name": "ipython",
    "version": 3
   },
   "file_extension": ".py",
   "mimetype": "text/x-python",
   "name": "python",
   "nbconvert_exporter": "python",
   "pygments_lexer": "ipython3",
   "version": "3.5.2"
  }
 },
 "nbformat": 4,
 "nbformat_minor": 2
}
