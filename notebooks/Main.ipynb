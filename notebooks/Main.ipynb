{
 "cells": [
  {
   "cell_type": "code",
   "execution_count": 1,
   "metadata": {
    "ExecuteTime": {
     "end_time": "2018-02-08T17:28:14.465908Z",
     "start_time": "2018-02-08T17:28:12.644978Z"
    }
   },
   "outputs": [],
   "source": [
    "import csv\n",
    "import numpy as np\n",
    "import matplotlib\n",
    "import matplotlib.pyplot as plt\n",
    "import pandas as pd\n",
    "import statsmodels.formula.api as smf\n",
    "import os\n",
    "from datetime import datetime\n",
    "\n",
    "%matplotlib inline"
   ]
  },
  {
   "cell_type": "markdown",
   "metadata": {
    "ExecuteTime": {
     "end_time": "2018-02-08T01:49:50.578132Z",
     "start_time": "2018-02-08T01:49:50.575570Z"
    }
   },
   "source": [
    "# Functions"
   ]
  },
  {
   "cell_type": "code",
   "execution_count": 2,
   "metadata": {
    "ExecuteTime": {
     "end_time": "2018-02-08T17:28:15.395858Z",
     "start_time": "2018-02-08T17:28:15.386288Z"
    }
   },
   "outputs": [],
   "source": [
    "def import_dict(dict_loc):\n",
    "    \"\"\" Loads a dictionary from a csv \"\"\"\n",
    "    df = pd.read_csv(dict_loc)\n",
    "    df.index = df.iloc[:,0]\n",
    "    df = df.drop(df.columns[0], axis = 1)\n",
    "    return df.to_dict()\n",
    "\n",
    "def convertDateToQuarter(date):\n",
    "    quarter = (date.month-1)//3 + 1\n",
    "    return (str(date.year) + 'Q' + str(quarter))"
   ]
  },
  {
   "cell_type": "markdown",
   "metadata": {
    "ExecuteTime": {
     "end_time": "2018-02-08T03:24:59.900269Z",
     "start_time": "2018-02-08T03:24:59.874250Z"
    }
   },
   "source": [
    "# Data Import"
   ]
  },
  {
   "cell_type": "markdown",
   "metadata": {
    "ExecuteTime": {
     "end_time": "2018-02-08T03:25:10.981086Z",
     "start_time": "2018-02-08T03:25:10.976431Z"
    }
   },
   "source": [
    "## Directories"
   ]
  },
  {
   "cell_type": "code",
   "execution_count": 3,
   "metadata": {
    "ExecuteTime": {
     "end_time": "2018-02-08T17:28:17.329908Z",
     "start_time": "2018-02-08T17:28:17.327018Z"
    }
   },
   "outputs": [],
   "source": [
    "# 605 and 606 csv directory\n",
    "dir_605 = '../data/605/'\n",
    "dir_606 = '../data/606/'"
   ]
  },
  {
   "cell_type": "markdown",
   "metadata": {},
   "source": [
    "## Raw Data"
   ]
  },
  {
   "cell_type": "code",
   "execution_count": 4,
   "metadata": {
    "ExecuteTime": {
     "end_time": "2018-02-08T17:28:18.438842Z",
     "start_time": "2018-02-08T17:28:18.315043Z"
    }
   },
   "outputs": [],
   "source": [
    "## Import 605 data\n",
    "# Find market center csvs\n",
    "marketcenter_csv_list = [x for x in os.listdir(dir_605) if x[-4:] == '.csv']\n",
    "# Get .csv directories\n",
    "marketcenter_csv_dirs = [dir_605 + x for x in marketcenter_csv_list]\n",
    "# Read .csv files\n",
    "csv_df_list_605 = [pd.read_csv(file, sep = ',') for file in marketcenter_csv_dirs]\n",
    "# Merge each marketcenter's data\n",
    "rawdata_605 = pd.concat(csv_df_list_605)\n",
    "# Clean up\n",
    "del(csv_df_list_605)"
   ]
  },
  {
   "cell_type": "code",
   "execution_count": 5,
   "metadata": {
    "ExecuteTime": {
     "end_time": "2018-02-08T17:28:24.613165Z",
     "start_time": "2018-02-08T17:28:18.947573Z"
    }
   },
   "outputs": [],
   "source": [
    "## Import 606 Data\n",
    "\n",
    "csv_df_list_606 = []\n",
    "# Find broker folders\n",
    "broker_folders = [x for x in os.listdir(dir_606) if '.' not in x]\n",
    "# Merge .csv's for each broker\n",
    "for broker in broker_folders:\n",
    "    # Get file locations of csv's for each broker\n",
    "    directory = dir_606 + broker\n",
    "    broker_csv_list  = [x for x in os.listdir(directory)]\n",
    "    broker_csv_dirs  = [dir_606 + broker + '/' + csv for csv in broker_csv_list]\n",
    "    # Read csv's as dataframes\n",
    "    csv_df_list_606_broker = [pd.read_csv(file) for file in broker_csv_dirs]\n",
    "    csv_df_list_606.append(pd.concat(csv_df_list_606_broker))\n",
    "    \n",
    "# Merge each broker's data\n",
    "rawdata_606 = pd.concat(csv_df_list_606)\n",
    "# Clean up\n",
    "del(csv_df_list_606)"
   ]
  },
  {
   "cell_type": "markdown",
   "metadata": {},
   "source": [
    "## Dictionaries"
   ]
  },
  {
   "cell_type": "code",
   "execution_count": 6,
   "metadata": {
    "ExecuteTime": {
     "end_time": "2018-02-08T17:29:17.154099Z",
     "start_time": "2018-02-08T17:29:17.118121Z"
    }
   },
   "outputs": [],
   "source": [
    "symbol_dict = import_dict('../data/keys/symbols.csv')['Exchange']\n",
    "mktctr_mpid_dict = import_dict('../data/keys/mpids.csv')['MPID']\n",
    "ordertype_dict = {11: 'Market', 12: 'Limit'}\n",
    "broker_vol_dict = import_dict('../data/keys/broker_volumes.csv')"
   ]
  },
  {
   "cell_type": "markdown",
   "metadata": {
    "ExecuteTime": {
     "end_time": "2018-02-08T03:37:12.188049Z",
     "start_time": "2018-02-08T03:37:12.154825Z"
    }
   },
   "source": [
    "# Data Prep"
   ]
  },
  {
   "cell_type": "markdown",
   "metadata": {},
   "source": [
    "## Broker Data"
   ]
  },
  {
   "cell_type": "code",
   "execution_count": 7,
   "metadata": {
    "ExecuteTime": {
     "end_time": "2018-02-08T17:29:30.275411Z",
     "start_time": "2018-02-08T17:29:25.844672Z"
    }
   },
   "outputs": [
    {
     "data": {
      "text/html": [
       "<div>\n",
       "<style scoped>\n",
       "    .dataframe tbody tr th:only-of-type {\n",
       "        vertical-align: middle;\n",
       "    }\n",
       "\n",
       "    .dataframe tbody tr th {\n",
       "        vertical-align: top;\n",
       "    }\n",
       "\n",
       "    .dataframe thead th {\n",
       "        text-align: right;\n",
       "    }\n",
       "</style>\n",
       "<table border=\"1\" class=\"dataframe\">\n",
       "  <thead>\n",
       "    <tr style=\"text-align: right;\">\n",
       "      <th></th>\n",
       "      <th>Broker</th>\n",
       "      <th>Exchange</th>\n",
       "      <th>OrderType</th>\n",
       "      <th>MktShare</th>\n",
       "      <th>Rebate</th>\n",
       "      <th>MarketCenter</th>\n",
       "      <th>Quarter</th>\n",
       "      <th>Rebate_Dummy</th>\n",
       "    </tr>\n",
       "  </thead>\n",
       "  <tbody>\n",
       "    <tr>\n",
       "      <th>0</th>\n",
       "      <td>Aurora Capital</td>\n",
       "      <td>NYSE</td>\n",
       "      <td>Total</td>\n",
       "      <td>0.4190</td>\n",
       "      <td>0.0</td>\n",
       "      <td>KCG</td>\n",
       "      <td>2014Q1</td>\n",
       "      <td>0</td>\n",
       "    </tr>\n",
       "    <tr>\n",
       "      <th>1</th>\n",
       "      <td>Aurora Capital</td>\n",
       "      <td>NYSE</td>\n",
       "      <td>Total</td>\n",
       "      <td>0.3597</td>\n",
       "      <td>0.0</td>\n",
       "      <td>UBSS</td>\n",
       "      <td>2014Q1</td>\n",
       "      <td>0</td>\n",
       "    </tr>\n",
       "    <tr>\n",
       "      <th>2</th>\n",
       "      <td>Aurora Capital</td>\n",
       "      <td>NYSE</td>\n",
       "      <td>Total</td>\n",
       "      <td>0.2174</td>\n",
       "      <td>0.0</td>\n",
       "      <td>ATDF</td>\n",
       "      <td>2014Q1</td>\n",
       "      <td>0</td>\n",
       "    </tr>\n",
       "    <tr>\n",
       "      <th>3</th>\n",
       "      <td>Aurora Capital</td>\n",
       "      <td>NASDAQ</td>\n",
       "      <td>Total</td>\n",
       "      <td>0.4343</td>\n",
       "      <td>0.0</td>\n",
       "      <td>KCG</td>\n",
       "      <td>2014Q1</td>\n",
       "      <td>0</td>\n",
       "    </tr>\n",
       "    <tr>\n",
       "      <th>4</th>\n",
       "      <td>Aurora Capital</td>\n",
       "      <td>NASDAQ</td>\n",
       "      <td>Total</td>\n",
       "      <td>0.3743</td>\n",
       "      <td>0.0</td>\n",
       "      <td>ATDF</td>\n",
       "      <td>2014Q1</td>\n",
       "      <td>0</td>\n",
       "    </tr>\n",
       "  </tbody>\n",
       "</table>\n",
       "</div>"
      ],
      "text/plain": [
       "           Broker Exchange OrderType  MktShare  Rebate MarketCenter Quarter  \\\n",
       "0  Aurora Capital     NYSE     Total    0.4190     0.0          KCG  2014Q1   \n",
       "1  Aurora Capital     NYSE     Total    0.3597     0.0         UBSS  2014Q1   \n",
       "2  Aurora Capital     NYSE     Total    0.2174     0.0         ATDF  2014Q1   \n",
       "3  Aurora Capital   NASDAQ     Total    0.4343     0.0          KCG  2014Q1   \n",
       "4  Aurora Capital   NASDAQ     Total    0.3743     0.0         ATDF  2014Q1   \n",
       "\n",
       "   Rebate_Dummy  \n",
       "0             0  \n",
       "1             0  \n",
       "2             0  \n",
       "3             0  \n",
       "4             0  "
      ]
     },
     "execution_count": 7,
     "metadata": {},
     "output_type": "execute_result"
    }
   ],
   "source": [
    "# Import Data\n",
    "data_606 = rawdata_606.copy()\n",
    "\n",
    "# Fix Routing Venue labels\n",
    "data_606['RoutingVenue'] = data_606['RoutingVenue'].apply(\n",
    "    lambda x: mktctr_mpid_dict.get(x.strip(), \"Unknown_\" + str(x.strip())))\n",
    "\n",
    "# Convert date to quarter\n",
    "data_606['Quarter'] = data_606['Date'].apply(\n",
    "    lambda x: convertDateToQuarter(datetime.strptime(str(x), '%Y%m')))\n",
    "data_606['Quarter'] = pd.PeriodIndex(data_606['Quarter'], freq='Q').values\n",
    "data_606 = data_606.drop('Date', axis=1)\n",
    "\n",
    "# Change column names\n",
    "data_606 = data_606.rename(\n",
    "    columns={'RoutingVenue': 'MarketCenter', 'Pct': 'MktShare'})\n",
    "\n",
    "# Add binary var for presence of rebates\n",
    "data_606['Rebate_Dummy'] = (data_606['Rebate'].apply(lambda x: (x > 0))\n",
    "                            | data_606['Broker'].apply(lambda x: x == 'TD_Ameritrade')).apply(lambda x: int(x))\n",
    "\n",
    "\n",
    "data_606.head()"
   ]
  },
  {
   "cell_type": "markdown",
   "metadata": {
    "ExecuteTime": {
     "end_time": "2018-02-08T04:04:29.819085Z",
     "start_time": "2018-02-08T04:04:29.816237Z"
    }
   },
   "source": [
    "## Market Center Data"
   ]
  },
  {
   "cell_type": "code",
   "execution_count": 8,
   "metadata": {
    "ExecuteTime": {
     "end_time": "2018-02-08T17:29:32.688398Z",
     "start_time": "2018-02-08T17:29:30.593311Z"
    }
   },
   "outputs": [
    {
     "data": {
      "text/html": [
       "<div>\n",
       "<style scoped>\n",
       "    .dataframe tbody tr th:only-of-type {\n",
       "        vertical-align: middle;\n",
       "    }\n",
       "\n",
       "    .dataframe tbody tr th {\n",
       "        vertical-align: top;\n",
       "    }\n",
       "\n",
       "    .dataframe thead th {\n",
       "        text-align: right;\n",
       "    }\n",
       "</style>\n",
       "<table border=\"1\" class=\"dataframe\">\n",
       "  <thead>\n",
       "    <tr style=\"text-align: right;\">\n",
       "      <th></th>\n",
       "      <th>MarketCenter</th>\n",
       "      <th>Quarter</th>\n",
       "      <th>Exchange</th>\n",
       "      <th>OrderCode</th>\n",
       "      <th>CoveredOrders</th>\n",
       "      <th>CoveredShares</th>\n",
       "      <th>CancelledShares</th>\n",
       "      <th>MktCtrExecShares</th>\n",
       "      <th>AwayExecShares</th>\n",
       "      <th>ExecShares_0_9</th>\n",
       "      <th>...</th>\n",
       "      <th>PrImp_ExpAmt</th>\n",
       "      <th>All_AvgT</th>\n",
       "      <th>MktCtrAvg_PrImp_Pct</th>\n",
       "      <th>Rel_PrImp_Pct</th>\n",
       "      <th>MktCtrAvg_PrImp_AvgT</th>\n",
       "      <th>Rel_PrImp_AvgT</th>\n",
       "      <th>MktCtrAvg_PrImp_ExpAmt</th>\n",
       "      <th>Rel_PrImp_ExpAmt</th>\n",
       "      <th>MktCtrAvg_All_AvgT</th>\n",
       "      <th>Rel_All_AvgT</th>\n",
       "    </tr>\n",
       "  </thead>\n",
       "  <tbody>\n",
       "    <tr>\n",
       "      <th>0</th>\n",
       "      <td>ARCA</td>\n",
       "      <td>2015Q3</td>\n",
       "      <td>NASDAQ</td>\n",
       "      <td>11</td>\n",
       "      <td>167917</td>\n",
       "      <td>72636881</td>\n",
       "      <td>10384868</td>\n",
       "      <td>40788074</td>\n",
       "      <td>21463939</td>\n",
       "      <td>62072012</td>\n",
       "      <td>...</td>\n",
       "      <td>0.019544</td>\n",
       "      <td>0.671599</td>\n",
       "      <td>0.745672</td>\n",
       "      <td>-0.306562</td>\n",
       "      <td>0.438198</td>\n",
       "      <td>0.636061</td>\n",
       "      <td>0.010542</td>\n",
       "      <td>0.009003</td>\n",
       "      <td>0.474635</td>\n",
       "      <td>0.196964</td>\n",
       "    </tr>\n",
       "    <tr>\n",
       "      <th>1</th>\n",
       "      <td>ARCA</td>\n",
       "      <td>2015Q3</td>\n",
       "      <td>NASDAQ</td>\n",
       "      <td>12</td>\n",
       "      <td>11963921</td>\n",
       "      <td>3132598691</td>\n",
       "      <td>428908786</td>\n",
       "      <td>1832975495</td>\n",
       "      <td>73922935</td>\n",
       "      <td>1906190605</td>\n",
       "      <td>...</td>\n",
       "      <td>0.001719</td>\n",
       "      <td>0.156047</td>\n",
       "      <td>0.417352</td>\n",
       "      <td>-0.316506</td>\n",
       "      <td>0.395793</td>\n",
       "      <td>-0.372792</td>\n",
       "      <td>0.002790</td>\n",
       "      <td>-0.001072</td>\n",
       "      <td>21.679366</td>\n",
       "      <td>-21.523319</td>\n",
       "    </tr>\n",
       "    <tr>\n",
       "      <th>2</th>\n",
       "      <td>ARCA</td>\n",
       "      <td>2015Q3</td>\n",
       "      <td>NASDAQ</td>\n",
       "      <td>13</td>\n",
       "      <td>2049676</td>\n",
       "      <td>429176278</td>\n",
       "      <td>245833327</td>\n",
       "      <td>139132834</td>\n",
       "      <td>12298742</td>\n",
       "      <td>151102939</td>\n",
       "      <td>...</td>\n",
       "      <td>NaN</td>\n",
       "      <td>0.000000</td>\n",
       "      <td>0.000000</td>\n",
       "      <td>0.000000</td>\n",
       "      <td>NaN</td>\n",
       "      <td>NaN</td>\n",
       "      <td>NaN</td>\n",
       "      <td>NaN</td>\n",
       "      <td>0.000000</td>\n",
       "      <td>0.000000</td>\n",
       "    </tr>\n",
       "    <tr>\n",
       "      <th>3</th>\n",
       "      <td>ARCA</td>\n",
       "      <td>2015Q3</td>\n",
       "      <td>NASDAQ</td>\n",
       "      <td>14</td>\n",
       "      <td>30626255</td>\n",
       "      <td>7740311867</td>\n",
       "      <td>6336374765</td>\n",
       "      <td>1310626905</td>\n",
       "      <td>28550727</td>\n",
       "      <td>685596002</td>\n",
       "      <td>...</td>\n",
       "      <td>NaN</td>\n",
       "      <td>0.000000</td>\n",
       "      <td>0.000000</td>\n",
       "      <td>0.000000</td>\n",
       "      <td>NaN</td>\n",
       "      <td>NaN</td>\n",
       "      <td>NaN</td>\n",
       "      <td>NaN</td>\n",
       "      <td>0.000000</td>\n",
       "      <td>0.000000</td>\n",
       "    </tr>\n",
       "    <tr>\n",
       "      <th>4</th>\n",
       "      <td>ARCA</td>\n",
       "      <td>2015Q3</td>\n",
       "      <td>NASDAQ</td>\n",
       "      <td>15</td>\n",
       "      <td>87537916</td>\n",
       "      <td>54307617429</td>\n",
       "      <td>53536207786</td>\n",
       "      <td>551030623</td>\n",
       "      <td>5705856</td>\n",
       "      <td>162391561</td>\n",
       "      <td>...</td>\n",
       "      <td>NaN</td>\n",
       "      <td>0.000000</td>\n",
       "      <td>0.000000</td>\n",
       "      <td>0.000000</td>\n",
       "      <td>NaN</td>\n",
       "      <td>NaN</td>\n",
       "      <td>NaN</td>\n",
       "      <td>NaN</td>\n",
       "      <td>0.000000</td>\n",
       "      <td>0.000000</td>\n",
       "    </tr>\n",
       "  </tbody>\n",
       "</table>\n",
       "<p>5 rows × 45 columns</p>\n",
       "</div>"
      ],
      "text/plain": [
       "  MarketCenter Quarter Exchange  OrderCode  CoveredOrders  CoveredShares  \\\n",
       "0         ARCA  2015Q3   NASDAQ         11         167917       72636881   \n",
       "1         ARCA  2015Q3   NASDAQ         12       11963921     3132598691   \n",
       "2         ARCA  2015Q3   NASDAQ         13        2049676      429176278   \n",
       "3         ARCA  2015Q3   NASDAQ         14       30626255     7740311867   \n",
       "4         ARCA  2015Q3   NASDAQ         15       87537916    54307617429   \n",
       "\n",
       "   CancelledShares  MktCtrExecShares  AwayExecShares  ExecShares_0_9  \\\n",
       "0         10384868          40788074        21463939        62072012   \n",
       "1        428908786        1832975495        73922935      1906190605   \n",
       "2        245833327         139132834        12298742       151102939   \n",
       "3       6336374765        1310626905        28550727       685596002   \n",
       "4      53536207786         551030623         5705856       162391561   \n",
       "\n",
       "       ...       PrImp_ExpAmt  All_AvgT  MktCtrAvg_PrImp_Pct  Rel_PrImp_Pct  \\\n",
       "0      ...           0.019544  0.671599             0.745672      -0.306562   \n",
       "1      ...           0.001719  0.156047             0.417352      -0.316506   \n",
       "2      ...                NaN  0.000000             0.000000       0.000000   \n",
       "3      ...                NaN  0.000000             0.000000       0.000000   \n",
       "4      ...                NaN  0.000000             0.000000       0.000000   \n",
       "\n",
       "   MktCtrAvg_PrImp_AvgT  Rel_PrImp_AvgT  MktCtrAvg_PrImp_ExpAmt  \\\n",
       "0              0.438198        0.636061                0.010542   \n",
       "1              0.395793       -0.372792                0.002790   \n",
       "2                   NaN             NaN                     NaN   \n",
       "3                   NaN             NaN                     NaN   \n",
       "4                   NaN             NaN                     NaN   \n",
       "\n",
       "   Rel_PrImp_ExpAmt  MktCtrAvg_All_AvgT  Rel_All_AvgT  \n",
       "0          0.009003            0.474635      0.196964  \n",
       "1         -0.001072           21.679366    -21.523319  \n",
       "2               NaN            0.000000      0.000000  \n",
       "3               NaN            0.000000      0.000000  \n",
       "4               NaN            0.000000      0.000000  \n",
       "\n",
       "[5 rows x 45 columns]"
      ]
     },
     "execution_count": 8,
     "metadata": {},
     "output_type": "execute_result"
    }
   ],
   "source": [
    "# Import data\n",
    "data_605 = rawdata_605.copy()\n",
    "\n",
    "# Quarter column\n",
    "data_605['Quarter'] = data_605['idate'].apply(lambda x: convertDateToQuarter(datetime.strptime(str(x), '%Y%m')))\n",
    "data_605['Quarter'] = pd.PeriodIndex(data_605['Quarter'], freq='Q').values\n",
    "data_605 = data_605.drop('idate', axis = 1)\n",
    "\n",
    "# Temporary Variables for Aggregation\n",
    "data_605['PrImp_TotalT']     = data_605['PrImpShares']    * data_605['PrImp_AvgT']\n",
    "data_605['PrImp_TotalAmt']   = data_605['PrImpShares']    * data_605['PrImp_AvgAmt']\n",
    "data_605['ATQ_TotalT']       = data_605['ATQShares']      * data_605['ATQ_AvgT']\n",
    "data_605['OTQ_TotalT']       = data_605['OTQShares']      * data_605['OTQ_AvgT']\n",
    "data_605['AvgRealSpread_T']  = data_605['AvgRealSpread']  * data_605['ExecShares']\n",
    "data_605['AvgEffecSpread_T'] = data_605['AvgEffecSpread'] * data_605['ExecShares']\n",
    "\n",
    "data_605 = data_605.groupby(['MarketCenter', 'Quarter', 'Exchange', 'OrderCode']) \\\n",
    "        .sum().reset_index()\n",
    "\n",
    "# Reconstruct original variables\n",
    "data_605['PrImp_AvgT']     = data_605['PrImp_TotalT']     / data_605['PrImpShares']\n",
    "data_605['PrImp_AvgAmt']   = data_605['PrImp_TotalAmt']   / data_605['PrImpShares'] \n",
    "data_605['ATQ_AvgT']       = data_605['ATQ_TotalT']       / data_605['ATQShares']\n",
    "data_605['OTQ_AvgT']       = data_605['OTQ_TotalT']       / data_605['OTQShares']\n",
    "data_605['AvgRealSpread']  = data_605['AvgRealSpread_T']  / data_605['ExecShares']\n",
    "data_605['AvgEffecSpread'] = data_605['AvgEffecSpread_T'] / data_605['ExecShares'] \n",
    "data_605['PrImp_Pct']      = data_605['PrImpShares']      / data_605['ExecShares']\n",
    "data_605['ATQ_Pct']        = data_605['ATQShares']        / data_605['ExecShares']\n",
    "data_605['OTQ_Pct']        = data_605['OTQShares']        / data_605['ExecShares']\n",
    "\n",
    "## New Vars\n",
    "\n",
    "# Absolute\n",
    "data_605['OrderType']    = data_605['OrderCode'].apply(lambda x: ordertype_dict.get(x, 'Other'))\n",
    "data_605['PrImp_ExpAmt'] = data_605['PrImp_AvgAmt'] * data_605['PrImp_Pct']\n",
    "data_605['All_AvgT']     = (data_605['PrImp_TotalT'] + data_605['ATQ_TotalT'] + data_605['OTQ_TotalT']) \\\n",
    "                            / data_605['ExecShares']\n",
    "data_605 = data_605.rename(columns = {'idate': 'Date'})\n",
    "\n",
    "# Relative values\n",
    "data_605_grouped = data_605.groupby(['Exchange', 'OrderType', 'Quarter'])\n",
    "\n",
    "data_605['MktCtrAvg_PrImp_Pct']  = data_605_grouped['PrImp_Pct'].transform(\"mean\")\n",
    "data_605['Rel_PrImp_Pct']        = data_605['PrImp_Pct'] - data_605['MktCtrAvg_PrImp_Pct']\n",
    "data_605['MktCtrAvg_PrImp_AvgT'] = data_605_grouped['PrImp_AvgT'].transform(\"mean\")\n",
    "data_605['Rel_PrImp_AvgT']       = data_605['PrImp_AvgT'] - data_605['MktCtrAvg_PrImp_AvgT']    \n",
    "data_605['MktCtrAvg_PrImp_ExpAmt'] = data_605_grouped['PrImp_ExpAmt'].transform(\"mean\")\n",
    "data_605['Rel_PrImp_ExpAmt']       = data_605['PrImp_ExpAmt'] - data_605['MktCtrAvg_PrImp_ExpAmt']   \n",
    "data_605['MktCtrAvg_All_AvgT'] = data_605_grouped['All_AvgT'].transform(\"mean\")\n",
    "data_605['Rel_All_AvgT']       = data_605['All_AvgT'] - data_605['MktCtrAvg_All_AvgT']   \n",
    "\n",
    "data_605.head()"
   ]
  },
  {
   "cell_type": "markdown",
   "metadata": {},
   "source": [
    "# Merge Datasets"
   ]
  },
  {
   "cell_type": "code",
   "execution_count": 9,
   "metadata": {
    "ExecuteTime": {
     "end_time": "2018-02-08T17:44:26.488882Z",
     "start_time": "2018-02-08T17:44:25.807787Z"
    }
   },
   "outputs": [
    {
     "name": "stdout",
     "output_type": "stream",
     "text": [
      "Total Observations: 8740\n",
      "Brokers: 21\n",
      "Market Centers: 10\n"
     ]
    },
    {
     "data": {
      "text/html": [
       "<div>\n",
       "<style scoped>\n",
       "    .dataframe tbody tr th:only-of-type {\n",
       "        vertical-align: middle;\n",
       "    }\n",
       "\n",
       "    .dataframe tbody tr th {\n",
       "        vertical-align: top;\n",
       "    }\n",
       "\n",
       "    .dataframe thead th {\n",
       "        text-align: right;\n",
       "    }\n",
       "</style>\n",
       "<table border=\"1\" class=\"dataframe\">\n",
       "  <thead>\n",
       "    <tr style=\"text-align: right;\">\n",
       "      <th></th>\n",
       "      <th>MarketCenter</th>\n",
       "      <th>Quarter</th>\n",
       "      <th>Exchange</th>\n",
       "      <th>OrderCode</th>\n",
       "      <th>CoveredOrders</th>\n",
       "      <th>CoveredShares</th>\n",
       "      <th>CancelledShares</th>\n",
       "      <th>MktCtrExecShares</th>\n",
       "      <th>AwayExecShares</th>\n",
       "      <th>ExecShares_0_9</th>\n",
       "      <th>...</th>\n",
       "      <th>Rel_PrImp_AvgT</th>\n",
       "      <th>MktCtrAvg_PrImp_ExpAmt</th>\n",
       "      <th>Rel_PrImp_ExpAmt</th>\n",
       "      <th>MktCtrAvg_All_AvgT</th>\n",
       "      <th>Rel_All_AvgT</th>\n",
       "      <th>Broker</th>\n",
       "      <th>MktShare</th>\n",
       "      <th>Rebate</th>\n",
       "      <th>Rebate_Dummy</th>\n",
       "      <th>Broker_Size</th>\n",
       "    </tr>\n",
       "  </thead>\n",
       "  <tbody>\n",
       "    <tr>\n",
       "      <th>0</th>\n",
       "      <td>ARCA</td>\n",
       "      <td>2015Q3</td>\n",
       "      <td>NASDAQ</td>\n",
       "      <td>11</td>\n",
       "      <td>167917</td>\n",
       "      <td>72636881</td>\n",
       "      <td>10384868</td>\n",
       "      <td>40788074</td>\n",
       "      <td>21463939</td>\n",
       "      <td>62072012</td>\n",
       "      <td>...</td>\n",
       "      <td>0.636061</td>\n",
       "      <td>0.010542</td>\n",
       "      <td>0.009003</td>\n",
       "      <td>0.474635</td>\n",
       "      <td>0.196964</td>\n",
       "      <td>Barclays Capital</td>\n",
       "      <td>0.0000</td>\n",
       "      <td>1.0</td>\n",
       "      <td>1</td>\n",
       "      <td>2.395827e+10</td>\n",
       "    </tr>\n",
       "    <tr>\n",
       "      <th>1</th>\n",
       "      <td>ARCA</td>\n",
       "      <td>2015Q3</td>\n",
       "      <td>NASDAQ</td>\n",
       "      <td>11</td>\n",
       "      <td>167917</td>\n",
       "      <td>72636881</td>\n",
       "      <td>10384868</td>\n",
       "      <td>40788074</td>\n",
       "      <td>21463939</td>\n",
       "      <td>62072012</td>\n",
       "      <td>...</td>\n",
       "      <td>0.636061</td>\n",
       "      <td>0.010542</td>\n",
       "      <td>0.009003</td>\n",
       "      <td>0.474635</td>\n",
       "      <td>0.196964</td>\n",
       "      <td>Cowen Execution</td>\n",
       "      <td>0.0000</td>\n",
       "      <td>0.0</td>\n",
       "      <td>0</td>\n",
       "      <td>5.018710e+07</td>\n",
       "    </tr>\n",
       "    <tr>\n",
       "      <th>2</th>\n",
       "      <td>ARCA</td>\n",
       "      <td>2015Q3</td>\n",
       "      <td>NASDAQ</td>\n",
       "      <td>11</td>\n",
       "      <td>167917</td>\n",
       "      <td>72636881</td>\n",
       "      <td>10384868</td>\n",
       "      <td>40788074</td>\n",
       "      <td>21463939</td>\n",
       "      <td>62072012</td>\n",
       "      <td>...</td>\n",
       "      <td>0.636061</td>\n",
       "      <td>0.010542</td>\n",
       "      <td>0.009003</td>\n",
       "      <td>0.474635</td>\n",
       "      <td>0.196964</td>\n",
       "      <td>Credit Suisse</td>\n",
       "      <td>0.0000</td>\n",
       "      <td>1.0</td>\n",
       "      <td>1</td>\n",
       "      <td>3.266721e+10</td>\n",
       "    </tr>\n",
       "    <tr>\n",
       "      <th>3</th>\n",
       "      <td>ARCA</td>\n",
       "      <td>2015Q3</td>\n",
       "      <td>NASDAQ</td>\n",
       "      <td>11</td>\n",
       "      <td>167917</td>\n",
       "      <td>72636881</td>\n",
       "      <td>10384868</td>\n",
       "      <td>40788074</td>\n",
       "      <td>21463939</td>\n",
       "      <td>62072012</td>\n",
       "      <td>...</td>\n",
       "      <td>0.636061</td>\n",
       "      <td>0.010542</td>\n",
       "      <td>0.009003</td>\n",
       "      <td>0.474635</td>\n",
       "      <td>0.196964</td>\n",
       "      <td>Deutsche</td>\n",
       "      <td>0.0151</td>\n",
       "      <td>1.0</td>\n",
       "      <td>1</td>\n",
       "      <td>2.045009e+10</td>\n",
       "    </tr>\n",
       "    <tr>\n",
       "      <th>4</th>\n",
       "      <td>ARCA</td>\n",
       "      <td>2015Q3</td>\n",
       "      <td>NASDAQ</td>\n",
       "      <td>12</td>\n",
       "      <td>11963921</td>\n",
       "      <td>3132598691</td>\n",
       "      <td>428908786</td>\n",
       "      <td>1832975495</td>\n",
       "      <td>73922935</td>\n",
       "      <td>1906190605</td>\n",
       "      <td>...</td>\n",
       "      <td>-0.372792</td>\n",
       "      <td>0.002790</td>\n",
       "      <td>-0.001072</td>\n",
       "      <td>21.679366</td>\n",
       "      <td>-21.523319</td>\n",
       "      <td>Barclays Capital</td>\n",
       "      <td>0.1375</td>\n",
       "      <td>1.0</td>\n",
       "      <td>1</td>\n",
       "      <td>2.395827e+10</td>\n",
       "    </tr>\n",
       "  </tbody>\n",
       "</table>\n",
       "<p>5 rows × 50 columns</p>\n",
       "</div>"
      ],
      "text/plain": [
       "  MarketCenter Quarter Exchange  OrderCode  CoveredOrders  CoveredShares  \\\n",
       "0         ARCA  2015Q3   NASDAQ         11         167917       72636881   \n",
       "1         ARCA  2015Q3   NASDAQ         11         167917       72636881   \n",
       "2         ARCA  2015Q3   NASDAQ         11         167917       72636881   \n",
       "3         ARCA  2015Q3   NASDAQ         11         167917       72636881   \n",
       "4         ARCA  2015Q3   NASDAQ         12       11963921     3132598691   \n",
       "\n",
       "   CancelledShares  MktCtrExecShares  AwayExecShares  ExecShares_0_9  \\\n",
       "0         10384868          40788074        21463939        62072012   \n",
       "1         10384868          40788074        21463939        62072012   \n",
       "2         10384868          40788074        21463939        62072012   \n",
       "3         10384868          40788074        21463939        62072012   \n",
       "4        428908786        1832975495        73922935      1906190605   \n",
       "\n",
       "       ...       Rel_PrImp_AvgT  MktCtrAvg_PrImp_ExpAmt  Rel_PrImp_ExpAmt  \\\n",
       "0      ...             0.636061                0.010542          0.009003   \n",
       "1      ...             0.636061                0.010542          0.009003   \n",
       "2      ...             0.636061                0.010542          0.009003   \n",
       "3      ...             0.636061                0.010542          0.009003   \n",
       "4      ...            -0.372792                0.002790         -0.001072   \n",
       "\n",
       "   MktCtrAvg_All_AvgT  Rel_All_AvgT            Broker  MktShare  Rebate  \\\n",
       "0            0.474635      0.196964  Barclays Capital    0.0000     1.0   \n",
       "1            0.474635      0.196964   Cowen Execution    0.0000     0.0   \n",
       "2            0.474635      0.196964     Credit Suisse    0.0000     1.0   \n",
       "3            0.474635      0.196964          Deutsche    0.0151     1.0   \n",
       "4           21.679366    -21.523319  Barclays Capital    0.1375     1.0   \n",
       "\n",
       "   Rebate_Dummy   Broker_Size  \n",
       "0             1  2.395827e+10  \n",
       "1             0  5.018710e+07  \n",
       "2             1  3.266721e+10  \n",
       "3             1  2.045009e+10  \n",
       "4             1  2.395827e+10  \n",
       "\n",
       "[5 rows x 50 columns]"
      ]
     },
     "execution_count": 9,
     "metadata": {},
     "output_type": "execute_result"
    }
   ],
   "source": [
    "data_merged = data_605.merge(data_606)\n",
    "\n",
    "data_merged.set_index(['Quarter'])\n",
    "data_merged['Broker_Size'] = data_merged['Broker'].apply(lambda x: broker_vol_dict['Size'].get(x))\n",
    "\n",
    "\n",
    "print('Total Observations: ' + str(len(data_merged)))\n",
    "print('Brokers: ' + str(len(set(list(data_merged['Broker'])))))\n",
    "print('Market Centers: ' + str(len(set(list(data_merged['MarketCenter'])))))\n",
    "\n",
    "data_merged.head()"
   ]
  },
  {
   "cell_type": "markdown",
   "metadata": {},
   "source": [
    "# Data Export"
   ]
  },
  {
   "cell_type": "markdown",
   "metadata": {},
   "source": [
    "## Panel"
   ]
  },
  {
   "cell_type": "code",
   "execution_count": null,
   "metadata": {
    "ExecuteTime": {
     "end_time": "2018-02-08T04:19:32.906440Z",
     "start_time": "2018-02-08T04:19:32.700190Z"
    }
   },
   "outputs": [],
   "source": []
  },
  {
   "cell_type": "markdown",
   "metadata": {},
   "source": [
    "## First Difference"
   ]
  },
  {
   "cell_type": "code",
   "execution_count": 10,
   "metadata": {
    "ExecuteTime": {
     "end_time": "2018-02-08T17:44:57.007547Z",
     "start_time": "2018-02-08T17:44:42.374111Z"
    }
   },
   "outputs": [],
   "source": [
    "def tempfunc(data, broker, marketcenter, exchange, ordertype):\n",
    "    \n",
    "    data = data.drop('Rebate_Dummy', axis = 1)\n",
    "    data['Broker'] = broker\n",
    "    data['MarketCenter'] = marketcenter\n",
    "    data['Exchange'] = exchange\n",
    "    data['OrderType'] = ordertype\n",
    "    data['Rebate_Dummy'] = data_606.query(query).iloc[0]['Rebate_Dummy']\n",
    "    \n",
    "    return data\n",
    "\n",
    "def getDifferencedData(data_merged, query_command):\n",
    "    \n",
    "    if query_command != \"\":\n",
    "        data_merged = data_merged.query(query_command)\n",
    "\n",
    "    data_merged_diff = data_merged.groupby(['Broker', 'MarketCenter', 'Exchange', 'OrderType']).diff(1).dropna()\n",
    "    \n",
    "    return data_merged_diff\n",
    "\n",
    "data_merged_diff_list = []\n",
    "data_merged_diff_lag_list = []\n",
    "\n",
    "brokers = list(set(list(data_merged['Broker'])))\n",
    "marketcenters = list(set(list(data_merged['MarketCenter'])))\n",
    "exchanges = list(set(list(data_merged['Exchange'])))\n",
    "ordertypes = ['Market','Limit']\n",
    "\n",
    "for broker in brokers:\n",
    "    for marketcenter in marketcenters:\n",
    "        for exchange in exchanges:\n",
    "            for ordertype in ordertypes:\n",
    "                query = \"Broker == '\" + broker + \"' & OrderType == '\" + ordertype \\\n",
    "                + \"' & Exchange == '\" + exchange + \"' & MarketCenter == '\" + marketcenter + \"'\"\n",
    "                data_merged_diff_temp = getDifferencedData(data_merged, query)\n",
    "                #data_merged_diff_lag_temp = getDifferencedData(data_merged_lag, query)\n",
    "                \n",
    "                if len(data_merged_diff_temp) > 0:\n",
    "                    data_merged_diff_temp = tempfunc(data_merged_diff_temp, broker, marketcenter, \n",
    "                                                     exchange, ordertype)\n",
    "                    #data_merged_diff_lag_temp = tempfunc(data_merged_diff_lag_temp, broker, marketcenter, \n",
    "                    #                                 exchange, ordertype)\n",
    "                    \n",
    "                    data_merged_diff_list.append(data_merged_diff_temp)\n",
    "                    #data_merged_diff_lag_list.append(data_merged_diff_lag_temp)"
   ]
  },
  {
   "cell_type": "markdown",
   "metadata": {},
   "source": [
    "## With Binaries"
   ]
  },
  {
   "cell_type": "code",
   "execution_count": 11,
   "metadata": {
    "ExecuteTime": {
     "end_time": "2018-02-08T17:45:17.075837Z",
     "start_time": "2018-02-08T17:45:11.959502Z"
    }
   },
   "outputs": [
    {
     "name": "stdout",
     "output_type": "stream",
     "text": [
      "Processing: BNYC\n",
      "Processing: UBSS\n",
      "Processing: SGMA\n",
      "Processing: CDRG\n",
      "Processing: VRTU\n",
      "Processing: G1ES\n",
      "Processing: WOLV\n",
      "Processing: CITI\n",
      "Processing: ARCA\n",
      "Complete\n"
     ]
    }
   ],
   "source": [
    "data_clean = data_merged.dropna().copy()\n",
    "\n",
    "# {Market Center, Broker, Order Type, Exchange} dummies\n",
    "temp_dict = {}\n",
    "\n",
    "for mktctr in list(set(list(data_clean['MarketCenter'])))[:-1]:\n",
    "    \n",
    "    print('Processing: ' + mktctr)\n",
    "    \n",
    "    column_label = (mktctr + '_ind')\n",
    "    data_clean[column_label] = data_clean['MarketCenter'].apply(lambda x: int(x == mktctr))\n",
    "    \n",
    "    # query only brokers that send to this market center\n",
    "    query_txt = 'MarketCenter == \"' + mktctr + '\"'\n",
    "    \n",
    "    # all brokers except the last to prevent multicollinearity\n",
    "    for brk in list(set(list(data_clean.query(query_txt)['Broker'])))[:-1]: \n",
    "        \n",
    "        # Add column\n",
    "        column_label = mktctr + '_' + brk.replace(' ', '_') + '_ind'\n",
    "        data_clean[column_label] = data_clean[mktctr + '_ind'] & data_clean['Broker'].apply(lambda x: int(x == brk))\n",
    "        \n",
    "        query_txt2 = 'MarketCenter == \"' + mktctr + '\" & Broker == \"' + brk + '\"'\n",
    "        \n",
    "        for exc in list(set(list(data_clean.query(query_txt2)['Exchange'])))[:-1]: \n",
    "            \n",
    "            # Add column\n",
    "            column_label = mktctr + '_' + brk.replace(' ', '_') + '_' + exc + '_ind'\n",
    "            data_clean[column_label] = data_clean[mktctr + '_ind'] & data_clean['Broker'].apply(lambda x: int(x == brk)) & \\\n",
    "                data_clean['Exchange'].apply(lambda x: int(x == exc))\n",
    "                \n",
    "            query_txt3 = 'MarketCenter == \"' + mktctr + '\" & Broker == \"' + brk + '\" & Exchange == \"' + exc + '\"'    \n",
    "                \n",
    "            for ot in list(set(list(data_clean.query(query_txt3)['OrderType'])))[:-1]:     \n",
    "                \n",
    "                # Add column\n",
    "                column_label = mktctr + '_' + brk.replace(' ', '_') + '_' + exc + '_' + ot + '_ind'\n",
    "                data_clean[column_label] = data_clean[mktctr + '_ind'] & data_clean['Broker'].apply(lambda x: int(x == brk)) & \\\n",
    "                    data_clean['Exchange'].apply(lambda x: int(x == exc)) & data_clean['OrderType'].apply(lambda x: int(x == ot))\n",
    "        \n",
    "        \n",
    "print('Complete')"
   ]
  },
  {
   "cell_type": "markdown",
   "metadata": {},
   "source": [
    "## Fixed Effects"
   ]
  },
  {
   "cell_type": "code",
   "execution_count": 12,
   "metadata": {
    "ExecuteTime": {
     "end_time": "2018-02-08T17:45:39.133723Z",
     "start_time": "2018-02-08T17:45:31.965102Z"
    }
   },
   "outputs": [],
   "source": [
    "data_merged_demeaned = data_merged.dropna() - data_merged.dropna().groupby(\n",
    "    ['Broker', 'MarketCenter', 'Exchange', 'OrderType']).transform(\"mean\")\n",
    "\n",
    "data_merged_demeaned[['Broker', 'Exchange', 'MarketCenter', 'OrderType', 'Quarter']\n",
    "                     ] = data_merged.dropna()[['Broker', 'Exchange', 'MarketCenter', 'OrderType', 'Quarter']]\n",
    "\n",
    "data_merged_demeaned['Rebate_Dummy'] = data_merged.dropna()['Rebate_Dummy']"
   ]
  },
  {
   "cell_type": "markdown",
   "metadata": {},
   "source": [
    "## To CSV"
   ]
  },
  {
   "cell_type": "code",
   "execution_count": 13,
   "metadata": {
    "ExecuteTime": {
     "end_time": "2018-02-08T17:45:56.695529Z",
     "start_time": "2018-02-08T17:45:54.049403Z"
    }
   },
   "outputs": [],
   "source": [
    "# Panel\n",
    "data_merged.to_csv('../data/processed/regression_data_levels.csv', index=False)\n",
    "# Differenced\n",
    "pd.concat(data_merged_diff_list).to_csv(\n",
    "    '../data/processed/regression_data_fdiffs.csv', index=False)\n",
    "# With Binary Vars\n",
    "data_clean.to_csv(\n",
    "    '../data/processed/regression_data_levels_binaries.csv', index=False)\n",
    "# Demeaned\n",
    "data_merged_demeaned.to_csv(\n",
    "    '../data/processed/regression_data_levels_demeaned.csv', index=False)"
   ]
  },
  {
   "cell_type": "markdown",
   "metadata": {},
   "source": [
    "# Statistics"
   ]
  },
  {
   "cell_type": "code",
   "execution_count": 25,
   "metadata": {},
   "outputs": [
    {
     "name": "stdout",
     "output_type": "stream",
     "text": [
      "Index(['MarketCenter', 'Quarter', 'Exchange', 'OrderCode', 'CoveredOrders',\n",
      "       'CoveredShares', 'CancelledShares', 'MktCtrExecShares',\n",
      "       'AwayExecShares', 'ExecShares_0_9', 'ExecShares_10_29',\n",
      "       'ExecShares_30_59', 'ExecShares_60_299', 'ExecShares_5_30',\n",
      "       'AvgRealSpread', 'AvgEffecSpread', 'PrImpShares', 'PrImp_AvgAmt',\n",
      "       'PrImp_AvgT', 'ATQShares', 'ATQ_AvgT', 'OTQShares', 'OTQ_AvgAmt',\n",
      "       'OTQ_AvgT', 'ExecShares', 'PrImp_TotalT', 'PrImp_TotalAmt',\n",
      "       'ATQ_TotalT', 'OTQ_TotalT', 'AvgRealSpread_T', 'AvgEffecSpread_T',\n",
      "       'PrImp_Pct', 'ATQ_Pct', 'OTQ_Pct', 'OrderType', 'PrImp_ExpAmt',\n",
      "       'All_AvgT', 'MktCtrAvg_PrImp_Pct', 'Rel_PrImp_Pct',\n",
      "       'MktCtrAvg_PrImp_AvgT', 'Rel_PrImp_AvgT', 'MktCtrAvg_PrImp_ExpAmt',\n",
      "       'Rel_PrImp_ExpAmt', 'MktCtrAvg_All_AvgT', 'Rel_All_AvgT'],\n",
      "      dtype='object')\n"
     ]
    },
    {
     "data": {
      "text/html": [
       "<div>\n",
       "<style scoped>\n",
       "    .dataframe tbody tr th:only-of-type {\n",
       "        vertical-align: middle;\n",
       "    }\n",
       "\n",
       "    .dataframe tbody tr th {\n",
       "        vertical-align: top;\n",
       "    }\n",
       "\n",
       "    .dataframe thead th {\n",
       "        text-align: right;\n",
       "    }\n",
       "</style>\n",
       "<table border=\"1\" class=\"dataframe\">\n",
       "  <thead>\n",
       "    <tr style=\"text-align: right;\">\n",
       "      <th></th>\n",
       "      <th>MarketCenter</th>\n",
       "      <th>MktCtrExecShares</th>\n",
       "      <th>PrImp_Pct</th>\n",
       "      <th>PrImp_AvgAmt</th>\n",
       "      <th>All_AvgT</th>\n",
       "    </tr>\n",
       "  </thead>\n",
       "  <tbody>\n",
       "    <tr>\n",
       "      <th>0</th>\n",
       "      <td>ARCA</td>\n",
       "      <td>40788074</td>\n",
       "      <td>0.439110</td>\n",
       "      <td>0.044509</td>\n",
       "      <td>0.671599</td>\n",
       "    </tr>\n",
       "    <tr>\n",
       "      <th>177</th>\n",
       "      <td>BNYC</td>\n",
       "      <td>187389877</td>\n",
       "      <td>0.624134</td>\n",
       "      <td>0.007284</td>\n",
       "      <td>1.276349</td>\n",
       "    </tr>\n",
       "    <tr>\n",
       "      <th>357</th>\n",
       "      <td>CDRG</td>\n",
       "      <td>1684972233</td>\n",
       "      <td>0.812235</td>\n",
       "      <td>0.010775</td>\n",
       "      <td>0.161658</td>\n",
       "    </tr>\n",
       "    <tr>\n",
       "      <th>942</th>\n",
       "      <td>CITI</td>\n",
       "      <td>0</td>\n",
       "      <td>NaN</td>\n",
       "      <td>NaN</td>\n",
       "      <td>NaN</td>\n",
       "    </tr>\n",
       "    <tr>\n",
       "      <th>1661</th>\n",
       "      <td>G1ES</td>\n",
       "      <td>848647217</td>\n",
       "      <td>0.877246</td>\n",
       "      <td>0.011175</td>\n",
       "      <td>0.217041</td>\n",
       "    </tr>\n",
       "    <tr>\n",
       "      <th>2060</th>\n",
       "      <td>SGMA</td>\n",
       "      <td>654205209</td>\n",
       "      <td>0.846468</td>\n",
       "      <td>0.011098</td>\n",
       "      <td>0.212152</td>\n",
       "    </tr>\n",
       "    <tr>\n",
       "      <th>2645</th>\n",
       "      <td>UBSS</td>\n",
       "      <td>894802777</td>\n",
       "      <td>0.874837</td>\n",
       "      <td>0.012816</td>\n",
       "      <td>0.309009</td>\n",
       "    </tr>\n",
       "  </tbody>\n",
       "</table>\n",
       "</div>"
      ],
      "text/plain": [
       "     MarketCenter  MktCtrExecShares  PrImp_Pct  PrImp_AvgAmt  All_AvgT\n",
       "0            ARCA          40788074   0.439110      0.044509  0.671599\n",
       "177          BNYC         187389877   0.624134      0.007284  1.276349\n",
       "357          CDRG        1684972233   0.812235      0.010775  0.161658\n",
       "942          CITI                 0        NaN           NaN       NaN\n",
       "1661         G1ES         848647217   0.877246      0.011175  0.217041\n",
       "2060         SGMA         654205209   0.846468      0.011098  0.212152\n",
       "2645         UBSS         894802777   0.874837      0.012816  0.309009"
      ]
     },
     "execution_count": 25,
     "metadata": {},
     "output_type": "execute_result"
    }
   ],
   "source": [
    "data_605_q = data_605[data_605.apply(lambda x: x.Quarter == pd.Period('2015Q3'), axis = 1)]\n",
    "print(data_605.columns)\n",
    "data_605_q.query('Exchange == \"NASDAQ\" & OrderCode == 11')[['MarketCenter', 'MktCtrExecShares', 'PrImp_Pct', 'PrImp_AvgAmt', 'All_AvgT']]"
   ]
  }
 ],
 "metadata": {
  "kernelspec": {
   "display_name": "Python 3",
   "language": "python",
   "name": "python3"
  },
  "language_info": {
   "codemirror_mode": {
    "name": "ipython",
    "version": 3
   },
   "file_extension": ".py",
   "mimetype": "text/x-python",
   "name": "python",
   "nbconvert_exporter": "python",
   "pygments_lexer": "ipython3",
   "version": "3.5.2"
  },
  "toc": {
   "nav_menu": {},
   "number_sections": false,
   "sideBar": true,
   "skip_h1_title": false,
   "toc_cell": false,
   "toc_position": {
    "height": "847px",
    "left": "0px",
    "right": "816px",
    "top": "92px",
    "width": "134px"
   },
   "toc_section_display": "block",
   "toc_window_display": true
  },
  "varInspector": {
   "cols": {
    "lenName": 16,
    "lenType": 16,
    "lenVar": 40
   },
   "kernels_config": {
    "python": {
     "delete_cmd_postfix": "",
     "delete_cmd_prefix": "del ",
     "library": "var_list.py",
     "varRefreshCmd": "print(var_dic_list())"
    },
    "r": {
     "delete_cmd_postfix": ") ",
     "delete_cmd_prefix": "rm(",
     "library": "var_list.r",
     "varRefreshCmd": "cat(var_dic_list()) "
    }
   },
   "types_to_exclude": [
    "module",
    "function",
    "builtin_function_or_method",
    "instance",
    "_Feature"
   ],
   "window_display": false
  }
 },
 "nbformat": 4,
 "nbformat_minor": 2
}
