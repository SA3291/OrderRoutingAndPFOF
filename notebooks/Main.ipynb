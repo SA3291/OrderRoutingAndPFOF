{
 "cells": [
  {
   "cell_type": "code",
   "execution_count": 90,
   "metadata": {
    "ExecuteTime": {
     "end_time": "2018-02-08T17:28:14.465908Z",
     "start_time": "2018-02-08T17:28:12.644978Z"
    }
   },
   "outputs": [],
   "source": [
    "import csv\n",
    "import numpy as np\n",
    "import matplotlib\n",
    "import matplotlib.pyplot as plt\n",
    "import pandas as pd\n",
    "import statsmodels.formula.api as smf\n",
    "import os\n",
    "from datetime import datetime\n",
    "\n",
    "%matplotlib inline"
   ]
  },
  {
   "cell_type": "markdown",
   "metadata": {
    "ExecuteTime": {
     "end_time": "2018-02-08T01:49:50.578132Z",
     "start_time": "2018-02-08T01:49:50.575570Z"
    }
   },
   "source": [
    "# Functions"
   ]
  },
  {
   "cell_type": "code",
   "execution_count": 91,
   "metadata": {
    "ExecuteTime": {
     "end_time": "2018-02-08T17:28:15.395858Z",
     "start_time": "2018-02-08T17:28:15.386288Z"
    }
   },
   "outputs": [],
   "source": [
    "def import_dict(dict_loc):\n",
    "    \"\"\" Loads a dictionary from a csv \"\"\"\n",
    "    df = pd.read_csv(dict_loc)\n",
    "    df.index = df.iloc[:,0]\n",
    "    df = df.drop(df.columns[0], axis = 1)\n",
    "    return df.to_dict()\n",
    "\n",
    "def convertDateToQuarter(date):\n",
    "    quarter = (date.month-1)//3 + 1\n",
    "    return (str(date.year) + 'Q' + str(quarter))"
   ]
  },
  {
   "cell_type": "markdown",
   "metadata": {
    "ExecuteTime": {
     "end_time": "2018-02-08T03:24:59.900269Z",
     "start_time": "2018-02-08T03:24:59.874250Z"
    }
   },
   "source": [
    "# Data Import"
   ]
  },
  {
   "cell_type": "markdown",
   "metadata": {
    "ExecuteTime": {
     "end_time": "2018-02-08T03:25:10.981086Z",
     "start_time": "2018-02-08T03:25:10.976431Z"
    }
   },
   "source": [
    "## Directories"
   ]
  },
  {
   "cell_type": "code",
   "execution_count": 92,
   "metadata": {
    "ExecuteTime": {
     "end_time": "2018-02-08T17:28:17.329908Z",
     "start_time": "2018-02-08T17:28:17.327018Z"
    }
   },
   "outputs": [],
   "source": [
    "# 605 and 606 csv directory\n",
    "dir_605 = '../data/605/'\n",
    "dir_606 = '../data/606/'"
   ]
  },
  {
   "cell_type": "markdown",
   "metadata": {},
   "source": [
    "## Raw Data"
   ]
  },
  {
   "cell_type": "code",
   "execution_count": 93,
   "metadata": {
    "ExecuteTime": {
     "end_time": "2018-02-08T17:28:18.438842Z",
     "start_time": "2018-02-08T17:28:18.315043Z"
    }
   },
   "outputs": [],
   "source": [
    "## Import 605 data\n",
    "# Find market center csvs\n",
    "marketcenter_csv_list = [x for x in os.listdir(dir_605) if x[-4:] == '.csv']\n",
    "# Get .csv directories\n",
    "marketcenter_csv_dirs = [dir_605 + x for x in marketcenter_csv_list]\n",
    "# Read .csv files\n",
    "csv_df_list_605 = [pd.read_csv(file, sep = ',') for file in marketcenter_csv_dirs]\n",
    "# Merge each marketcenter's data\n",
    "rawdata_605 = pd.concat(csv_df_list_605)\n",
    "# Clean up\n",
    "del(csv_df_list_605)"
   ]
  },
  {
   "cell_type": "code",
   "execution_count": 94,
   "metadata": {
    "ExecuteTime": {
     "end_time": "2018-02-08T17:28:24.613165Z",
     "start_time": "2018-02-08T17:28:18.947573Z"
    }
   },
   "outputs": [],
   "source": [
    "## Import 606 Data\n",
    "\n",
    "csv_df_list_606 = []\n",
    "# Find broker folders\n",
    "broker_folders = [x for x in os.listdir(dir_606) if '.' not in x]\n",
    "# Merge .csv's for each broker\n",
    "for broker in broker_folders:\n",
    "    # Get file locations of csv's for each broker\n",
    "    directory = dir_606 + broker\n",
    "    broker_csv_list  = [x for x in os.listdir(directory)]\n",
    "    broker_csv_dirs  = [dir_606 + broker + '/' + csv for csv in broker_csv_list]\n",
    "    # Read csv's as dataframes\n",
    "    csv_df_list_606_broker = [pd.read_csv(file) for file in broker_csv_dirs]\n",
    "    csv_df_list_606.append(pd.concat(csv_df_list_606_broker))\n",
    "    \n",
    "# Merge each broker's data\n",
    "rawdata_606 = pd.concat(csv_df_list_606)\n",
    "# Clean up\n",
    "del(csv_df_list_606)"
   ]
  },
  {
   "cell_type": "markdown",
   "metadata": {},
   "source": [
    "## Dictionaries"
   ]
  },
  {
   "cell_type": "code",
   "execution_count": 95,
   "metadata": {
    "ExecuteTime": {
     "end_time": "2018-02-08T17:29:17.154099Z",
     "start_time": "2018-02-08T17:29:17.118121Z"
    }
   },
   "outputs": [],
   "source": [
    "symbol_dict = import_dict('../data/keys/symbols.csv')['Exchange']\n",
    "mktctr_mpid_dict = import_dict('../data/keys/mpids.csv')['MPID']\n",
    "ordertype_dict = {11: 'Market', 12: 'Limit'}\n",
    "broker_vol_dict = import_dict('../data/keys/broker_volumes.csv')"
   ]
  },
  {
   "cell_type": "markdown",
   "metadata": {
    "ExecuteTime": {
     "end_time": "2018-02-08T03:37:12.188049Z",
     "start_time": "2018-02-08T03:37:12.154825Z"
    }
   },
   "source": [
    "# Data Prep"
   ]
  },
  {
   "cell_type": "markdown",
   "metadata": {},
   "source": [
    "## Broker Data"
   ]
  },
  {
   "cell_type": "markdown",
   "metadata": {},
   "source": [
    "### Prepare Raw Data"
   ]
  },
  {
   "cell_type": "code",
   "execution_count": 96,
   "metadata": {
    "ExecuteTime": {
     "end_time": "2018-02-08T17:29:30.275411Z",
     "start_time": "2018-02-08T17:29:25.844672Z"
    }
   },
   "outputs": [],
   "source": [
    "# Import Data\n",
    "data_606 = rawdata_606.copy()\n",
    "\n",
    "# Fix Routing Venue labels\n",
    "data_606['RoutingVenue'] = data_606['RoutingVenue'].apply(\n",
    "    lambda x: mktctr_mpid_dict.get(x.strip(), \"(Unknown) \" + str(x.strip())))\n",
    "\n",
    "# Drop unknown routing venues\n",
    "data_606 = data_606[data_606['RoutingVenue'].apply(lambda x: not x.startswith('(Unk'))]\n",
    "\n",
    "# Convert date to quarter\n",
    "data_606['Quarter'] = data_606['Date'].apply(\n",
    "    lambda x: convertDateToQuarter(datetime.strptime(str(x), '%Y%m')))\n",
    "data_606['Quarter'] = pd.PeriodIndex(data_606['Quarter'], freq='Q').values\n",
    "data_606 = data_606.drop('Date', axis=1)\n",
    "\n",
    "# Change column names\n",
    "data_606 = data_606.rename(\n",
    "    columns={'RoutingVenue': 'MarketCenter', 'Pct': 'MktShare'})\n",
    "\n",
    "# Merge known marketcenters of same firm\n",
    "data_606 = data_606.groupby(['Broker', 'Exchange', 'OrderType', 'Quarter', 'Rebate', 'MarketCenter']).sum().reset_index()\n",
    "\n",
    "# Add binary var for presence of rebates\n",
    "data_606['Rebate_Dummy'] = (data_606['Rebate'].apply(lambda x: (x > 0))\n",
    "                            | data_606['Broker'].apply(lambda x: x == 'TD Ameritrade')).apply(lambda x: int(x))\n",
    "\n",
    "# Filter 606 data to market centers with data available\n",
    "mktctrs_available = rawdata_605['MarketCenter'].unique()\n",
    "data_606 = data_606[data_606['MarketCenter'].apply(lambda x: x in mktctrs_available)]"
   ]
  },
  {
   "cell_type": "markdown",
   "metadata": {},
   "source": [
    "### Fill in missing 0's"
   ]
  },
  {
   "cell_type": "code",
   "execution_count": 97,
   "metadata": {},
   "outputs": [
    {
     "name": "stdout",
     "output_type": "stream",
     "text": [
      "2010Q1 (0), 2010Q2 (4), 2010Q3 (0), 2010Q4 (4), 2011Q1 (4), 2011Q2 (4), 2011Q3 (4), 2011Q4 (4), 2012Q1 (4), 2012Q2 (12), 2012Q3 (8), 2012Q4 (4), 2013Q1 (0), 2013Q2 (0), 2013Q3 (0), 2013Q4 (4), 2014Q1 (4), 2014Q2 (32), 2014Q3 (48), 2014Q4 (24), 2015Q1 (76), 2015Q2 (148), 2015Q3 (92), 2015Q4 (72), 2016Q1 (140), 2016Q2 (144), 2016Q3 (488), 2016Q4 (336), 2017Q1 (64), 2017Q2 (184), 2017Q3 (152), 2017Q4 (684), "
     ]
    },
    {
     "data": {
      "text/html": [
       "<div>\n",
       "<style scoped>\n",
       "    .dataframe tbody tr th:only-of-type {\n",
       "        vertical-align: middle;\n",
       "    }\n",
       "\n",
       "    .dataframe tbody tr th {\n",
       "        vertical-align: top;\n",
       "    }\n",
       "\n",
       "    .dataframe thead th {\n",
       "        text-align: right;\n",
       "    }\n",
       "</style>\n",
       "<table border=\"1\" class=\"dataframe\">\n",
       "  <thead>\n",
       "    <tr style=\"text-align: right;\">\n",
       "      <th></th>\n",
       "      <th>Broker</th>\n",
       "      <th>Exchange</th>\n",
       "      <th>OrderType</th>\n",
       "      <th>Quarter</th>\n",
       "      <th>Rebate</th>\n",
       "      <th>MarketCenter</th>\n",
       "      <th>MktShare</th>\n",
       "      <th>Rebate_Dummy</th>\n",
       "      <th>Obs_id</th>\n",
       "    </tr>\n",
       "  </thead>\n",
       "  <tbody>\n",
       "    <tr>\n",
       "      <th>0</th>\n",
       "      <td>AXA</td>\n",
       "      <td>NASDAQ</td>\n",
       "      <td>Limit</td>\n",
       "      <td>2014Q1</td>\n",
       "      <td>0.0</td>\n",
       "      <td>CDRG</td>\n",
       "      <td>0.1997</td>\n",
       "      <td>0</td>\n",
       "      <td>AXA-CDRG-NASDAQ-Limit</td>\n",
       "    </tr>\n",
       "    <tr>\n",
       "      <th>1</th>\n",
       "      <td>AXA</td>\n",
       "      <td>NASDAQ</td>\n",
       "      <td>Limit</td>\n",
       "      <td>2014Q1</td>\n",
       "      <td>0.0</td>\n",
       "      <td>FBCO</td>\n",
       "      <td>0.1205</td>\n",
       "      <td>0</td>\n",
       "      <td>AXA-FBCO-NASDAQ-Limit</td>\n",
       "    </tr>\n",
       "    <tr>\n",
       "      <th>2</th>\n",
       "      <td>AXA</td>\n",
       "      <td>NASDAQ</td>\n",
       "      <td>Limit</td>\n",
       "      <td>2014Q1</td>\n",
       "      <td>0.0</td>\n",
       "      <td>G1ES</td>\n",
       "      <td>0.0293</td>\n",
       "      <td>0</td>\n",
       "      <td>AXA-G1ES-NASDAQ-Limit</td>\n",
       "    </tr>\n",
       "    <tr>\n",
       "      <th>3</th>\n",
       "      <td>AXA</td>\n",
       "      <td>NASDAQ</td>\n",
       "      <td>Limit</td>\n",
       "      <td>2014Q2</td>\n",
       "      <td>0.0</td>\n",
       "      <td>CDRG</td>\n",
       "      <td>0.1906</td>\n",
       "      <td>0</td>\n",
       "      <td>AXA-CDRG-NASDAQ-Limit</td>\n",
       "    </tr>\n",
       "    <tr>\n",
       "      <th>4</th>\n",
       "      <td>AXA</td>\n",
       "      <td>NASDAQ</td>\n",
       "      <td>Limit</td>\n",
       "      <td>2014Q2</td>\n",
       "      <td>0.0</td>\n",
       "      <td>FBCO</td>\n",
       "      <td>0.1436</td>\n",
       "      <td>0</td>\n",
       "      <td>AXA-FBCO-NASDAQ-Limit</td>\n",
       "    </tr>\n",
       "  </tbody>\n",
       "</table>\n",
       "</div>"
      ],
      "text/plain": [
       "  Broker Exchange OrderType Quarter  Rebate MarketCenter  MktShare  \\\n",
       "0    AXA   NASDAQ     Limit  2014Q1     0.0         CDRG    0.1997   \n",
       "1    AXA   NASDAQ     Limit  2014Q1     0.0         FBCO    0.1205   \n",
       "2    AXA   NASDAQ     Limit  2014Q1     0.0         G1ES    0.0293   \n",
       "3    AXA   NASDAQ     Limit  2014Q2     0.0         CDRG    0.1906   \n",
       "4    AXA   NASDAQ     Limit  2014Q2     0.0         FBCO    0.1436   \n",
       "\n",
       "   Rebate_Dummy                 Obs_id  \n",
       "0             0  AXA-CDRG-NASDAQ-Limit  \n",
       "1             0  AXA-FBCO-NASDAQ-Limit  \n",
       "2             0  AXA-G1ES-NASDAQ-Limit  \n",
       "3             0  AXA-CDRG-NASDAQ-Limit  \n",
       "4             0  AXA-FBCO-NASDAQ-Limit  "
      ]
     },
     "execution_count": 97,
     "metadata": {},
     "output_type": "execute_result"
    }
   ],
   "source": [
    "data_606['Obs_id'] = data_606['Broker'] + '-' + data_606['MarketCenter'] + '-' + data_606['Exchange'] + '-' + data_606['OrderType']\n",
    "data_606_new = data_606.copy()\n",
    "\n",
    "dates_set = pd.Series(list(data_606['Quarter'].unique())).sort_values()\n",
    "\n",
    "rebate_dummy_dict = {broker: data_606.query('Broker == \"' + broker + '\"').iloc[0]['Rebate_Dummy'] for broker in data_606['Broker'].unique()}\n",
    "\n",
    "# from second element onwards\n",
    "for quarter in dates_set.iloc[0:]: \n",
    "    \n",
    "    print(quarter, end = ' ')\n",
    "    mask_1 = (data_606['Quarter'] <  quarter) & (data_606['Quarter'] >= (quarter - 2)) # within last given period\n",
    "    mask_2 = (data_606['Quarter'] == quarter)\n",
    "    \n",
    "#     print('Elements in previous quarters')\n",
    "#     display(data_606.loc[mask_1].sort_values(by = 'Quarter'))\n",
    "    \n",
    "#     print('Elements in this quarter')\n",
    "#     display(data_606.loc[mask_2])\n",
    "            \n",
    "    set_1 = set(data_606.loc[mask_1]['Obs_id'].unique())\n",
    "    set_2 = set(data_606.loc[mask_2]['Obs_id'].unique())\n",
    "    \n",
    "#     display(set_2 - set_1)\n",
    "    \n",
    "    # missing id's (last period obs that are not in this period)\n",
    "    id_list = [list(x.split('-')) for x in (set_1 - set_2)]    \n",
    "#     display(id_list)\n",
    "    \n",
    "    # add missing id's\n",
    "    print('(%d)' % len(id_list), end = ', ')\n",
    "    for missing_id in id_list:\n",
    "        #print(missing_id)\n",
    "        \n",
    "        data_606_new = data_606_new.append({'Broker': missing_id[0], 'MarketCenter': missing_id[1], 'Exchange': missing_id[2], \n",
    "                            'OrderType': missing_id[3], 'Quarter': quarter, 'Obs_id': '-'.join(missing_id),\n",
    "                            'Rebate_Dummy': rebate_dummy_dict.get(missing_id[0], np.nan), 'MktShare': 0}, \n",
    "                           ignore_index = True)\n",
    "    \n",
    "#     print('Updated for this quarter')\n",
    "#     display(data_606.loc[(data_606['Quarter'] == quarter)])\n",
    "\n",
    "data_606 = data_606_new.copy()\n",
    "data_606.head()"
   ]
  },
  {
   "cell_type": "markdown",
   "metadata": {
    "ExecuteTime": {
     "end_time": "2018-02-08T04:04:29.819085Z",
     "start_time": "2018-02-08T04:04:29.816237Z"
    }
   },
   "source": [
    "## Market Center Data"
   ]
  },
  {
   "cell_type": "code",
   "execution_count": 98,
   "metadata": {
    "ExecuteTime": {
     "end_time": "2018-02-08T17:29:32.688398Z",
     "start_time": "2018-02-08T17:29:30.593311Z"
    }
   },
   "outputs": [
    {
     "data": {
      "text/html": [
       "<div>\n",
       "<style scoped>\n",
       "    .dataframe tbody tr th:only-of-type {\n",
       "        vertical-align: middle;\n",
       "    }\n",
       "\n",
       "    .dataframe tbody tr th {\n",
       "        vertical-align: top;\n",
       "    }\n",
       "\n",
       "    .dataframe thead th {\n",
       "        text-align: right;\n",
       "    }\n",
       "</style>\n",
       "<table border=\"1\" class=\"dataframe\">\n",
       "  <thead>\n",
       "    <tr style=\"text-align: right;\">\n",
       "      <th></th>\n",
       "      <th>MarketCenter</th>\n",
       "      <th>Quarter</th>\n",
       "      <th>Exchange</th>\n",
       "      <th>OrderCode</th>\n",
       "      <th>CoveredOrders</th>\n",
       "      <th>CoveredShares</th>\n",
       "      <th>CancelledShares</th>\n",
       "      <th>MktCtrExecShares</th>\n",
       "      <th>AwayExecShares</th>\n",
       "      <th>ExecShares_0_9</th>\n",
       "      <th>...</th>\n",
       "      <th>PrImp_ExpAmt</th>\n",
       "      <th>All_AvgT</th>\n",
       "      <th>MktCtrAvg_PrImp_Pct</th>\n",
       "      <th>Rel_PrImp_Pct</th>\n",
       "      <th>MktCtrAvg_PrImp_AvgT</th>\n",
       "      <th>Rel_PrImp_AvgT</th>\n",
       "      <th>MktCtrAvg_PrImp_ExpAmt</th>\n",
       "      <th>Rel_PrImp_ExpAmt</th>\n",
       "      <th>MktCtrAvg_All_AvgT</th>\n",
       "      <th>Rel_All_AvgT</th>\n",
       "    </tr>\n",
       "  </thead>\n",
       "  <tbody>\n",
       "    <tr>\n",
       "      <th>0</th>\n",
       "      <td>BNYC</td>\n",
       "      <td>2015Q1</td>\n",
       "      <td>NASDAQ</td>\n",
       "      <td>11</td>\n",
       "      <td>213581</td>\n",
       "      <td>43704397</td>\n",
       "      <td>70249</td>\n",
       "      <td>43628268</td>\n",
       "      <td>0</td>\n",
       "      <td>43526470</td>\n",
       "      <td>...</td>\n",
       "      <td>0.005705</td>\n",
       "      <td>0.240511</td>\n",
       "      <td>0.877085</td>\n",
       "      <td>0.061611</td>\n",
       "      <td>0.082561</td>\n",
       "      <td>0.115073</td>\n",
       "      <td>0.011198</td>\n",
       "      <td>-0.005493</td>\n",
       "      <td>0.105550</td>\n",
       "      <td>0.134962</td>\n",
       "    </tr>\n",
       "    <tr>\n",
       "      <th>1</th>\n",
       "      <td>BNYC</td>\n",
       "      <td>2015Q1</td>\n",
       "      <td>NASDAQ</td>\n",
       "      <td>12</td>\n",
       "      <td>37042</td>\n",
       "      <td>7770176</td>\n",
       "      <td>4851</td>\n",
       "      <td>7750829</td>\n",
       "      <td>0</td>\n",
       "      <td>7713717</td>\n",
       "      <td>...</td>\n",
       "      <td>0.000590</td>\n",
       "      <td>2.094708</td>\n",
       "      <td>0.661344</td>\n",
       "      <td>0.215484</td>\n",
       "      <td>0.188143</td>\n",
       "      <td>0.141117</td>\n",
       "      <td>0.005108</td>\n",
       "      <td>-0.004517</td>\n",
       "      <td>1.566054</td>\n",
       "      <td>0.528654</td>\n",
       "    </tr>\n",
       "    <tr>\n",
       "      <th>2</th>\n",
       "      <td>BNYC</td>\n",
       "      <td>2015Q1</td>\n",
       "      <td>NASDAQ</td>\n",
       "      <td>13</td>\n",
       "      <td>12616</td>\n",
       "      <td>2573500</td>\n",
       "      <td>501881</td>\n",
       "      <td>1976798</td>\n",
       "      <td>0</td>\n",
       "      <td>1048397</td>\n",
       "      <td>...</td>\n",
       "      <td>NaN</td>\n",
       "      <td>0.000000</td>\n",
       "      <td>0.000000</td>\n",
       "      <td>0.000000</td>\n",
       "      <td>NaN</td>\n",
       "      <td>NaN</td>\n",
       "      <td>NaN</td>\n",
       "      <td>NaN</td>\n",
       "      <td>0.000000</td>\n",
       "      <td>0.000000</td>\n",
       "    </tr>\n",
       "    <tr>\n",
       "      <th>3</th>\n",
       "      <td>BNYC</td>\n",
       "      <td>2015Q1</td>\n",
       "      <td>NASDAQ</td>\n",
       "      <td>14</td>\n",
       "      <td>11996</td>\n",
       "      <td>2589515</td>\n",
       "      <td>641176</td>\n",
       "      <td>1838962</td>\n",
       "      <td>0</td>\n",
       "      <td>504154</td>\n",
       "      <td>...</td>\n",
       "      <td>NaN</td>\n",
       "      <td>0.000000</td>\n",
       "      <td>0.000000</td>\n",
       "      <td>0.000000</td>\n",
       "      <td>NaN</td>\n",
       "      <td>NaN</td>\n",
       "      <td>NaN</td>\n",
       "      <td>NaN</td>\n",
       "      <td>0.000000</td>\n",
       "      <td>0.000000</td>\n",
       "    </tr>\n",
       "    <tr>\n",
       "      <th>4</th>\n",
       "      <td>BNYC</td>\n",
       "      <td>2015Q1</td>\n",
       "      <td>NASDAQ</td>\n",
       "      <td>15</td>\n",
       "      <td>36132</td>\n",
       "      <td>7574355</td>\n",
       "      <td>2619472</td>\n",
       "      <td>4075705</td>\n",
       "      <td>0</td>\n",
       "      <td>404016</td>\n",
       "      <td>...</td>\n",
       "      <td>NaN</td>\n",
       "      <td>0.000000</td>\n",
       "      <td>0.000000</td>\n",
       "      <td>0.000000</td>\n",
       "      <td>NaN</td>\n",
       "      <td>NaN</td>\n",
       "      <td>NaN</td>\n",
       "      <td>NaN</td>\n",
       "      <td>0.000000</td>\n",
       "      <td>0.000000</td>\n",
       "    </tr>\n",
       "  </tbody>\n",
       "</table>\n",
       "<p>5 rows × 45 columns</p>\n",
       "</div>"
      ],
      "text/plain": [
       "  MarketCenter Quarter Exchange  OrderCode  CoveredOrders  CoveredShares  \\\n",
       "0         BNYC  2015Q1   NASDAQ         11         213581       43704397   \n",
       "1         BNYC  2015Q1   NASDAQ         12          37042        7770176   \n",
       "2         BNYC  2015Q1   NASDAQ         13          12616        2573500   \n",
       "3         BNYC  2015Q1   NASDAQ         14          11996        2589515   \n",
       "4         BNYC  2015Q1   NASDAQ         15          36132        7574355   \n",
       "\n",
       "   CancelledShares  MktCtrExecShares  AwayExecShares  ExecShares_0_9  \\\n",
       "0            70249          43628268               0        43526470   \n",
       "1             4851           7750829               0         7713717   \n",
       "2           501881           1976798               0         1048397   \n",
       "3           641176           1838962               0          504154   \n",
       "4          2619472           4075705               0          404016   \n",
       "\n",
       "       ...       PrImp_ExpAmt  All_AvgT  MktCtrAvg_PrImp_Pct  Rel_PrImp_Pct  \\\n",
       "0      ...           0.005705  0.240511             0.877085       0.061611   \n",
       "1      ...           0.000590  2.094708             0.661344       0.215484   \n",
       "2      ...                NaN  0.000000             0.000000       0.000000   \n",
       "3      ...                NaN  0.000000             0.000000       0.000000   \n",
       "4      ...                NaN  0.000000             0.000000       0.000000   \n",
       "\n",
       "   MktCtrAvg_PrImp_AvgT  Rel_PrImp_AvgT  MktCtrAvg_PrImp_ExpAmt  \\\n",
       "0              0.082561        0.115073                0.011198   \n",
       "1              0.188143        0.141117                0.005108   \n",
       "2                   NaN             NaN                     NaN   \n",
       "3                   NaN             NaN                     NaN   \n",
       "4                   NaN             NaN                     NaN   \n",
       "\n",
       "   Rel_PrImp_ExpAmt  MktCtrAvg_All_AvgT  Rel_All_AvgT  \n",
       "0         -0.005493            0.105550      0.134962  \n",
       "1         -0.004517            1.566054      0.528654  \n",
       "2               NaN            0.000000      0.000000  \n",
       "3               NaN            0.000000      0.000000  \n",
       "4               NaN            0.000000      0.000000  \n",
       "\n",
       "[5 rows x 45 columns]"
      ]
     },
     "execution_count": 98,
     "metadata": {},
     "output_type": "execute_result"
    }
   ],
   "source": [
    "# Import data\n",
    "data_605 = rawdata_605.copy()\n",
    "\n",
    "# Quarter column\n",
    "data_605['Quarter'] = data_605['idate'].apply(lambda x: convertDateToQuarter(datetime.strptime(str(int(x)), '%Y%m')))\n",
    "data_605['Quarter'] = pd.PeriodIndex(data_605['Quarter'], freq='Q').values\n",
    "data_605 = data_605.drop('idate', axis = 1)\n",
    "\n",
    "# Temporary Variables for Aggregation\n",
    "data_605['PrImp_TotalT']     = data_605['PrImpShares']    * data_605['PrImp_AvgT']\n",
    "data_605['PrImp_TotalAmt']   = data_605['PrImpShares']    * data_605['PrImp_AvgAmt']\n",
    "data_605['ATQ_TotalT']       = data_605['ATQShares']      * data_605['ATQ_AvgT']\n",
    "data_605['OTQ_TotalT']       = data_605['OTQShares']      * data_605['OTQ_AvgT']\n",
    "data_605['AvgRealSpread_T']  = data_605['AvgRealSpread']  * data_605['ExecShares']\n",
    "data_605['AvgEffecSpread_T'] = data_605['AvgEffecSpread'] * data_605['ExecShares']\n",
    "\n",
    "data_605 = data_605.groupby(['MarketCenter', 'Quarter', 'Exchange', 'OrderCode']) \\\n",
    "        .sum().reset_index()\n",
    "\n",
    "# Reconstruct original variables\n",
    "data_605['PrImp_AvgT']     = data_605['PrImp_TotalT']     / data_605['PrImpShares']\n",
    "data_605['PrImp_AvgAmt']   = data_605['PrImp_TotalAmt']   / data_605['PrImpShares'] \n",
    "data_605['ATQ_AvgT']       = data_605['ATQ_TotalT']       / data_605['ATQShares']\n",
    "data_605['OTQ_AvgT']       = data_605['OTQ_TotalT']       / data_605['OTQShares']\n",
    "data_605['AvgRealSpread']  = data_605['AvgRealSpread_T']  / data_605['ExecShares']\n",
    "data_605['AvgEffecSpread'] = data_605['AvgEffecSpread_T'] / data_605['ExecShares'] \n",
    "data_605['PrImp_Pct']      = data_605['PrImpShares']      / data_605['ExecShares']\n",
    "data_605['ATQ_Pct']        = data_605['ATQShares']        / data_605['ExecShares']\n",
    "data_605['OTQ_Pct']        = data_605['OTQShares']        / data_605['ExecShares']\n",
    "\n",
    "## New Vars\n",
    "\n",
    "# Absolute\n",
    "data_605['OrderType']    = data_605['OrderCode'].apply(lambda x: ordertype_dict.get(x, 'Other'))\n",
    "data_605['PrImp_ExpAmt'] = data_605['PrImp_AvgAmt'] * data_605['PrImp_Pct']\n",
    "data_605['All_AvgT']     = (data_605['PrImp_TotalT'] + data_605['ATQ_TotalT'] + data_605['OTQ_TotalT']) \\\n",
    "                            / data_605['ExecShares']\n",
    "data_605 = data_605.rename(columns = {'idate': 'Date'})\n",
    "\n",
    "# Relative values\n",
    "data_605_grouped = data_605.groupby(['Exchange', 'OrderType', 'Quarter'])\n",
    "\n",
    "data_605['MktCtrAvg_PrImp_Pct']  = data_605_grouped['PrImp_Pct'].transform(\"mean\")\n",
    "data_605['Rel_PrImp_Pct']        = data_605['PrImp_Pct'] - data_605['MktCtrAvg_PrImp_Pct']\n",
    "data_605['MktCtrAvg_PrImp_AvgT'] = data_605_grouped['PrImp_AvgT'].transform(\"mean\")\n",
    "data_605['Rel_PrImp_AvgT']       = data_605['PrImp_AvgT'] - data_605['MktCtrAvg_PrImp_AvgT']    \n",
    "data_605['MktCtrAvg_PrImp_ExpAmt'] = data_605_grouped['PrImp_ExpAmt'].transform(\"mean\")\n",
    "data_605['Rel_PrImp_ExpAmt']       = data_605['PrImp_ExpAmt'] - data_605['MktCtrAvg_PrImp_ExpAmt']   \n",
    "data_605['MktCtrAvg_All_AvgT'] = data_605_grouped['All_AvgT'].transform(\"mean\")\n",
    "data_605['Rel_All_AvgT']       = data_605['All_AvgT'] - data_605['MktCtrAvg_All_AvgT']   \n",
    "\n",
    "data_605.head()"
   ]
  },
  {
   "cell_type": "markdown",
   "metadata": {},
   "source": [
    "# Merge Datasets"
   ]
  },
  {
   "cell_type": "code",
   "execution_count": 99,
   "metadata": {
    "ExecuteTime": {
     "end_time": "2018-02-08T17:44:26.488882Z",
     "start_time": "2018-02-08T17:44:25.807787Z"
    }
   },
   "outputs": [
    {
     "name": "stdout",
     "output_type": "stream",
     "text": [
      "Total Observations: 5964\n",
      "Brokers: 30\n",
      "Market Centers: 8\n"
     ]
    },
    {
     "data": {
      "text/html": [
       "<div>\n",
       "<style scoped>\n",
       "    .dataframe tbody tr th:only-of-type {\n",
       "        vertical-align: middle;\n",
       "    }\n",
       "\n",
       "    .dataframe tbody tr th {\n",
       "        vertical-align: top;\n",
       "    }\n",
       "\n",
       "    .dataframe thead th {\n",
       "        text-align: right;\n",
       "    }\n",
       "</style>\n",
       "<table border=\"1\" class=\"dataframe\">\n",
       "  <thead>\n",
       "    <tr style=\"text-align: right;\">\n",
       "      <th></th>\n",
       "      <th>MarketCenter</th>\n",
       "      <th>Quarter</th>\n",
       "      <th>Exchange</th>\n",
       "      <th>OrderCode</th>\n",
       "      <th>CoveredOrders</th>\n",
       "      <th>CoveredShares</th>\n",
       "      <th>CancelledShares</th>\n",
       "      <th>MktCtrExecShares</th>\n",
       "      <th>AwayExecShares</th>\n",
       "      <th>ExecShares_0_9</th>\n",
       "      <th>...</th>\n",
       "      <th>Rel_PrImp_AvgT</th>\n",
       "      <th>MktCtrAvg_PrImp_ExpAmt</th>\n",
       "      <th>Rel_PrImp_ExpAmt</th>\n",
       "      <th>MktCtrAvg_All_AvgT</th>\n",
       "      <th>Rel_All_AvgT</th>\n",
       "      <th>Broker</th>\n",
       "      <th>Rebate</th>\n",
       "      <th>MktShare</th>\n",
       "      <th>Rebate_Dummy</th>\n",
       "      <th>Broker_Size</th>\n",
       "    </tr>\n",
       "  </thead>\n",
       "  <tbody>\n",
       "    <tr>\n",
       "      <th>0</th>\n",
       "      <td>BNYC</td>\n",
       "      <td>2015Q1</td>\n",
       "      <td>NASDAQ</td>\n",
       "      <td>11</td>\n",
       "      <td>213581</td>\n",
       "      <td>43704397</td>\n",
       "      <td>70249</td>\n",
       "      <td>43628268</td>\n",
       "      <td>0</td>\n",
       "      <td>43526470</td>\n",
       "      <td>...</td>\n",
       "      <td>0.115073</td>\n",
       "      <td>0.011198</td>\n",
       "      <td>-0.005493</td>\n",
       "      <td>0.105550</td>\n",
       "      <td>0.134962</td>\n",
       "      <td>Insigneo Securities</td>\n",
       "      <td>0.0</td>\n",
       "      <td>0.7766</td>\n",
       "      <td>0</td>\n",
       "      <td>NaN</td>\n",
       "    </tr>\n",
       "    <tr>\n",
       "      <th>1</th>\n",
       "      <td>BNYC</td>\n",
       "      <td>2015Q1</td>\n",
       "      <td>NASDAQ</td>\n",
       "      <td>12</td>\n",
       "      <td>37042</td>\n",
       "      <td>7770176</td>\n",
       "      <td>4851</td>\n",
       "      <td>7750829</td>\n",
       "      <td>0</td>\n",
       "      <td>7713717</td>\n",
       "      <td>...</td>\n",
       "      <td>0.141117</td>\n",
       "      <td>0.005108</td>\n",
       "      <td>-0.004517</td>\n",
       "      <td>1.566054</td>\n",
       "      <td>0.528654</td>\n",
       "      <td>Insigneo Securities</td>\n",
       "      <td>0.0</td>\n",
       "      <td>0.6279</td>\n",
       "      <td>0</td>\n",
       "      <td>NaN</td>\n",
       "    </tr>\n",
       "    <tr>\n",
       "      <th>5</th>\n",
       "      <td>BNYC</td>\n",
       "      <td>2015Q1</td>\n",
       "      <td>NYSE</td>\n",
       "      <td>11</td>\n",
       "      <td>396811</td>\n",
       "      <td>81015802</td>\n",
       "      <td>108105</td>\n",
       "      <td>80902077</td>\n",
       "      <td>0</td>\n",
       "      <td>80833088</td>\n",
       "      <td>...</td>\n",
       "      <td>0.070049</td>\n",
       "      <td>0.006949</td>\n",
       "      <td>-0.002302</td>\n",
       "      <td>0.094201</td>\n",
       "      <td>0.074817</td>\n",
       "      <td>Insigneo Securities</td>\n",
       "      <td>0.0</td>\n",
       "      <td>0.7379</td>\n",
       "      <td>0</td>\n",
       "      <td>NaN</td>\n",
       "    </tr>\n",
       "    <tr>\n",
       "      <th>6</th>\n",
       "      <td>BNYC</td>\n",
       "      <td>2015Q1</td>\n",
       "      <td>NYSE</td>\n",
       "      <td>12</td>\n",
       "      <td>45238</td>\n",
       "      <td>9529134</td>\n",
       "      <td>5233</td>\n",
       "      <td>9506679</td>\n",
       "      <td>0</td>\n",
       "      <td>9478187</td>\n",
       "      <td>...</td>\n",
       "      <td>0.016105</td>\n",
       "      <td>0.003145</td>\n",
       "      <td>-0.002832</td>\n",
       "      <td>1.285204</td>\n",
       "      <td>-0.294374</td>\n",
       "      <td>Insigneo Securities</td>\n",
       "      <td>0.0</td>\n",
       "      <td>0.5228</td>\n",
       "      <td>0</td>\n",
       "      <td>NaN</td>\n",
       "    </tr>\n",
       "    <tr>\n",
       "      <th>10</th>\n",
       "      <td>BNYC</td>\n",
       "      <td>2015Q1</td>\n",
       "      <td>Other</td>\n",
       "      <td>11</td>\n",
       "      <td>257920</td>\n",
       "      <td>55831472</td>\n",
       "      <td>108233</td>\n",
       "      <td>55715793</td>\n",
       "      <td>0</td>\n",
       "      <td>55640416</td>\n",
       "      <td>...</td>\n",
       "      <td>-0.023154</td>\n",
       "      <td>0.008315</td>\n",
       "      <td>-0.003278</td>\n",
       "      <td>0.331655</td>\n",
       "      <td>-0.098908</td>\n",
       "      <td>Insigneo Securities</td>\n",
       "      <td>0.0</td>\n",
       "      <td>0.7026</td>\n",
       "      <td>0</td>\n",
       "      <td>NaN</td>\n",
       "    </tr>\n",
       "  </tbody>\n",
       "</table>\n",
       "<p>5 rows × 50 columns</p>\n",
       "</div>"
      ],
      "text/plain": [
       "   MarketCenter Quarter Exchange  OrderCode  CoveredOrders  CoveredShares  \\\n",
       "0          BNYC  2015Q1   NASDAQ         11         213581       43704397   \n",
       "1          BNYC  2015Q1   NASDAQ         12          37042        7770176   \n",
       "5          BNYC  2015Q1     NYSE         11         396811       81015802   \n",
       "6          BNYC  2015Q1     NYSE         12          45238        9529134   \n",
       "10         BNYC  2015Q1    Other         11         257920       55831472   \n",
       "\n",
       "    CancelledShares  MktCtrExecShares  AwayExecShares  ExecShares_0_9  \\\n",
       "0             70249          43628268               0        43526470   \n",
       "1              4851           7750829               0         7713717   \n",
       "5            108105          80902077               0        80833088   \n",
       "6              5233           9506679               0         9478187   \n",
       "10           108233          55715793               0        55640416   \n",
       "\n",
       "       ...       Rel_PrImp_AvgT  MktCtrAvg_PrImp_ExpAmt  Rel_PrImp_ExpAmt  \\\n",
       "0      ...             0.115073                0.011198         -0.005493   \n",
       "1      ...             0.141117                0.005108         -0.004517   \n",
       "5      ...             0.070049                0.006949         -0.002302   \n",
       "6      ...             0.016105                0.003145         -0.002832   \n",
       "10     ...            -0.023154                0.008315         -0.003278   \n",
       "\n",
       "    MktCtrAvg_All_AvgT  Rel_All_AvgT               Broker  Rebate  MktShare  \\\n",
       "0             0.105550      0.134962  Insigneo Securities     0.0    0.7766   \n",
       "1             1.566054      0.528654  Insigneo Securities     0.0    0.6279   \n",
       "5             0.094201      0.074817  Insigneo Securities     0.0    0.7379   \n",
       "6             1.285204     -0.294374  Insigneo Securities     0.0    0.5228   \n",
       "10            0.331655     -0.098908  Insigneo Securities     0.0    0.7026   \n",
       "\n",
       "    Rebate_Dummy  Broker_Size  \n",
       "0              0          NaN  \n",
       "1              0          NaN  \n",
       "5              0          NaN  \n",
       "6              0          NaN  \n",
       "10             0          NaN  \n",
       "\n",
       "[5 rows x 50 columns]"
      ]
     },
     "execution_count": 99,
     "metadata": {},
     "output_type": "execute_result"
    }
   ],
   "source": [
    "data_merged = data_605.merge(data_606)\n",
    "\n",
    "data_merged = data_merged.query('OrderCode < 13')\n",
    "data_merged = data_merged.drop('Obs_id', axis = 1)\n",
    "data_merged.set_index(['Quarter'])\n",
    "data_merged['Broker_Size'] = data_merged['Broker'].apply(lambda x: broker_vol_dict['Size'].get(x))\n",
    "\n",
    "\n",
    "print('Total Observations: ' + str(len(data_merged)))\n",
    "print('Brokers: ' + str(len(set(list(data_merged['Broker'])))))\n",
    "print('Market Centers: ' + str(len(set(list(data_merged['MarketCenter'])))))\n",
    "\n",
    "data_merged.head()"
   ]
  },
  {
   "cell_type": "markdown",
   "metadata": {},
   "source": [
    "# Data Export"
   ]
  },
  {
   "cell_type": "markdown",
   "metadata": {},
   "source": [
    "## Panel"
   ]
  },
  {
   "cell_type": "code",
   "execution_count": 100,
   "metadata": {
    "ExecuteTime": {
     "end_time": "2018-02-08T04:19:32.906440Z",
     "start_time": "2018-02-08T04:19:32.700190Z"
    }
   },
   "outputs": [
    {
     "data": {
      "text/html": [
       "<div>\n",
       "<style scoped>\n",
       "    .dataframe tbody tr th:only-of-type {\n",
       "        vertical-align: middle;\n",
       "    }\n",
       "\n",
       "    .dataframe tbody tr th {\n",
       "        vertical-align: top;\n",
       "    }\n",
       "\n",
       "    .dataframe thead th {\n",
       "        text-align: right;\n",
       "    }\n",
       "</style>\n",
       "<table border=\"1\" class=\"dataframe\">\n",
       "  <thead>\n",
       "    <tr style=\"text-align: right;\">\n",
       "      <th></th>\n",
       "      <th>MarketCenter</th>\n",
       "      <th>Quarter</th>\n",
       "      <th>Exchange</th>\n",
       "      <th>OrderCode</th>\n",
       "      <th>CoveredOrders</th>\n",
       "      <th>CoveredShares</th>\n",
       "      <th>CancelledShares</th>\n",
       "      <th>MktCtrExecShares</th>\n",
       "      <th>AwayExecShares</th>\n",
       "      <th>ExecShares_0_9</th>\n",
       "      <th>...</th>\n",
       "      <th>Rel_PrImp_AvgT</th>\n",
       "      <th>MktCtrAvg_PrImp_ExpAmt</th>\n",
       "      <th>Rel_PrImp_ExpAmt</th>\n",
       "      <th>MktCtrAvg_All_AvgT</th>\n",
       "      <th>Rel_All_AvgT</th>\n",
       "      <th>Broker</th>\n",
       "      <th>Rebate</th>\n",
       "      <th>MktShare</th>\n",
       "      <th>Rebate_Dummy</th>\n",
       "      <th>Broker_Size</th>\n",
       "    </tr>\n",
       "  </thead>\n",
       "  <tbody>\n",
       "    <tr>\n",
       "      <th>5822</th>\n",
       "      <td>FBCO</td>\n",
       "      <td>2017Q1</td>\n",
       "      <td>NASDAQ</td>\n",
       "      <td>11</td>\n",
       "      <td>7489</td>\n",
       "      <td>1597372</td>\n",
       "      <td>700</td>\n",
       "      <td>25403</td>\n",
       "      <td>1571269</td>\n",
       "      <td>1595271</td>\n",
       "      <td>...</td>\n",
       "      <td>0.152687</td>\n",
       "      <td>0.012673</td>\n",
       "      <td>-0.008989</td>\n",
       "      <td>0.185031</td>\n",
       "      <td>0.159272</td>\n",
       "      <td>Deutsche</td>\n",
       "      <td>1.0</td>\n",
       "      <td>0.0000</td>\n",
       "      <td>1</td>\n",
       "      <td>2.045009e+10</td>\n",
       "    </tr>\n",
       "    <tr>\n",
       "      <th>13381</th>\n",
       "      <td>UBSS</td>\n",
       "      <td>2017Q1</td>\n",
       "      <td>NASDAQ</td>\n",
       "      <td>11</td>\n",
       "      <td>574854</td>\n",
       "      <td>117944884</td>\n",
       "      <td>25936</td>\n",
       "      <td>70779706</td>\n",
       "      <td>47106367</td>\n",
       "      <td>117861334</td>\n",
       "      <td>...</td>\n",
       "      <td>0.086393</td>\n",
       "      <td>0.012673</td>\n",
       "      <td>0.000702</td>\n",
       "      <td>0.185031</td>\n",
       "      <td>0.315858</td>\n",
       "      <td>Deutsche</td>\n",
       "      <td>1.0</td>\n",
       "      <td>0.0016</td>\n",
       "      <td>1</td>\n",
       "      <td>2.045009e+10</td>\n",
       "    </tr>\n",
       "  </tbody>\n",
       "</table>\n",
       "<p>2 rows × 50 columns</p>\n",
       "</div>"
      ],
      "text/plain": [
       "      MarketCenter Quarter Exchange  OrderCode  CoveredOrders  CoveredShares  \\\n",
       "5822          FBCO  2017Q1   NASDAQ         11           7489        1597372   \n",
       "13381         UBSS  2017Q1   NASDAQ         11         574854      117944884   \n",
       "\n",
       "       CancelledShares  MktCtrExecShares  AwayExecShares  ExecShares_0_9  \\\n",
       "5822               700             25403         1571269         1595271   \n",
       "13381            25936          70779706        47106367       117861334   \n",
       "\n",
       "           ...       Rel_PrImp_AvgT  MktCtrAvg_PrImp_ExpAmt  Rel_PrImp_ExpAmt  \\\n",
       "5822       ...             0.152687                0.012673         -0.008989   \n",
       "13381      ...             0.086393                0.012673          0.000702   \n",
       "\n",
       "       MktCtrAvg_All_AvgT  Rel_All_AvgT    Broker  Rebate  MktShare  \\\n",
       "5822             0.185031      0.159272  Deutsche     1.0    0.0000   \n",
       "13381            0.185031      0.315858  Deutsche     1.0    0.0016   \n",
       "\n",
       "       Rebate_Dummy   Broker_Size  \n",
       "5822              1  2.045009e+10  \n",
       "13381             1  2.045009e+10  \n",
       "\n",
       "[2 rows x 50 columns]"
      ]
     },
     "execution_count": 100,
     "metadata": {},
     "output_type": "execute_result"
    }
   ],
   "source": [
    "# test\n",
    "data_merged[data_merged['Quarter'] == pd.Period('2017Q1')].query('Broker == \"Deutsche\" & OrderType == \"Market\" & Exchange == \"NASDAQ\"')"
   ]
  },
  {
   "cell_type": "markdown",
   "metadata": {},
   "source": [
    "## Fixed Effects"
   ]
  },
  {
   "cell_type": "code",
   "execution_count": 101,
   "metadata": {
    "ExecuteTime": {
     "end_time": "2018-02-08T17:45:39.133723Z",
     "start_time": "2018-02-08T17:45:31.965102Z"
    }
   },
   "outputs": [],
   "source": [
    "data_merged_demeaned = data_merged - data_merged.groupby(\n",
    "    ['Broker', 'MarketCenter', 'Exchange', 'OrderType']).transform(\"mean\")\n",
    "\n",
    "data_merged_demeaned[['Broker', 'Exchange', 'MarketCenter', 'OrderType', 'Quarter']] = data_merged[['Broker', 'Exchange', 'MarketCenter', 'OrderType', 'Quarter']]\n",
    "\n",
    "data_merged_demeaned['Rebate_Dummy'] = data_merged['Rebate_Dummy']"
   ]
  },
  {
   "cell_type": "markdown",
   "metadata": {},
   "source": [
    "## To CSV"
   ]
  },
  {
   "cell_type": "code",
   "execution_count": 102,
   "metadata": {
    "ExecuteTime": {
     "end_time": "2018-02-08T17:45:56.695529Z",
     "start_time": "2018-02-08T17:45:54.049403Z"
    }
   },
   "outputs": [],
   "source": [
    "# Panel\n",
    "data_merged.to_csv('../data/processed/regression_data_levels.csv', index=False)\n",
    "\n",
    "# Demeaned\n",
    "data_merged_demeaned.to_csv(\n",
    "    '../data/processed/regression_data_levels_demeaned.csv', index=False)\n",
    "\n",
    "# 605 and 606\n",
    "data_605.to_csv('../data/processed/605_processed.csv', index = False)\n",
    "data_606.to_csv('../data/processed/606_processed.csv', index = False)\n",
    "\n",
    "# raw\n",
    "rawdata_605.to_csv('../data/rawdata_605.csv', index = False)\n",
    "rawdata_606.to_csv('../data/rawdata_606.csv', index = False)"
   ]
  },
  {
   "cell_type": "code",
   "execution_count": null,
   "metadata": {},
   "outputs": [],
   "source": []
  },
  {
   "cell_type": "code",
   "execution_count": null,
   "metadata": {},
   "outputs": [],
   "source": []
  },
  {
   "cell_type": "code",
   "execution_count": null,
   "metadata": {},
   "outputs": [],
   "source": []
  }
 ],
 "metadata": {
  "kernelspec": {
   "display_name": "Python 3",
   "language": "python",
   "name": "python3"
  },
  "language_info": {
   "codemirror_mode": {
    "name": "ipython",
    "version": 3
   },
   "file_extension": ".py",
   "mimetype": "text/x-python",
   "name": "python",
   "nbconvert_exporter": "python",
   "pygments_lexer": "ipython3",
   "version": "3.5.2"
  },
  "toc": {
   "nav_menu": {},
   "number_sections": false,
   "sideBar": true,
   "skip_h1_title": false,
   "toc_cell": false,
   "toc_position": {
    "height": "847px",
    "left": "0px",
    "right": "816px",
    "top": "92px",
    "width": "134px"
   },
   "toc_section_display": "block",
   "toc_window_display": true
  },
  "varInspector": {
   "cols": {
    "lenName": 16,
    "lenType": 16,
    "lenVar": 40
   },
   "kernels_config": {
    "python": {
     "delete_cmd_postfix": "",
     "delete_cmd_prefix": "del ",
     "library": "var_list.py",
     "varRefreshCmd": "print(var_dic_list())"
    },
    "r": {
     "delete_cmd_postfix": ") ",
     "delete_cmd_prefix": "rm(",
     "library": "var_list.r",
     "varRefreshCmd": "cat(var_dic_list()) "
    }
   },
   "types_to_exclude": [
    "module",
    "function",
    "builtin_function_or_method",
    "instance",
    "_Feature"
   ],
   "window_display": false
  }
 },
 "nbformat": 4,
 "nbformat_minor": 2
}
