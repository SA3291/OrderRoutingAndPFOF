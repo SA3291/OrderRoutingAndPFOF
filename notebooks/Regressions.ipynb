{
 "cells": [
  {
   "cell_type": "code",
   "execution_count": 3,
   "metadata": {},
   "outputs": [],
   "source": [
    "import numpy as np\n",
    "import pandas as pd\n",
    "from scipy.optimize import minimize\n",
    "from scipy.stats import norm\n",
    "import matplotlib.pyplot as plt\n",
    "\n",
    "%matplotlib inline"
   ]
  },
  {
   "cell_type": "markdown",
   "metadata": {},
   "source": [
    "# Functions"
   ]
  },
  {
   "cell_type": "code",
   "execution_count": 491,
   "metadata": {},
   "outputs": [],
   "source": [
    "# Trimming function\n",
    "def trim(X, percent):\n",
    "    \n",
    "    alpha = (1 - percent)/2\n",
    "    n, k = np.shape(X)\n",
    "    t_ind = np.zeros((n, k))\n",
    "    \n",
    "    for i in range(0, k):\n",
    "        upper_bd = np.percentile(X[:,i], (1 - alpha)*100)\n",
    "        lower_bd = np.percentile(X[:,i], (alpha)*100)\n",
    "        t_ind[:, i] = [int(lower_bd < x < upper_bd) for x in X[:,i]]\n",
    "        \n",
    "    return np.prod(t_ind, axis = 1)\n",
    "\n",
    "# Conditional Expectation\n",
    "def CE_1(Y, X, arg, r):\n",
    "    \n",
    "    n_arg = np.shape(arg)[0]\n",
    "    n = np.shape(X)[0]\n",
    "    h = (n**(-r)) * np.std(X, axis = 0, ddof = 1)\n",
    "    e = np.zeros((n_arg, 1))\n",
    "    \n",
    "    for j in range(0, n_arg):\n",
    "        k = np.divide(norm.pdf(np.divide((arg[j] - X), h)), h)\n",
    "        k = np.prod(k, axis = 1)   \n",
    "        e[j] = (Y.T*k/n)/np.mean(k)\n",
    "        \n",
    "    return e\n",
    "\n",
    "# Semiparametric Least Squares objective\n",
    "def SLS_1(b, Y, X, X_ind):\n",
    "    \n",
    "    v = X * np.matrix(b).T\n",
    "    EY = CE_1(Y, v, v, 1/5)\n",
    "    residual = np.power((Y - EY), 2)\n",
    "    \n",
    "    return (-0.5 * np.matrix(X_ind)*residual)\n",
    "\n",
    "# Regress Y on X with SLS\n",
    "def run_semiparametric_regression(Y, X, guess, trim_percent = 0.98):\n",
    "    \n",
    "    obj_f = lambda x_0: -SLS_1(x_0, Y, X, trim(X, trim_percent))\n",
    "    result = minimize(obj_f, guess, method='BFGS')\n",
    "    return result\n",
    "\n",
    "# Hessian to Covariance matrix\n",
    "def convert_hessian_to_cov(Y, X, results):\n",
    "    \n",
    "    sigma_2_hat = np.mean(np.power(Y - X*np.matrix(results.x).T, 2))\n",
    "    return results.hess_inv * sigma_2_hat\n",
    "\n",
    "# Marginal effects at a point using CE_1\n",
    "def compute_marginal_effect(Y, X, ind, point, beta, delta = 0.01):\n",
    "\n",
    "    point_nudge = np.copy(point)\n",
    "    point_nudge[0, ind] = point_nudge[0, ind] + delta\n",
    "    point_nudge = np.matrix(point_nudge)\n",
    "    \n",
    "    v_hat = X*beta\n",
    "    v_hat_avg = point*beta\n",
    "    v_hat_avg_nudge = point_nudge*beta\n",
    "    \n",
    "    return np.asscalar(CE_1(Y, v_hat, v_hat_avg_nudge, 1/5) - CE_1(Y, v_hat, v_hat_avg, 1/5))/delta\n",
    "\n",
    "# Range of marginal effects \n",
    "def calculate_me_range(Y, X, result, ind, point, delta = .001, delta_range = [0.0001, 0.01], parameter_range = [0, 0.014], n_1 = 200, n_2 = 5):\n",
    "\n",
    "    beta = np.matrix(result.x).T\n",
    "    \n",
    "    me_results = np.zeros(shape = (n_1, 2, n_2))\n",
    "    \n",
    "    linspace_1 = np.linspace(parameter_range[0], parameter_range[1], num = n_1)\n",
    "    linspace_2 = np.linspace(delta_range[0], delta_range[1], num = n_2)\n",
    "    \n",
    "    for j in range(0, n_2):\n",
    "\n",
    "        delta = linspace_2[j]\n",
    "        #primp_avgt = np.linspace(0.001, 0.5, num = n_2)[j]\n",
    "\n",
    "        for i in range(0, n_1):\n",
    "  \n",
    "            point_temp = np.copy(point)\n",
    "            point_temp[0, ind] = linspace_1[i]\n",
    "            \n",
    "            me_vec = compute_marginal_effect(Y, X, ind, point_temp, beta, delta = delta)\n",
    "\n",
    "            me_results[i,:,j] = np.array([linspace_1[i], np.asscalar(me_vec)])\n",
    "            \n",
    "    return me_results   \n",
    "\n",
    "# T-stats with first coefficient fixed\n",
    "def find_tstats(Y, X, results):\n",
    "    \n",
    "    V = convert_hessian_to_cov(Y, X, results)\n",
    "\n",
    "    n = np.shape(results.x)[0]\n",
    "    theta = results.x/results.x[0]\n",
    "    t_stats = np.zeros(shape = (n))\n",
    "    t_stats[0] = np.nan # first t-stat is unknown\n",
    "\n",
    "    for i in range(1, n):\n",
    "        t_stats[i] = theta[i] / np.sqrt(V[i,i])\n",
    "\n",
    "    return t_stats"
   ]
  },
  {
   "cell_type": "markdown",
   "metadata": {},
   "source": [
    "# Load Data"
   ]
  },
  {
   "cell_type": "code",
   "execution_count": 839,
   "metadata": {},
   "outputs": [],
   "source": [
    "sample_size = 1000 # None => All obs\n",
    "\n",
    "data_df = pd.read_csv('../data/processed/regression_data_levels.csv').dropna().sample(n = sample_size)\n",
    "data_df['PrImp_Pct*Rebate_Dummy'] = data_df['PrImp_Pct'] * data_df['Rebate_Dummy']\n",
    "data_df['PrImp_AvgAmt*Rebate_Dummy'] = data_df['PrImp_AvgAmt'] * data_df['Rebate_Dummy']\n",
    "data_df['PrImp_ExpAmt*Rebate_Dummy'] = data_df['PrImp_ExpAmt'] * data_df['Rebate_Dummy']\n",
    "data_df['PrImp_AvgT*Rebate_Dummy'] = data_df['PrImp_AvgT'] * data_df['Rebate_Dummy']\n",
    "data_df['All_AvgT*Rebate_Dummy'] = data_df['All_AvgT'] * data_df['Rebate_Dummy']"
   ]
  },
  {
   "cell_type": "markdown",
   "metadata": {},
   "source": [
    "# Regressions "
   ]
  },
  {
   "cell_type": "code",
   "execution_count": 840,
   "metadata": {},
   "outputs": [],
   "source": [
    "# Fits\n",
    "fit1_formula = 'MktShare ~ PrImp_Pct + PrImp_AvgAmt + PrImp_AvgT'\n",
    "fit2_formula = 'MktShare ~ PrImp_ExpAmt + PrImp_AvgT'\n",
    "fit3_formula = 'MktShare ~ PrImp_Pct + PrImp_AvgAmt + All_AvgT'\n",
    "fit4_formula = 'MktShare ~ PrImp_ExpAmt + All_AvgT'\n",
    "\n",
    "# fit1_formula = 'MktShare ~ PrImp_Pct + PrImp_Pct*Rebate_Dummy + PrImp_AvgAmt + PrImp_AvgAmt*Rebate_Dummy + PrImp_AvgT + PrImp_AvgT*Rebate_Dummy'\n",
    "# fit2_formula = 'MktShare ~ PrImp_ExpAmt + PrImp_ExpAmt*Rebate_Dummy + PrImp_AvgT + PrImp_AvgT*Rebate_Dummy'\n",
    "# fit3_formula = 'MktShare ~ PrImp_Pct + PrImp_Pct*Rebate_Dummy + PrImp_AvgAmt + PrImp_AvgAmt*Rebate_Dummy + All_AvgT + All_AvgT*Rebate_Dummy'\n",
    "# fit4_formula = 'MktShare ~ PrImp_ExpAmt + PrImp_ExpAmt*Rebate_Dummy + All_AvgT + All_AvgT*Rebate_Dummy'\n",
    "\n",
    "\n",
    "formulaCols = lambda x: x.replace(' ', '').replace('~', '+').split('+') \n",
    "fit_formulae = [fit1_formula, fit2_formula, fit3_formula, fit4_formula]\n",
    "fit_formulae = [formulaCols(x) for x in fit_formulae]\n",
    "\n",
    "# Store results\n",
    "fit_results = [None] * len(fit_formulae)"
   ]
  },
  {
   "cell_type": "markdown",
   "metadata": {},
   "source": [
    "## Results"
   ]
  },
  {
   "cell_type": "code",
   "execution_count": 841,
   "metadata": {},
   "outputs": [
    {
     "name": "stdout",
     "output_type": "stream",
     "text": [
      "Regressing with fit 0...\n",
      "Regressing with fit 1...\n",
      "Regressing with fit 2...\n",
      "Regressing with fit 3...\n",
      "Complete\n"
     ]
    }
   ],
   "source": [
    "for i in range(0, len(fit_formulae)):\n",
    "    \n",
    "    ## Get results\n",
    "    print('Regressing with fit %d...' % i )\n",
    "    \n",
    "    data = data_df[fit_formulae[i]]\n",
    "    X = np.matrix(data)[:, 1:]\n",
    "    Y = np.matrix(data)[:, 0]\n",
    "\n",
    "    guess = X[1, :]\n",
    "    results = run_semiparametric_regression(Y, X, guess)\n",
    "    \n",
    "    fit_results[i] = results\n",
    "    \n",
    "    ## Update results\n",
    "    # Normalize results with first coefficient\n",
    "    fit_results[i].x = fit_results[i].x / fit_results[i].x[0]\n",
    "    \n",
    "    # Add dictionary of coefficients \n",
    "    fit_results[i].coeffs  = {fit_formulae[i][1:][j]: fit_results[i].x[j] for j in range(0, len(fit_formulae[i])-1)}\n",
    "    \n",
    "    # Add dictionary of standard errors \n",
    "    V = convert_hessian_to_cov(Y, X, fit_results[i])\n",
    "    fit_results[i].stderrs = {fit_formulae[i][1:][j]: np.sqrt(V[j,j]) for j in range(0, len(fit_formulae[i])-1)}\n",
    "    \n",
    "print('Complete')  "
   ]
  },
  {
   "cell_type": "markdown",
   "metadata": {},
   "source": [
    "## Marginal Effects"
   ]
  },
  {
   "cell_type": "code",
   "execution_count": 842,
   "metadata": {},
   "outputs": [],
   "source": [
    "# marginal effects for each var with others at percentiles\n",
    "\n",
    "delta = .01\n",
    "\n",
    "for i in range(0, len(fit_formulae)):\n",
    "    \n",
    "    data = data_df[fit_formulae[i]]\n",
    "    X = np.matrix(data)[:, 1:]\n",
    "    Y = np.matrix(data)[:, 0]\n",
    "    \n",
    "    fit_results[i].marginal_effects = {}\n",
    "    \n",
    "    for j in range(0, len(fit_results[i].x)):  \n",
    "        \n",
    "        temp_dict = {}\n",
    "        \n",
    "        for percentile in range(20, 81, 20):\n",
    "\n",
    "            X_percentile = np.percentile(X, percentile, axis = 0)\n",
    "            \n",
    "            temp_dict[percentile] = compute_marginal_effect(Y, X, j, np.matrix(X_percentile), np.matrix(fit_results[i].x).T, delta = delta)\n",
    "            \n",
    "        fit_results[i].marginal_effects[fit_formulae[i][j+1]] = temp_dict"
   ]
  },
  {
   "cell_type": "markdown",
   "metadata": {},
   "source": [
    "# Export"
   ]
  },
  {
   "cell_type": "code",
   "execution_count": 843,
   "metadata": {},
   "outputs": [],
   "source": [
    "from openpyxl import Workbook, load_workbook, utils\n",
    "from openpyxl.styles import Alignment, Font\n",
    "import string"
   ]
  },
  {
   "cell_type": "code",
   "execution_count": 844,
   "metadata": {},
   "outputs": [],
   "source": [
    "def get_sig_stars(coeff, stderr, p_value_labels):\n",
    "    t_stat = coeff/stderr\n",
    "    p_val  = 1 - norm.cdf(np.abs(t_stat))\n",
    "    below_ind = np.where([p_val < x for x in p_value_labels.keys()])[0]\n",
    "    below_vals = [list(p_value_labels.keys())[i] for i in below_ind]\n",
    "    if not below_vals:\n",
    "        return ''\n",
    "    else:\n",
    "        min_p_val = np.min(below_vals)\n",
    "        return p_value_labels[min_p_val]\n",
    "\n",
    "# Params\n",
    "p_value_labels = {0.05: '*', 0.01: '**', 0.001: '***'}\n",
    "workbook_file_loc = '../analysis/results/semiparametric_regressions.xlsx'"
   ]
  },
  {
   "cell_type": "code",
   "execution_count": 845,
   "metadata": {},
   "outputs": [],
   "source": [
    "## Open workbook\n",
    "wb = Workbook()"
   ]
  },
  {
   "cell_type": "markdown",
   "metadata": {},
   "source": [
    "## Coefficient Results"
   ]
  },
  {
   "cell_type": "code",
   "execution_count": 846,
   "metadata": {},
   "outputs": [],
   "source": [
    "ws = wb.create_sheet(title = 'Coefficient Results')\n",
    "ws.column_dimensions[\"B\"].width = 30"
   ]
  },
  {
   "cell_type": "code",
   "execution_count": 847,
   "metadata": {},
   "outputs": [],
   "source": [
    "## Label regressors \n",
    "\n",
    "# Get regressors besides for market share\n",
    "fit_regressors = sorted(list(set(sum(fit_formulae, []))-set(['MktShare'])))\n",
    "fit_regressors\n",
    "\n",
    "regressor_cells = {}\n",
    "\n",
    "# First label's row\n",
    "regressor_label_row = 4\n",
    "\n",
    "for i in range(0, len(fit_regressors)):\n",
    "\n",
    "    cell = 'B' + str(regressor_label_row)\n",
    "   \n",
    "    ws[cell] = fit_regressors[i]\n",
    "    ws[cell].alignment = Alignment(horizontal = 'right')\n",
    "    ws[cell].font = Font(bold = True)\n",
    "    \n",
    "    regressor_cells[fit_regressors[i]] = regressor_label_row\n",
    "    regressor_label_row += 2"
   ]
  },
  {
   "cell_type": "code",
   "execution_count": 848,
   "metadata": {},
   "outputs": [],
   "source": [
    "## Label regressand\n",
    "start_cell = 'C2'\n",
    "end_cell   = string.ascii_uppercase[2*len(fit_results)] + '2'\n",
    "\n",
    "ws.merge_cells(start_cell + ':' + end_cell)\n",
    "\n",
    "ws[start_cell] = 'MktShare'\n",
    "ws[start_cell].alignment = Alignment(horizontal = 'center')\n",
    "ws[start_cell].font = Font(bold = True)"
   ]
  },
  {
   "cell_type": "code",
   "execution_count": 849,
   "metadata": {},
   "outputs": [],
   "source": [
    "## Label fits\n",
    "for i in range(0, len(fit_results)):\n",
    "    \n",
    "    cell_row = 3\n",
    "    cell_col = string.ascii_uppercase[2*i + 2]\n",
    "    cell = cell_col + str(cell_row)\n",
    "    \n",
    "    ws[cell] = 'Fit ' + str(i+1)\n",
    "    ws[cell].alignment = Alignment(horizontal = 'center')\n",
    "    ws[cell].font = Font(underline = 'single')\n",
    "    \n",
    "    # adjust cell widths\n",
    "    ws.column_dimensions[cell_col].width = 15\n",
    "    ws.column_dimensions[string.ascii_uppercase[2*i + 3]].width = 5"
   ]
  },
  {
   "cell_type": "code",
   "execution_count": 850,
   "metadata": {},
   "outputs": [],
   "source": [
    "## Enter results\n",
    "for i in range(0, len(fit_results)):\n",
    "    \n",
    "    fit_column = string.ascii_uppercase[2*i + 2]\n",
    "    \n",
    "    for regressor in fit_results[i].coeffs.keys():\n",
    "        \n",
    "        coeff = fit_results[i].coeffs[regressor]\n",
    "        stderr = fit_results[i].stderrs[regressor]\n",
    "        \n",
    "        regressor_label_row = regressor_cells[regressor]\n",
    "        cell = fit_column + str(regressor_label_row)\n",
    "        cell_below = fit_column + str(regressor_label_row + 1)\n",
    "        \n",
    "        if coeff == 1: \n",
    "            coeff = str(np.round(coeff, decimals = 4))\n",
    "        else:\n",
    "            coeff = str(np.round(coeff, decimals = 4)) + get_sig_stars(coeff, stderr, p_value_labels)\n",
    "        \n",
    "        ws[cell] = coeff\n",
    "        ws[cell].alignment = Alignment(horizontal = 'center')\n",
    "        \n",
    "        ws[cell_below] = stderr\n",
    "        ws[cell_below].alignment = Alignment(horizontal = 'center')"
   ]
  },
  {
   "cell_type": "markdown",
   "metadata": {},
   "source": [
    "## Marginal Effects"
   ]
  },
  {
   "cell_type": "code",
   "execution_count": 851,
   "metadata": {},
   "outputs": [],
   "source": [
    "# Set up table\n",
    "for i in range(0, len(fit_results)):\n",
    "    \n",
    "    ws = wb.create_sheet(title = 'Fit ' + str(i+1) +' Marginal Effects')\n",
    "    ws.column_dimensions[\"B\"].width = 30\n",
    "    \n",
    "    fit_i_regressors = list(fit_results[i].marginal_effects.keys())\n",
    "    percentiles = sorted(list((next(iter(fit_results[i].marginal_effects.values()))).keys()))\n",
    "    \n",
    "    ## Label regressors\n",
    "    \n",
    "    # First label's row\n",
    "    regressor_label_row = 4\n",
    "    \n",
    "    regressor_cells = {}\n",
    "\n",
    "    for j in range(0, len(fit_i_regressors)):\n",
    "\n",
    "        cell = 'B' + str(regressor_label_row)\n",
    "\n",
    "        ws[cell] = fit_i_regressors[j]\n",
    "        ws[cell].alignment = Alignment(horizontal = 'right')\n",
    "        ws[cell].font = Font(bold = True)\n",
    "\n",
    "        regressor_cells[fit_i_regressors[j]] = regressor_label_row\n",
    "        regressor_label_row += 2\n",
    "        \n",
    "    ## Table title label\n",
    "    start_cell = 'C2'\n",
    "    end_cell   = string.ascii_uppercase[2*len(percentiles)] + '2'\n",
    "\n",
    "    ws.merge_cells(start_cell + ':' + end_cell)\n",
    "\n",
    "    ws[start_cell] = 'Marginal Effects (MktShare)'\n",
    "    ws[start_cell].alignment = Alignment(horizontal = 'center')\n",
    "    ws[start_cell].font = Font(bold = True)\n",
    "    \n",
    "    ## Label percentiles\n",
    "    for j in range(0, len(percentiles)):\n",
    "        \n",
    "        cell_row = 3\n",
    "        cell_col = string.ascii_uppercase[2*j + 2]\n",
    "        cell = cell_col + str(cell_row)\n",
    "\n",
    "        ws[cell] = 'Pct ' + str(percentiles[j])\n",
    "        ws[cell].alignment = Alignment(horizontal = 'center')\n",
    "        ws[cell].font = Font(underline = 'single')\n",
    "        \n",
    "        # adjust cell widths\n",
    "        ws.column_dimensions[cell_col].width = 15\n",
    "        ws.column_dimensions[string.ascii_uppercase[2*j + 3]].width = 5\n",
    "\n",
    "    ## Enter results\n",
    "    for regressor in fit_results[i].marginal_effects.keys():\n",
    "    \n",
    "        me_pct_dict = fit_results[i].marginal_effects[regressor]\n",
    "        \n",
    "        for k in range(0, len(percentiles)):\n",
    "\n",
    "            pct_col = string.ascii_uppercase[2*k + 2]    \n",
    "            cell = pct_col + str(regressor_cells[regressor])\n",
    "\n",
    "            ws[cell] = np.round(fit_results[i].marginal_effects[regressor][percentiles[k]], decimals = 6)\n",
    "            ws[cell].alignment = Alignment(horizontal = 'center')"
   ]
  },
  {
   "cell_type": "markdown",
   "metadata": {},
   "source": [
    "## Save and Close"
   ]
  },
  {
   "cell_type": "code",
   "execution_count": 852,
   "metadata": {},
   "outputs": [],
   "source": [
    "del wb['Sheet']\n",
    "wb.save(workbook_file_loc)\n",
    "wb.close()"
   ]
  },
  {
   "cell_type": "code",
   "execution_count": null,
   "metadata": {},
   "outputs": [],
   "source": []
  }
 ],
 "metadata": {
  "kernelspec": {
   "display_name": "Python 3",
   "language": "python",
   "name": "python3"
  },
  "language_info": {
   "codemirror_mode": {
    "name": "ipython",
    "version": 3
   },
   "file_extension": ".py",
   "mimetype": "text/x-python",
   "name": "python",
   "nbconvert_exporter": "python",
   "pygments_lexer": "ipython3",
   "version": "3.5.2"
  }
 },
 "nbformat": 4,
 "nbformat_minor": 2
}
