{
 "cells": [
  {
   "cell_type": "code",
   "execution_count": 64,
   "metadata": {},
   "outputs": [],
   "source": [
    "import numpy as np\n",
    "import pandas as pd\n",
    "from scipy.optimize import minimize\n",
    "import matplotlib.pyplot as plt\n",
    "\n",
    "%matplotlib inline"
   ]
  },
  {
   "cell_type": "markdown",
   "metadata": {},
   "source": [
    "# Functions"
   ]
  },
  {
   "cell_type": "code",
   "execution_count": 296,
   "metadata": {},
   "outputs": [],
   "source": [
    "def trim(X, percent):\n",
    "    \n",
    "    alpha = (1 - percent)/2\n",
    "    n, k = np.shape(X)\n",
    "    t_ind = np.zeros((n, k))\n",
    "    \n",
    "    for i in range(0, k):\n",
    "        upper_bd = np.percentile(X[:,i], (1 - alpha)*100)\n",
    "        lower_bd = np.percentile(X[:,i], (alpha)*100)\n",
    "        t_ind[:, i] = [int(lower_bd < x < upper_bd) for x in X[:,i]]\n",
    "        \n",
    "    return np.prod(t_ind, axis = 1)\n",
    "\n",
    "\n",
    "def pdfn(x):\n",
    "    return np.exp(-np.multiply(x, x)/2)/np.sqrt(2*np.pi)\n",
    "\n",
    "\n",
    "# Conditional Expecttation\n",
    "def CE_1(Y, X, arg, r):\n",
    "    \n",
    "    n_arg = np.shape(arg)[0]\n",
    "    n = np.shape(X)[0]\n",
    "    h = (n**(-r)) * np.std(X, axis = 0, ddof = 1)\n",
    "    e = np.zeros((n, 1))\n",
    "    \n",
    "    for j in range(0, n_arg):\n",
    "        k = np.divide(pdfn(np.divide((arg[j] - X), h)), h)\n",
    "        k = np.prod(k, axis = 1)   \n",
    "        e[j] = (Y.T*k/n)/np.mean(k)\n",
    "        \n",
    "    return e\n",
    "\n",
    "\n",
    "\n",
    "def SLS_1(b, Y, X, X_ind):\n",
    "    \n",
    "    v = X * np.matrix(b).T\n",
    "    EY = CE_1(Y, v, v, 1/5)\n",
    "    residual2 = np.power((Y - EY), 2)\n",
    "    \n",
    "    return (-0.5 * np.matrix(X_ind)*residual2)\n",
    "\n",
    "def semiparametricRegression(Y, X, guess, tol = 1e-05):\n",
    "    \n",
    "    obj_f = lambda x_0: -SLS_1(x_0, Y, X, trim(X, 0.98))\n",
    "    result = minimize(obj_f, guess, method='BFGS', options={'gtol': tol})\n",
    "    return result\n",
    "\n",
    "def convertHessianToCov(Y, X, results):\n",
    "    v_hat = X*np.matrix(results.x).T\n",
    "    sigma_2_hat = np.mean(np.power(Y - CE_1(Y, v_hat, v_hat, 1/5), 2))\n",
    "    return results.hess_inv * sigma_2_hat"
   ]
  },
  {
   "cell_type": "markdown",
   "metadata": {},
   "source": [
    "# Load Data"
   ]
  },
  {
   "cell_type": "code",
   "execution_count": 4,
   "metadata": {},
   "outputs": [],
   "source": [
    "data_dmd = pd.read_csv(    '../data/processed/regression_data_levels_demeaned.csv')"
   ]
  },
  {
   "cell_type": "code",
   "execution_count": 323,
   "metadata": {},
   "outputs": [],
   "source": [
    "fit1_formula = 'MktShare ~ PrImp_Pct + PrImp_AvgAmt + PrImp_AvgT'\n",
    "fit2_formula = 'MktShare ~ PrImp_ExpAmt + PrImp_AvgT'\n",
    "fit3_formula = 'MktShare ~ PrImp_Pct + PrImp_AvgAmt + All_AvgT'\n",
    "fit4_formula = 'MktShare ~ PrImp_ExpAmt + All_AvgT'\n",
    "\n",
    "formulaCols = lambda x: x.replace(' ', '').replace('~', '+').split('+') "
   ]
  },
  {
   "cell_type": "markdown",
   "metadata": {},
   "source": [
    "## Fit 1"
   ]
  },
  {
   "cell_type": "code",
   "execution_count": 251,
   "metadata": {},
   "outputs": [
    {
     "data": {
      "text/plain": [
       "      fun: matrix([[10.19682075]])\n",
       " hess_inv: array([[1, 0, 0],\n",
       "       [0, 1, 0],\n",
       "       [0, 0, 1]])\n",
       "      jac: array([ 5.12599945e-06, -4.88758087e-06,  7.39097595e-06])\n",
       "  message: 'Optimization terminated successfully.'\n",
       "     nfev: 5\n",
       "      nit: 0\n",
       "     njev: 1\n",
       "   status: 0\n",
       "  success: True\n",
       "        x: array([875.  , 868.01, -11.16])"
      ]
     },
     "execution_count": 251,
     "metadata": {},
     "output_type": "execute_result"
    }
   ],
   "source": [
    "data = data_dmd[formulaCols(fit1_formula)].iloc[0:2000,:]\n",
    "X = np.matrix(data)[:, 1:]\n",
    "Y = np.matrix(data)[:, 0]\n",
    "\n",
    "results = semiparametricRegression(Y, X, [875, 868.01, -11.16])\n",
    "results"
   ]
  },
  {
   "cell_type": "code",
   "execution_count": 252,
   "metadata": {},
   "outputs": [
    {
     "name": "stdout",
     "output_type": "stream",
     "text": [
      "[84258.77883653 83585.67156331 -1074.66053922]\n"
     ]
    }
   ],
   "source": [
    "cov_mat = convertHessianToCov(Y, X, results)\n",
    "t_stats = results.x / np.power(np.diag(cov_mat), 0.5)\n",
    "print(t_stats)"
   ]
  },
  {
   "cell_type": "markdown",
   "metadata": {},
   "source": [
    "## Fit 2"
   ]
  },
  {
   "cell_type": "code",
   "execution_count": 253,
   "metadata": {},
   "outputs": [
    {
     "data": {
      "text/plain": [
       "      fun: matrix([[7.10855464]])\n",
       " hess_inv: array([[1, 0],\n",
       "       [0, 1]])\n",
       "      jac: array([ 9.65595245e-06, -1.31130219e-06])\n",
       "  message: 'Optimization terminated successfully.'\n",
       "     nfev: 4\n",
       "      nit: 0\n",
       "     njev: 1\n",
       "   status: 0\n",
       "  success: True\n",
       "        x: array([ 8.34 , 61.759])"
      ]
     },
     "execution_count": 253,
     "metadata": {},
     "output_type": "execute_result"
    }
   ],
   "source": [
    "data = data_dmd[formulaCols(fit2_formula)].iloc[0:1000,:]\n",
    "X = np.matrix(data)[:, 1:]\n",
    "Y = np.matrix(data)[:, 0]\n",
    "\n",
    "results = semiparametricRegression(Y, X, [8.340, 61.759])\n",
    "results"
   ]
  },
  {
   "cell_type": "code",
   "execution_count": 254,
   "metadata": {},
   "outputs": [
    {
     "name": "stdout",
     "output_type": "stream",
     "text": [
      "[ 585.62045397 4336.61074538]\n"
     ]
    }
   ],
   "source": [
    "cov_mat = convertHessianToCov(Y, X, results)\n",
    "t_stats = results.x / np.power(np.diag(cov_mat), 0.5)\n",
    "print(t_stats)"
   ]
  },
  {
   "cell_type": "markdown",
   "metadata": {},
   "source": [
    "## Fit 3"
   ]
  },
  {
   "cell_type": "code",
   "execution_count": 303,
   "metadata": {},
   "outputs": [
    {
     "data": {
      "text/plain": [
       "      fun: matrix([[7.10191902]])\n",
       " hess_inv: array([[1, 0, 0],\n",
       "       [0, 1, 0],\n",
       "       [0, 0, 1]])\n",
       "      jac: array([-2.38418579e-07,  1.19209290e-07, -1.19209290e-07])\n",
       "  message: 'Optimization terminated successfully.'\n",
       "     nfev: 5\n",
       "      nit: 0\n",
       "     njev: 1\n",
       "   status: 0\n",
       "  success: True\n",
       "        x: array([-1048.77063077,  -146.69711946,  1451.18064426])"
      ]
     },
     "execution_count": 303,
     "metadata": {},
     "output_type": "execute_result"
    }
   ],
   "source": [
    "data = data_dmd[formulaCols(fit3_formula)].iloc[0:1000,:]\n",
    "X = np.matrix(data)[:, 1:]\n",
    "Y = np.matrix(data)[:, 0]\n",
    "\n",
    "results = semiparametricRegression(Y, X, guess = [-1048.77063077,  -146.69711946,   1451.18064426], tol = 1e-06)\n",
    "results"
   ]
  },
  {
   "cell_type": "code",
   "execution_count": 298,
   "metadata": {},
   "outputs": [
    {
     "name": "stdout",
     "output_type": "stream",
     "text": [
      "[-8737.77777161 -1222.1993942   3758.98798911]\n"
     ]
    }
   ],
   "source": [
    "cov_mat = convertHessianToCov(Y, X, results)\n",
    "t_stats = results.x / np.power(np.diag(cov_mat), 0.5)\n",
    "print(t_stats)"
   ]
  },
  {
   "cell_type": "markdown",
   "metadata": {},
   "source": [
    "## Fit 4"
   ]
  },
  {
   "cell_type": "code",
   "execution_count": 313,
   "metadata": {},
   "outputs": [
    {
     "data": {
      "text/plain": [
       "      fun: matrix([[7.10158872]])\n",
       " hess_inv: array([[1, 0],\n",
       "       [0, 1]])\n",
       "      jac: array([2.02655792e-06, 7.27176666e-06])\n",
       "  message: 'Optimization terminated successfully.'\n",
       "     nfev: 4\n",
       "      nit: 0\n",
       "     njev: 1\n",
       "   status: 0\n",
       "  success: True\n",
       "        x: array([-110.29263986,   30.7185354 ])"
      ]
     },
     "execution_count": 313,
     "metadata": {},
     "output_type": "execute_result"
    }
   ],
   "source": [
    "data = data_dmd[formulaCols(fit4_formula)].iloc[0:1000,:]\n",
    "X = np.matrix(data)[:, 1:]\n",
    "Y = np.matrix(data)[:, 0]\n",
    "\n",
    "results = semiparametricRegression(Y, X, guess = [-110.29263986,   30.718535398])\n",
    "results"
   ]
  },
  {
   "cell_type": "code",
   "execution_count": 288,
   "metadata": {},
   "outputs": [
    {
     "name": "stdout",
     "output_type": "stream",
     "text": [
      "[-918.91776154  255.9355531 ]\n"
     ]
    }
   ],
   "source": [
    "cov_mat = convertHessianToCov(Y, X, results)\n",
    "t_stats = results.x / np.power(np.diag(cov_mat), 0.5)\n",
    "print(t_stats)"
   ]
  },
  {
   "cell_type": "markdown",
   "metadata": {},
   "source": [
    "# Scratch"
   ]
  },
  {
   "cell_type": "code",
   "execution_count": 215,
   "metadata": {},
   "outputs": [
    {
     "name": "stdout",
     "output_type": "stream",
     "text": [
      "      fun: 1.3041561482902535\n",
      " hess_inv: array([[ 59445852.57084731, -19826824.56660157],\n",
      "       [-19826824.56660158,   6612791.66599176]])\n",
      "      jac: array([3.23355198e-06, 8.89599323e-06])\n",
      "  message: 'Optimization terminated successfully.'\n",
      "     nfev: 72\n",
      "      nit: 10\n",
      "     njev: 18\n",
      "   status: 0\n",
      "  success: True\n",
      "        x: array([-106.29263986,   38.78535398])\n",
      "[-0.00020545  0.00067391]\n"
     ]
    }
   ],
   "source": [
    "data = data_dmd[formulaCols(fit4_formula)].iloc[0:300,:]\n",
    "X = np.matrix(data)[:, 1:]\n",
    "Y = np.matrix(data)[:, 0]\n",
    "\n",
    "results = semiparametricRegression(Y, X, [1,3])\n",
    "print(results)\n",
    "cov_mat = convertHessianToCov(Y, X, results)\n",
    "t_stats = results.x / np.diag(cov_mat)\n",
    "print(t_stats)"
   ]
  },
  {
   "cell_type": "code",
   "execution_count": 210,
   "metadata": {},
   "outputs": [
    {
     "name": "stdout",
     "output_type": "stream",
     "text": [
      "      fun: matrix([[1.29988005]])\n",
      " hess_inv: array([[1, 0, 0],\n",
      "       [0, 1, 0],\n",
      "       [0, 0, 1]])\n",
      "      jac: array([3.50177288e-06, 7.89761543e-07, 8.37445259e-06])\n",
      "  message: 'Optimization terminated successfully.'\n",
      "     nfev: 5\n",
      "      nit: 0\n",
      "     njev: 1\n",
      "   status: 0\n",
      "  success: True\n",
      "        x: array([-1048.77063077,  -146.69711946,   451.18064426])\n"
     ]
    }
   ],
   "source": [
    "results = semiparametricRegression(Y, X, guess = [-1048.77063077,  -146.69711946,   451.18064426])\n",
    "print(results)"
   ]
  },
  {
   "cell_type": "code",
   "execution_count": 203,
   "metadata": {},
   "outputs": [
    {
     "data": {
      "text/plain": [
       "0.008675363893992758"
      ]
     },
     "execution_count": 203,
     "metadata": {},
     "output_type": "execute_result"
    }
   ],
   "source": [
    "v_hat = X*np.matrix(results.x).T\n",
    "np.mean(np.power(Y - CE_1(Y, v_hat, v_hat, 1/5), 2))"
   ]
  },
  {
   "cell_type": "code",
   "execution_count": 308,
   "metadata": {},
   "outputs": [],
   "source": [
    "import numdifftools as nd"
   ]
  },
  {
   "cell_type": "code",
   "execution_count": 320,
   "metadata": {},
   "outputs": [],
   "source": [
    "data = data_dmd[formulaCols(fit4_formula)].iloc[:,:]\n",
    "X = np.matrix(data)[:, 1:]\n",
    "Y = np.matrix(data)[:, 0]\n",
    "obj_f = lambda x_0: -SLS_1(x_0, Y, X, trim(X, 0.98))"
   ]
  },
  {
   "cell_type": "code",
   "execution_count": 328,
   "metadata": {},
   "outputs": [
    {
     "data": {
      "text/plain": [
       "array([[ 9.20680019e+01, -1.40947035e-03],\n",
       "       [-1.40947035e-03,  2.75886986e-06]])"
      ]
     },
     "execution_count": 328,
     "metadata": {},
     "output_type": "execute_result"
    }
   ],
   "source": [
    "np.linalg.inv(nd.Hessian(obj_f)([-100, 50]))"
   ]
  },
  {
   "cell_type": "code",
   "execution_count": 321,
   "metadata": {},
   "outputs": [
    {
     "data": {
      "text/plain": [
       "      fun: 42.34461997111667\n",
       " hess_inv: array([[ 9.20644538e+01, -1.40941618e-03],\n",
       "       [-1.40941618e-03,  2.75886630e-06]])\n",
       "      jac: array([-9.53674316e-07, -1.90734863e-06])\n",
       "  message: 'Optimization terminated successfully.'\n",
       "     nfev: 32\n",
       "      nit: 4\n",
       "     njev: 8\n",
       "   status: 0\n",
       "  success: True\n",
       "        x: array([ 5.66262934e+00, -2.96472454e-04])"
      ]
     },
     "execution_count": 321,
     "metadata": {},
     "output_type": "execute_result"
    }
   ],
   "source": [
    "obj_f = lambda x_0: (Y - X*np.matrix(x_0).T).T*(Y - X*np.matrix(x_0).T)\n",
    "result = minimize(obj_f, guess, method='BFGS')\n",
    "result"
   ]
  },
  {
   "cell_type": "code",
   "execution_count": null,
   "metadata": {},
   "outputs": [],
   "source": []
  }
 ],
 "metadata": {
  "kernelspec": {
   "display_name": "Python 3",
   "language": "python",
   "name": "python3"
  },
  "language_info": {
   "codemirror_mode": {
    "name": "ipython",
    "version": 3
   },
   "file_extension": ".py",
   "mimetype": "text/x-python",
   "name": "python",
   "nbconvert_exporter": "python",
   "pygments_lexer": "ipython3",
   "version": "3.5.2"
  }
 },
 "nbformat": 4,
 "nbformat_minor": 2
}
