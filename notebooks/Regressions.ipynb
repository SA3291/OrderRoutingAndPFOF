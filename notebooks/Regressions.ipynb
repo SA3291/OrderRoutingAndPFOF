{
 "cells": [
  {
   "cell_type": "code",
   "execution_count": 3,
   "metadata": {},
   "outputs": [],
   "source": [
    "import numpy as np\n",
    "import pandas as pd\n",
    "from scipy.optimize import minimize\n",
    "from scipy.stats import norm\n",
    "import matplotlib.pyplot as plt\n",
    "\n",
    "%matplotlib inline"
   ]
  },
  {
   "cell_type": "markdown",
   "metadata": {},
   "source": [
    "# Functions"
   ]
  },
  {
   "cell_type": "code",
   "execution_count": 14,
   "metadata": {},
   "outputs": [],
   "source": [
    "# Trimming function\n",
    "def trim(X, percent):\n",
    "    \n",
    "    alpha = (1 - percent)/2\n",
    "    n, k = np.shape(X)\n",
    "    t_ind = np.zeros((n, k))\n",
    "    \n",
    "    for i in range(0, k):\n",
    "        upper_bd = np.percentile(X[:,i], (1 - alpha)*100)\n",
    "        lower_bd = np.percentile(X[:,i], (alpha)*100)\n",
    "        t_ind[:, i] = [int(lower_bd < x < upper_bd) for x in X[:,i]]\n",
    "        \n",
    "    return np.prod(t_ind, axis = 1)\n",
    "\n",
    "# Conditional Expectation\n",
    "def CE_1(Y, X, arg, r):\n",
    "    \n",
    "    n_arg = np.shape(arg)[0]\n",
    "    n = np.shape(X)[0]\n",
    "    h = (n**(-r)) * np.std(X, axis = 0, ddof = 1)\n",
    "    e = np.zeros((n_arg, 1))\n",
    "    \n",
    "    for j in range(0, n_arg):\n",
    "        k = np.divide(norm.pdf(np.divide((arg[j] - X), h)), h)\n",
    "        k = np.prod(k, axis = 1)   \n",
    "        e[j] = (Y.T*k/n)/np.mean(k)\n",
    "        \n",
    "    return e\n",
    "\n",
    "# Semiparametric Least Squares objective\n",
    "def SLS_1(b, Y, X, X_ind):\n",
    "    \n",
    "    v = X * np.matrix(b).T\n",
    "    EY = CE_1(Y, v, v, 1/5)\n",
    "    residual = np.power((Y - EY), 2)\n",
    "    \n",
    "    return (-0.5 * np.matrix(X_ind)*residual)\n",
    "\n",
    "# Regress Y on X with SLS\n",
    "def run_semiparametric_regression(Y, X, guess, trim_percent = 0.98):\n",
    "    \n",
    "    obj_f = lambda x_0: -SLS_1(x_0, Y, X, trim(X, trim_percent))\n",
    "    result = minimize(obj_f, guess, method='BFGS')\n",
    "    return result\n",
    "\n",
    "# Hessian to Covariance matrix\n",
    "def convert_hessian_to_cov(Y, X, results):\n",
    "    \n",
    "    sigma_2_hat = np.mean(np.power(Y - X*np.matrix(results.x).T, 2))\n",
    "    return results.hess_inv * sigma_2_hat\n",
    "\n",
    "# Marginal effects at a point using CE_1\n",
    "def compute_marginal_effect(Y, X, ind, point, beta, delta = 0.01):\n",
    "\n",
    "    point_nudge = np.copy(point)\n",
    "    point_nudge[0, ind] = point_nudge[0, ind] + delta\n",
    "    point_nudge = np.matrix(point_nudge)\n",
    "\n",
    "    v_hat = X*beta\n",
    "    v_hat_avg = point*beta\n",
    "    v_hat_avg_nudge = point_nudge*beta\n",
    "    \n",
    "    return np.asscalar(CE_1(Y, v_hat, v_hat_avg_nudge, 1/5) - CE_1(Y, v_hat, v_hat_avg, 1/5))/delta\n",
    "\n",
    "# Range of marginal effects \n",
    "def calculate_me_range(Y, X, result, ind, point, delta = .001, delta_range = [0.0001, 0.01], parameter_range = [0, 0.014], n_1 = 200, n_2 = 5):\n",
    "\n",
    "    beta = np.matrix(result.x).T\n",
    "    \n",
    "    me_results = np.zeros(shape = (n_1, 2, n_2))\n",
    "    \n",
    "    linspace_1 = np.linspace(parameter_range[0], parameter_range[1], num = n_1)\n",
    "    linspace_2 = np.linspace(delta_range[0], delta_range[1], num = n_2)\n",
    "    \n",
    "    for j in range(0, n_2):\n",
    "\n",
    "        delta = linspace_2[j]\n",
    "        #primp_avgt = np.linspace(0.001, 0.5, num = n_2)[j]\n",
    "\n",
    "        for i in range(0, n_1):\n",
    "  \n",
    "            point_temp = np.copy(point)\n",
    "            point_temp[0, ind] = linspace_1[i]\n",
    "            \n",
    "            me_vec = compute_marginal_effect(Y, X, ind, point_temp, beta, delta = delta)\n",
    "\n",
    "            me_results[i,:,j] = np.array([linspace_1[i], np.asscalar(me_vec)])\n",
    "            \n",
    "    return me_results   \n",
    "\n",
    "# T-stats with first coefficient fixed\n",
    "def find_tstats(Y, X, results):\n",
    "    \n",
    "    V = convert_hessian_to_cov(Y, X, results)\n",
    "\n",
    "    n = np.shape(results.x)[0]\n",
    "    theta = results.x/results.x[0]\n",
    "    t_stats = np.zeros(shape = (n))\n",
    "    t_stats[0] = np.nan # first t-stat is unknown\n",
    "\n",
    "    for i in range(1, n):\n",
    "        t_stats[i] = theta[i] / np.sqrt(V[i,i])\n",
    "\n",
    "    return t_stats"
   ]
  },
  {
   "cell_type": "markdown",
   "metadata": {},
   "source": [
    "# Load Data"
   ]
  },
  {
   "cell_type": "code",
   "execution_count": 31,
   "metadata": {},
   "outputs": [],
   "source": [
    "data_df = pd.read_csv(    '../data/processed/regression_data_levels.csv').dropna()"
   ]
  },
  {
   "cell_type": "markdown",
   "metadata": {},
   "source": [
    "# Regressions "
   ]
  },
  {
   "cell_type": "code",
   "execution_count": 44,
   "metadata": {},
   "outputs": [],
   "source": [
    "# Fits\n",
    "fit1_formula = 'MktShare ~ PrImp_Pct + PrImp_AvgAmt + PrImp_AvgT'\n",
    "fit2_formula = 'MktShare ~ PrImp_ExpAmt + PrImp_AvgT'\n",
    "fit3_formula = 'MktShare ~ PrImp_Pct + PrImp_AvgAmt + All_AvgT'\n",
    "fit4_formula = 'MktShare ~ PrImp_ExpAmt + All_AvgT'\n",
    "\n",
    "\n",
    "formulaCols = lambda x: x.replace(' ', '').replace('~', '+').split('+') \n",
    "fit_formulae = [fit1_formula, fit2_formula, fit3_formula, fit4_formula]\n",
    "fit_formulae = [formulaCols(x) for x in fit_formulae]\n",
    "\n",
    "# Store results\n",
    "fit_results = [None] * len(fit_formulae)"
   ]
  },
  {
   "cell_type": "markdown",
   "metadata": {},
   "source": [
    "## Results"
   ]
  },
  {
   "cell_type": "code",
   "execution_count": 47,
   "metadata": {},
   "outputs": [
    {
     "name": "stdout",
     "output_type": "stream",
     "text": [
      "Regressing with fit 0...\n",
      "Regressing with fit 1...\n",
      "Regressing with fit 2...\n",
      "Regressing with fit 3...\n",
      "Complete\n"
     ]
    }
   ],
   "source": [
    "sample_size = 10 # None => All obs\n",
    "\n",
    "for i in range(0, len(fit_formulae)):\n",
    "    \n",
    "    print('Regressing with fit %d...' % i )\n",
    "    \n",
    "    data = data_df.sample(n = sample_size)[fit_formulae[i]]\n",
    "    X = np.matrix(data)[:, 1:]\n",
    "    Y = np.matrix(data)[:, 0]\n",
    "\n",
    "    guess = X[1, :]\n",
    "    results = run_semiparametric_regression(Y, X, guess)\n",
    "    \n",
    "    fit_results[i] = results\n",
    "    \n",
    "print('Complete')  "
   ]
  },
  {
   "cell_type": "markdown",
   "metadata": {},
   "source": [
    "# Export"
   ]
  },
  {
   "cell_type": "code",
   "execution_count": 51,
   "metadata": {},
   "outputs": [],
   "source": [
    "from openpyxl import Workbook, load_workbook\n",
    "from openpyxl.utils.dataframe import dataframe_to_rows"
   ]
  },
  {
   "cell_type": "code",
   "execution_count": null,
   "metadata": {},
   "outputs": [],
   "source": [
    "# Params\n",
    "\n",
    "# workbook_file_loc = '../exhibits/welfare/broker_ratings_naive.xlsx'\n",
    "# quarters_list = [x + 'Q' + str(y) for x in ['2017', '2016'] for y in range(4, 0, -1)]\n",
    "# exchange_list = ['NASDAQ', 'NYSE']"
   ]
  }
 ],
 "metadata": {
  "kernelspec": {
   "display_name": "Python 3",
   "language": "python",
   "name": "python3"
  },
  "language_info": {
   "codemirror_mode": {
    "name": "ipython",
    "version": 3
   },
   "file_extension": ".py",
   "mimetype": "text/x-python",
   "name": "python",
   "nbconvert_exporter": "python",
   "pygments_lexer": "ipython3",
   "version": "3.5.2"
  }
 },
 "nbformat": 4,
 "nbformat_minor": 2
}
