{
 "cells": [
  {
   "cell_type": "code",
   "execution_count": 29,
   "metadata": {
    "ExecuteTime": {
     "end_time": "2018-02-18T23:20:57.312811Z",
     "start_time": "2018-02-18T23:20:57.307801Z"
    }
   },
   "outputs": [],
   "source": [
    "import numpy as np\n",
    "import matplotlib.pyplot as plt\n",
    "from scipy.optimize import minimize\n",
    "from scipy.stats import norm\n",
    "\n",
    "%matplotlib inline"
   ]
  },
  {
   "cell_type": "markdown",
   "metadata": {},
   "source": [
    "# Simulation"
   ]
  },
  {
   "cell_type": "code",
   "execution_count": 30,
   "metadata": {
    "ExecuteTime": {
     "end_time": "2018-02-18T23:20:57.477422Z",
     "start_time": "2018-02-18T23:20:57.468206Z"
    }
   },
   "outputs": [],
   "source": [
    "# Params\n",
    "n = 1000\n",
    "f_true = lambda X: 2*X[:,0] + X[:,1] #np.square((X[:,0] + X[:,1]))*2/12.901058\n",
    "\n",
    "# Generate Data\n",
    "X = np.matrix(np.random.randn(2*n, 2))\n",
    "\n",
    "# Remove outliers\n",
    "ind_not_outlier = np.array(np.multiply((abs(X) < 3)[:,0], (abs(X) < 3)[:,1]).T)[0]\n",
    "X = X[ind_not_outlier, :][0:n, :]\n",
    "\n",
    "# square elements of X\n",
    "X = np.power(X, 2)\n",
    "Y = f_true(X) + np.random.randn(n, 1)/1000"
   ]
  },
  {
   "cell_type": "code",
   "execution_count": 33,
   "metadata": {
    "ExecuteTime": {
     "end_time": "2018-02-18T23:20:57.684847Z",
     "start_time": "2018-02-18T23:20:57.619016Z"
    }
   },
   "outputs": [],
   "source": [
    "def trim(X, percent):\n",
    "    \n",
    "    alpha = (1 - percent)/2\n",
    "    n, k = np.shape(X)\n",
    "    t_ind = np.zeros((n, k))\n",
    "    \n",
    "    for i in range(0, k):\n",
    "        upper_bd = np.percentile(X[:,i], (1 - alpha)*100)\n",
    "        lower_bd = np.percentile(X[:,i], (alpha)*100)\n",
    "        t_ind[:, i] = [int(lower_bd < x < upper_bd) for x in X[:,i]]\n",
    "        \n",
    "    return np.prod(t_ind, axis = 1)\n",
    "\n",
    "# Conditional Expecttation\n",
    "def CE_1(Y, X, arg, r):\n",
    "    \n",
    "    n_arg = np.shape(arg)[0]\n",
    "    n = np.shape(X)[0]\n",
    "    h = (n**(-r)) * np.std(X, axis = 0, ddof = 1)\n",
    "    e = np.zeros((n_arg, 1))\n",
    "    \n",
    "    for j in range(0, n_arg):\n",
    "        k = np.divide(norm.pdf(np.divide((arg[j] - X), h)), h)\n",
    "        k = np.prod(k, axis = 1)   \n",
    "        e[j] = (Y.T*k/n)/np.mean(k)\n",
    "        \n",
    "    return e\n",
    "\n",
    "def SLS_1(b, Y, X, X_ind):\n",
    "    \n",
    "    v = X * np.matrix(b).T\n",
    "    EY = CE_1(Y, v, v, 1/5)\n",
    "    residual = np.power((Y - EY), 2)\n",
    "    \n",
    "    return (-0.5 * np.matrix(X_ind)*residual)\n",
    "\n",
    "\n",
    "def semiparametricRegression(Y, X):\n",
    "    \n",
    "    guess = np.random.random((1, np.shape(X)[1]))\n",
    "    obj_f = lambda x_0: -SLS_1(x_0, Y, X, trim(X, 0.98))\n",
    "    result = minimize(obj_f, guess, method='BFGS')\n",
    "    return result\n",
    "\n",
    "def convert_hessian_to_cov(Y, X, results):\n",
    "    \n",
    "    sigma_2_hat = np.mean(np.power(Y - X*np.matrix(results.x).T, 2))\n",
    "    return results.hess_inv * sigma_2_hat\n",
    "\n",
    "def compute_marginal_effect(Y, X, ind, point, beta, delta = 0.01):\n",
    "\n",
    "    point_nudge = np.copy(point)\n",
    "    point_nudge[0, ind] = point_nudge[0, ind] + delta\n",
    "    point_nudge = np.matrix(point_nudge)\n",
    "\n",
    "    v_hat = X*beta\n",
    "    v_hat_avg = point*beta\n",
    "    v_hat_avg_nudge = point_nudge*beta\n",
    "    \n",
    "    return np.asscalar(CE_1(Y, v_hat, v_hat_avg_nudge, 1/5) - CE_1(Y, v_hat, v_hat_avg, 1/5))/delta\n",
    "\n",
    "def calculate_me_range(Y, X, result, ind, point, delta = .001, delta_range = [0.0001, 0.01], parameter_range = [0, 0.014], n_1 = 200, n_2 = 5):\n",
    "\n",
    "    beta = np.matrix(result.x).T\n",
    "    \n",
    "    me_results = np.zeros(shape = (n_1, 2, n_2))\n",
    "    \n",
    "    linspace_1 = np.linspace(parameter_range[0], parameter_range[1], num = n_1)\n",
    "    linspace_2 = np.linspace(delta_range[0], delta_range[1], num = n_2)\n",
    "    \n",
    "    for j in range(0, n_2):\n",
    "\n",
    "        delta = linspace_2[j]\n",
    "        #primp_avgt = np.linspace(0.001, 0.5, num = n_2)[j]\n",
    "\n",
    "        for i in range(0, n_1):\n",
    "  \n",
    "            point_temp = np.copy(point)\n",
    "            point_temp[0, ind] = linspace_1[i]\n",
    "            \n",
    "            me_vec = compute_marginal_effect(Y, X, ind, point_temp, beta, delta = delta)\n",
    "\n",
    "            me_results[i,:,j] = np.array([linspace_1[i], np.asscalar(me_vec)])\n",
    "            \n",
    "    return me_results   \n",
    "\n",
    "def find_tstats(Y, X, results):\n",
    "    \n",
    "    V = convert_hessian_to_cov(Y, X, results)\n",
    "\n",
    "    n = np.shape(results.x)[0]\n",
    "    theta = results.x/results.x[0]\n",
    "    t_stats = np.zeros(shape = (n))\n",
    "    t_stats[0] = np.nan # first t-stat is unknown\n",
    "\n",
    "    for i in range(1, n):\n",
    "        t_stats[i] = theta[i] / np.sqrt(V[i,i])\n",
    "\n",
    "    return t_stats"
   ]
  },
  {
   "cell_type": "code",
   "execution_count": 36,
   "metadata": {},
   "outputs": [
    {
     "data": {
      "text/plain": [
       "array([0., 0.])"
      ]
     },
     "execution_count": 36,
     "metadata": {},
     "output_type": "execute_result"
    }
   ],
   "source": [
    "# scratch \n",
    "v = X*np.matrix(result.x).T\n",
    "#Y*np.log(v.T) + (1-Y)*np.log(1 - v.T)\n",
    "np.array([1.99956511, 1.00577001]) - np.array([1.99956511, 1.00577001])"
   ]
  },
  {
   "cell_type": "code",
   "execution_count": 34,
   "metadata": {
    "ExecuteTime": {
     "end_time": "2018-02-18T23:24:15.409235Z",
     "start_time": "2018-02-18T23:24:00.439677Z"
    }
   },
   "outputs": [
    {
     "data": {
      "text/plain": [
       "     fun: 22.127807536126557\n",
       "     jac: array([ 0.00234437, -0.00464892])\n",
       " message: 'Optimization terminated successfully.'\n",
       "    nfev: 15\n",
       "     nit: 3\n",
       "    njev: 3\n",
       "  status: 0\n",
       " success: True\n",
       "       x: array([1.99956511, 1.00577001])"
      ]
     },
     "execution_count": 34,
     "metadata": {},
     "output_type": "execute_result"
    }
   ],
   "source": [
    "# simulation\n",
    "obj_f = lambda x_0: -SLS_1(x_0, Y, X, trim(X, 0.98))\n",
    "result = minimize(obj_f, [2,1], method='SLSQP', options={'ftol': 10**-4})\n",
    "result"
   ]
  },
  {
   "cell_type": "code",
   "execution_count": 80,
   "metadata": {},
   "outputs": [
    {
     "name": "stdout",
     "output_type": "stream",
     "text": [
      "Coefficient ratio: 1.988\n"
     ]
    }
   ],
   "source": [
    "# Scratch \n",
    "\n",
    "print('Coefficient ratio: %0.3f' % (result.x[0] / result.x[1]))\n"
   ]
  },
  {
   "cell_type": "code",
   "execution_count": 111,
   "metadata": {},
   "outputs": [
    {
     "name": "stdout",
     "output_type": "stream",
     "text": [
      "Avg ME: 0.00349\n",
      "True ME: 2.00000\n"
     ]
    },
    {
     "data": {
      "image/png": "[encoded data removed]",
      "text/plain": [
       "<matplotlib.figure.Figure at 0x7f192e4bb0b8>"
      ]
     },
     "metadata": {},
     "output_type": "display_data"
    }
   ],
   "source": [
    "# Marginal effect scratch\n",
    "delta = 1.5\n",
    "\n",
    "beta = np.matrix(result.x).T\n",
    "X_new = np.copy(X)\n",
    "X_new[:,0] = np.reshape(X[:,0] + delta, (np.shape(X)[0]))\n",
    "\n",
    "v_hat = X*beta\n",
    "v_hat_new = X_new*beta\n",
    "\n",
    "me_vec = CE_1(Y, v_hat, v_hat_new, 1/5) - CE_1(Y, v_hat, v_hat, 1/5)\n",
    "plt.hist(me_vec)\n",
    "print('Avg ME: %0.5f' % np.mean(me_vec/delta))\n",
    "true_vec = f_true(X_new) - f_true(X)\n",
    "print('True ME: %0.5f' % np.mean(true_vec/delta))"
   ]
  },
  {
   "cell_type": "code",
   "execution_count": 88,
   "metadata": {},
   "outputs": [
    {
     "data": {
      "text/plain": [
       "[[0.01, 1.543078629725439],\n",
       " [1.12, 1.8384759830457036],\n",
       " [2.23, 1.926108612940292],\n",
       " [3.34, 1.9432778813556868],\n",
       " [4.45, 1.9396269141751956],\n",
       " [5.5600000000000005, 1.9573313290767087],\n",
       " [6.67, 1.9272311375604914],\n",
       " [7.78, 1.8820416818762582],\n",
       " [8.89, 1.8698772799941619],\n",
       " [10.0, 1.716800010453149]]"
      ]
     },
     "execution_count": 88,
     "metadata": {},
     "output_type": "execute_result"
    }
   ],
   "source": [
    "me_results = []\n",
    "\n",
    "for delta in np.linspace(0.01, 10, num = 10):\n",
    "    \n",
    "    beta = np.matrix(result.x).T\n",
    "    X_new = np.copy(X)\n",
    "    X_new[:,0] = np.reshape(X[:,0] + delta, (np.shape(X)[0]))\n",
    "\n",
    "    v_hat = X*beta\n",
    "    v_hat_new = X_new*beta\n",
    "\n",
    "    me_vec = CE_1(Y, v_hat, v_hat_new, 1/5) - CE_1(Y, v_hat, v_hat, 1/5)\n",
    "    me_results.append([delta, np.mean(me_vec/delta)])\n",
    "    \n",
    "me_results   "
   ]
  },
  {
   "cell_type": "code",
   "execution_count": 295,
   "metadata": {},
   "outputs": [],
   "source": []
  },
  {
   "cell_type": "markdown",
   "metadata": {},
   "source": [
    "# Actual Data"
   ]
  },
  {
   "cell_type": "code",
   "execution_count": 120,
   "metadata": {},
   "outputs": [],
   "source": [
    "import pandas as pd"
   ]
  },
  {
   "cell_type": "code",
   "execution_count": 121,
   "metadata": {},
   "outputs": [
    {
     "data": {
      "text/plain": [
       "(2010, 49)"
      ]
     },
     "metadata": {},
     "output_type": "display_data"
    },
    {
     "data": {
      "text/plain": [
       "(702, 49)"
      ]
     },
     "metadata": {},
     "output_type": "display_data"
    }
   ],
   "source": [
    "n = 1400 # sample size\n",
    "data_dmd = pd.read_csv('../data/processed/regression_data_levels.csv').query('OrderType == \"Market\"').drop('Rebate', axis = 1).dropna()#.sample(n = n)\n",
    "display(data_dmd.shape)\n",
    "display(data_dmd.query('MktShare == 0').shape)"
   ]
  },
  {
   "cell_type": "code",
   "execution_count": 122,
   "metadata": {},
   "outputs": [
    {
     "data": {
      "text/html": [
       "<div>\n",
       "<style scoped>\n",
       "    .dataframe tbody tr th:only-of-type {\n",
       "        vertical-align: middle;\n",
       "    }\n",
       "\n",
       "    .dataframe tbody tr th {\n",
       "        vertical-align: top;\n",
       "    }\n",
       "\n",
       "    .dataframe thead th {\n",
       "        text-align: right;\n",
       "    }\n",
       "</style>\n",
       "<table border=\"1\" class=\"dataframe\">\n",
       "  <thead>\n",
       "    <tr style=\"text-align: right;\">\n",
       "      <th></th>\n",
       "      <th>MarketCenter</th>\n",
       "      <th>Quarter</th>\n",
       "      <th>Exchange</th>\n",
       "      <th>OrderCode</th>\n",
       "      <th>CoveredOrders</th>\n",
       "      <th>CoveredShares</th>\n",
       "      <th>CancelledShares</th>\n",
       "      <th>MktCtrExecShares</th>\n",
       "      <th>AwayExecShares</th>\n",
       "      <th>ExecShares_0_9</th>\n",
       "      <th>...</th>\n",
       "      <th>MktCtrAvg_PrImp_AvgT</th>\n",
       "      <th>Rel_PrImp_AvgT</th>\n",
       "      <th>MktCtrAvg_PrImp_ExpAmt</th>\n",
       "      <th>Rel_PrImp_ExpAmt</th>\n",
       "      <th>MktCtrAvg_All_AvgT</th>\n",
       "      <th>Rel_All_AvgT</th>\n",
       "      <th>Broker</th>\n",
       "      <th>MktShare</th>\n",
       "      <th>Rebate_Dummy</th>\n",
       "      <th>Broker_Size</th>\n",
       "    </tr>\n",
       "  </thead>\n",
       "  <tbody>\n",
       "    <tr>\n",
       "      <th>0</th>\n",
       "      <td>ARCA</td>\n",
       "      <td>2015Q3</td>\n",
       "      <td>NASDAQ</td>\n",
       "      <td>11</td>\n",
       "      <td>167917</td>\n",
       "      <td>72636881</td>\n",
       "      <td>10384868</td>\n",
       "      <td>40788074</td>\n",
       "      <td>21463939</td>\n",
       "      <td>62072012</td>\n",
       "      <td>...</td>\n",
       "      <td>0.438198</td>\n",
       "      <td>0.636061</td>\n",
       "      <td>0.010542</td>\n",
       "      <td>0.009003</td>\n",
       "      <td>0.474635</td>\n",
       "      <td>0.196964</td>\n",
       "      <td>Barclays Capital</td>\n",
       "      <td>0.0000</td>\n",
       "      <td>1</td>\n",
       "      <td>2.395827e+10</td>\n",
       "    </tr>\n",
       "    <tr>\n",
       "      <th>1</th>\n",
       "      <td>ARCA</td>\n",
       "      <td>2015Q3</td>\n",
       "      <td>NASDAQ</td>\n",
       "      <td>11</td>\n",
       "      <td>167917</td>\n",
       "      <td>72636881</td>\n",
       "      <td>10384868</td>\n",
       "      <td>40788074</td>\n",
       "      <td>21463939</td>\n",
       "      <td>62072012</td>\n",
       "      <td>...</td>\n",
       "      <td>0.438198</td>\n",
       "      <td>0.636061</td>\n",
       "      <td>0.010542</td>\n",
       "      <td>0.009003</td>\n",
       "      <td>0.474635</td>\n",
       "      <td>0.196964</td>\n",
       "      <td>Cowen Execution</td>\n",
       "      <td>0.0000</td>\n",
       "      <td>0</td>\n",
       "      <td>5.018710e+07</td>\n",
       "    </tr>\n",
       "    <tr>\n",
       "      <th>2</th>\n",
       "      <td>ARCA</td>\n",
       "      <td>2015Q3</td>\n",
       "      <td>NASDAQ</td>\n",
       "      <td>11</td>\n",
       "      <td>167917</td>\n",
       "      <td>72636881</td>\n",
       "      <td>10384868</td>\n",
       "      <td>40788074</td>\n",
       "      <td>21463939</td>\n",
       "      <td>62072012</td>\n",
       "      <td>...</td>\n",
       "      <td>0.438198</td>\n",
       "      <td>0.636061</td>\n",
       "      <td>0.010542</td>\n",
       "      <td>0.009003</td>\n",
       "      <td>0.474635</td>\n",
       "      <td>0.196964</td>\n",
       "      <td>Credit Suisse</td>\n",
       "      <td>0.0000</td>\n",
       "      <td>1</td>\n",
       "      <td>3.266721e+10</td>\n",
       "    </tr>\n",
       "    <tr>\n",
       "      <th>3</th>\n",
       "      <td>ARCA</td>\n",
       "      <td>2015Q3</td>\n",
       "      <td>NASDAQ</td>\n",
       "      <td>11</td>\n",
       "      <td>167917</td>\n",
       "      <td>72636881</td>\n",
       "      <td>10384868</td>\n",
       "      <td>40788074</td>\n",
       "      <td>21463939</td>\n",
       "      <td>62072012</td>\n",
       "      <td>...</td>\n",
       "      <td>0.438198</td>\n",
       "      <td>0.636061</td>\n",
       "      <td>0.010542</td>\n",
       "      <td>0.009003</td>\n",
       "      <td>0.474635</td>\n",
       "      <td>0.196964</td>\n",
       "      <td>Deutsche</td>\n",
       "      <td>0.0151</td>\n",
       "      <td>1</td>\n",
       "      <td>2.045009e+10</td>\n",
       "    </tr>\n",
       "    <tr>\n",
       "      <th>8</th>\n",
       "      <td>ARCA</td>\n",
       "      <td>2015Q3</td>\n",
       "      <td>NYSE</td>\n",
       "      <td>11</td>\n",
       "      <td>332290</td>\n",
       "      <td>93147866</td>\n",
       "      <td>8771479</td>\n",
       "      <td>52918769</td>\n",
       "      <td>31457618</td>\n",
       "      <td>84371992</td>\n",
       "      <td>...</td>\n",
       "      <td>0.280035</td>\n",
       "      <td>-0.279227</td>\n",
       "      <td>0.006620</td>\n",
       "      <td>0.004540</td>\n",
       "      <td>0.372442</td>\n",
       "      <td>-0.369889</td>\n",
       "      <td>Barclays Capital</td>\n",
       "      <td>0.0000</td>\n",
       "      <td>1</td>\n",
       "      <td>2.395827e+10</td>\n",
       "    </tr>\n",
       "  </tbody>\n",
       "</table>\n",
       "<p>5 rows × 49 columns</p>\n",
       "</div>"
      ],
      "text/plain": [
       "  MarketCenter Quarter Exchange  OrderCode  CoveredOrders  CoveredShares  \\\n",
       "0         ARCA  2015Q3   NASDAQ         11         167917       72636881   \n",
       "1         ARCA  2015Q3   NASDAQ         11         167917       72636881   \n",
       "2         ARCA  2015Q3   NASDAQ         11         167917       72636881   \n",
       "3         ARCA  2015Q3   NASDAQ         11         167917       72636881   \n",
       "8         ARCA  2015Q3     NYSE         11         332290       93147866   \n",
       "\n",
       "   CancelledShares  MktCtrExecShares  AwayExecShares  ExecShares_0_9  \\\n",
       "0         10384868          40788074        21463939        62072012   \n",
       "1         10384868          40788074        21463939        62072012   \n",
       "2         10384868          40788074        21463939        62072012   \n",
       "3         10384868          40788074        21463939        62072012   \n",
       "8          8771479          52918769        31457618        84371992   \n",
       "\n",
       "       ...       MktCtrAvg_PrImp_AvgT  Rel_PrImp_AvgT  MktCtrAvg_PrImp_ExpAmt  \\\n",
       "0      ...                   0.438198        0.636061                0.010542   \n",
       "1      ...                   0.438198        0.636061                0.010542   \n",
       "2      ...                   0.438198        0.636061                0.010542   \n",
       "3      ...                   0.438198        0.636061                0.010542   \n",
       "8      ...                   0.280035       -0.279227                0.006620   \n",
       "\n",
       "   Rel_PrImp_ExpAmt  MktCtrAvg_All_AvgT  Rel_All_AvgT            Broker  \\\n",
       "0          0.009003            0.474635      0.196964  Barclays Capital   \n",
       "1          0.009003            0.474635      0.196964   Cowen Execution   \n",
       "2          0.009003            0.474635      0.196964     Credit Suisse   \n",
       "3          0.009003            0.474635      0.196964          Deutsche   \n",
       "8          0.004540            0.372442     -0.369889  Barclays Capital   \n",
       "\n",
       "   MktShare  Rebate_Dummy   Broker_Size  \n",
       "0    0.0000             1  2.395827e+10  \n",
       "1    0.0000             0  5.018710e+07  \n",
       "2    0.0000             1  3.266721e+10  \n",
       "3    0.0151             1  2.045009e+10  \n",
       "8    0.0000             1  2.395827e+10  \n",
       "\n",
       "[5 rows x 49 columns]"
      ]
     },
     "execution_count": 122,
     "metadata": {},
     "output_type": "execute_result"
    }
   ],
   "source": [
    "data_dmd.head()"
   ]
  },
  {
   "cell_type": "markdown",
   "metadata": {},
   "source": [
    "### All"
   ]
  },
  {
   "cell_type": "code",
   "execution_count": 123,
   "metadata": {},
   "outputs": [],
   "source": [
    "data_dmd_mat = np.matrix(data_dmd[['MktShare', 'PrImp_ExpAmt', 'PrImp_AvgT']])\n",
    "Y = data_dmd_mat[:,0]\n",
    "X = data_dmd_mat[:,1:]\n",
    "guess = [1.00853382, -0.00344227]"
   ]
  },
  {
   "cell_type": "code",
   "execution_count": 124,
   "metadata": {},
   "outputs": [
    {
     "data": {
      "text/plain": [
       "      fun: 41.85115170808477\n",
       " hess_inv: array([[ 9.98473892e-01, -3.40368792e-03],\n",
       "       [-3.40368792e-03,  3.81150003e-05]])\n",
       "      jac: array([0.0001421 , 0.04894066])\n",
       "  message: 'Maximum number of iterations has been exceeded.'\n",
       "     nfev: 40\n",
       "      nit: 4\n",
       "     njev: 10\n",
       "   status: 1\n",
       "  success: False\n",
       "        x: array([ 1.00686087, -0.00293335])"
      ]
     },
     "execution_count": 124,
     "metadata": {},
     "output_type": "execute_result"
    }
   ],
   "source": [
    "obj_f = lambda x_0: -SLS_1(x_0, Y, X, trim(X, 0.98))\n",
    "result = minimize(obj_f, guess, method='BFGS', options = {'gtol': 1e-03, 'maxiter': 4})\n",
    "tstats_all = find_tstats(Y, X, result)\n",
    "result_all = result\n",
    "result"
   ]
  },
  {
   "cell_type": "markdown",
   "metadata": {},
   "source": [
    "### Rebate accepting"
   ]
  },
  {
   "cell_type": "code",
   "execution_count": 125,
   "metadata": {},
   "outputs": [],
   "source": [
    "data_dmd_rebate_mat = np.matrix(data_dmd.query('Rebate_Dummy == 1')[['MktShare', 'PrImp_ExpAmt', 'PrImp_AvgT']])\n",
    "Y = data_dmd_rebate_mat[:,0]\n",
    "X = data_dmd_rebate_mat[:,1:]"
   ]
  },
  {
   "cell_type": "code",
   "execution_count": 126,
   "metadata": {},
   "outputs": [
    {
     "data": {
      "text/plain": [
       "      fun: 1.7024893207071667\n",
       " hess_inv: array([[ 1.00256441, -0.00150625],\n",
       "       [-0.00150625,  0.00243805]])\n",
       "      jac: array([-4.47034836e-08,  1.49011612e-07])\n",
       "  message: 'Optimization terminated successfully.'\n",
       "     nfev: 60\n",
       "      nit: 6\n",
       "     njev: 15\n",
       "   status: 0\n",
       "  success: True\n",
       "        x: array([ 0.99905107, -0.01578509])"
      ]
     },
     "execution_count": 126,
     "metadata": {},
     "output_type": "execute_result"
    }
   ],
   "source": [
    "obj_f = lambda x_0: -SLS_1(x_0, Y, X, trim(X, 0.98))\n",
    "result = minimize(obj_f, guess, method='BFGS')\n",
    "tstats_paid = find_tstats(Y, X, result)\n",
    "result_paid = result\n",
    "result"
   ]
  },
  {
   "cell_type": "markdown",
   "metadata": {},
   "source": [
    "### Unpaid"
   ]
  },
  {
   "cell_type": "code",
   "execution_count": 127,
   "metadata": {},
   "outputs": [],
   "source": [
    "data_dmd_rebate_mat = np.matrix(data_dmd.query('Rebate_Dummy == 0')[['MktShare', 'PrImp_ExpAmt', 'PrImp_AvgT']])\n",
    "Y = data_dmd_rebate_mat[:,0]\n",
    "X = data_dmd_rebate_mat[:,1:]"
   ]
  },
  {
   "cell_type": "code",
   "execution_count": 128,
   "metadata": {},
   "outputs": [
    {
     "data": {
      "text/plain": [
       "      fun: 35.569807662681036\n",
       " hess_inv: array([[ 1.11692680e+00, -6.18200799e-03],\n",
       "       [-6.18200799e-03,  1.04652960e-04]])\n",
       "      jac: array([-7.34329224e-05, -3.93290520e-02])\n",
       "  message: 'Maximum number of iterations has been exceeded.'\n",
       "     nfev: 40\n",
       "      nit: 4\n",
       "     njev: 10\n",
       "   status: 1\n",
       "  success: False\n",
       "        x: array([ 1.00077912, -0.00185409])"
      ]
     },
     "execution_count": 128,
     "metadata": {},
     "output_type": "execute_result"
    }
   ],
   "source": [
    "obj_f = lambda x_0: -SLS_1(x_0, Y, X, trim(X, 0.98))\n",
    "result = minimize(obj_f, guess, method='BFGS', options = {'gtol': 1e-03, 'maxiter': 4})\n",
    "tstats_unpaid = find_tstats(Y, X, result)\n",
    "result_unpaid = result\n",
    "result"
   ]
  },
  {
   "cell_type": "markdown",
   "metadata": {},
   "source": [
    "## Significance"
   ]
  },
  {
   "cell_type": "code",
   "execution_count": 45,
   "metadata": {},
   "outputs": [
    {
     "data": {
      "text/plain": [
       "'T-Stats (All)'"
      ]
     },
     "metadata": {},
     "output_type": "display_data"
    },
    {
     "data": {
      "text/plain": [
       "array([      nan, -1.765061])"
      ]
     },
     "metadata": {},
     "output_type": "display_data"
    },
    {
     "data": {
      "text/plain": [
       "'T-Stats (Paid)'"
      ]
     },
     "metadata": {},
     "output_type": "display_data"
    },
    {
     "data": {
      "text/plain": [
       "array([        nan, -3.20505267])"
      ]
     },
     "metadata": {},
     "output_type": "display_data"
    },
    {
     "data": {
      "text/plain": [
       "'T-Stats (Unpaid)'"
      ]
     },
     "metadata": {},
     "output_type": "display_data"
    },
    {
     "data": {
      "text/plain": [
       "array([        nan, -0.59009845])"
      ]
     },
     "metadata": {},
     "output_type": "display_data"
    }
   ],
   "source": [
    "display('T-Stats (All)', tstats_all)\n",
    "display('T-Stats (Paid)', tstats_paid)\n",
    "display('T-Stats (Unpaid)', tstats_unpaid)"
   ]
  },
  {
   "cell_type": "markdown",
   "metadata": {},
   "source": [
    "## Marginal Effects"
   ]
  },
  {
   "cell_type": "code",
   "execution_count": 46,
   "metadata": {},
   "outputs": [
    {
     "data": {
      "text/plain": [
       "matrix([[0.00624043, 0.09237883]])"
      ]
     },
     "execution_count": 46,
     "metadata": {},
     "output_type": "execute_result"
    },
    {
     "data": {
      "image/png": "[encoded data removed]",
      "text/plain": [
       "<matplotlib.figure.Figure at 0x7fd86d642f98>"
      ]
     },
     "metadata": {},
     "output_type": "display_data"
    }
   ],
   "source": [
    "data_dmd_mat = np.matrix(data_dmd[['MktShare', 'PrImp_ExpAmt', 'PrImp_AvgT']])\n",
    "Y = data_dmd_mat[:,0]\n",
    "X = data_dmd_mat[:,1:]\n",
    "ind = 0\n",
    "point = np.matrix(np.mean(X, axis = 0))\n",
    "\n",
    "param_range = [0.0025, 0.01]\n",
    "plt.hist(X[:,0], bins = 30);\n",
    "point"
   ]
  },
  {
   "cell_type": "markdown",
   "metadata": {},
   "source": [
    "### All"
   ]
  },
  {
   "cell_type": "code",
   "execution_count": 90,
   "metadata": {},
   "outputs": [
    {
     "data": {
      "image/png": "[encoded data removed]",
      "text/plain": [
       "<matplotlib.figure.Figure at 0x7fd86c0d48d0>"
      ]
     },
     "metadata": {},
     "output_type": "display_data"
    }
   ],
   "source": [
    "data_dmd_mat = np.matrix(data_dmd[['MktShare', 'PrImp_ExpAmt', 'PrImp_AvgT']])\n",
    "Y = data_dmd_mat[:,0]\n",
    "X = data_dmd_mat[:,1:]\n",
    "\n",
    "result = result_all\n",
    "me_results = calculate_me_range(Y, X, result, ind, point, delta = .001, n_1 = 300, n_2 = 1, delta_range = [0.001, 0.01], parameter_range = param_range)\n",
    "plt.plot(me_results[:,0],me_results[:,1]);"
   ]
  },
  {
   "cell_type": "markdown",
   "metadata": {},
   "source": [
    "### Paid"
   ]
  },
  {
   "cell_type": "code",
   "execution_count": 91,
   "metadata": {},
   "outputs": [
    {
     "data": {
      "image/png": "[encoded data removed]",
      "text/plain": [
       "<matplotlib.figure.Figure at 0x7fd86c0731d0>"
      ]
     },
     "metadata": {},
     "output_type": "display_data"
    }
   ],
   "source": [
    "data_dmd_rebate_mat = np.matrix(data_dmd.query('Rebate_Dummy == 1')[['MktShare', 'PrImp_ExpAmt', 'PrImp_AvgT']])\n",
    "Y = data_dmd_rebate_mat[:,0]\n",
    "X = data_dmd_rebate_mat[:,1:]\n",
    "\n",
    "result = result_paid\n",
    "me_results = calculate_me_range(Y, X, result, ind, point, delta = .001, n_1 = 300, n_2 = 1, delta_range = [0.001, 0.01], parameter_range = param_range)\n",
    "plt.plot(me_results[:,0],me_results[:,1]);"
   ]
  },
  {
   "cell_type": "markdown",
   "metadata": {},
   "source": [
    "### Unpaid"
   ]
  },
  {
   "cell_type": "code",
   "execution_count": 98,
   "metadata": {},
   "outputs": [
    {
     "data": {
      "image/png": "[encoded data removed]",
      "text/plain": [
       "<matplotlib.figure.Figure at 0x7fd86c13a1d0>"
      ]
     },
     "metadata": {},
     "output_type": "display_data"
    }
   ],
   "source": [
    "data_dmd_rebate_mat = np.matrix(data_dmd.query('Rebate_Dummy == 0')[['MktShare', 'PrImp_ExpAmt', 'PrImp_AvgT']])\n",
    "Y = data_dmd_rebate_mat[:,0]\n",
    "X = data_dmd_rebate_mat[:,1:]\n",
    "\n",
    "result = result_unpaid\n",
    "me_results = calculate_me_range(Y, X, result, ind, point, delta = .001, n_1 = 300, n_2 = 1, delta_range = [0.003, 0.01], parameter_range = param_range)\n",
    "plt.plot(me_results[:,0],me_results[:,1]);"
   ]
  },
  {
   "cell_type": "code",
   "execution_count": 109,
   "metadata": {},
   "outputs": [
    {
     "data": {
      "text/plain": [
       "matrix([[0.00624043, 0.09237883]])"
      ]
     },
     "metadata": {},
     "output_type": "display_data"
    }
   ],
   "source": [
    "point = np.mean(np.matrix(data_dmd[['PrImp_ExpAmt', 'PrImp_AvgT']]), axis = 0)\n",
    "display(point)\n",
    "\n",
    "data_dmd_rebate_mat = np.matrix(data_dmd.query('Rebate_Dummy == 0')[['MktShare', 'PrImp_ExpAmt', 'PrImp_AvgT']])\n",
    "Y_unpaid = data_dmd_rebate_mat[:,0]\n",
    "X_unpaid = data_dmd_rebate_mat[:,1:]\n",
    "me_results_unpaid = calculate_me_range(Y, X, result_unpaid, ind, point, delta = .001, n_1 = 300, n_2 = 1, delta_range = [0.001, 0.0025], parameter_range = param_range)\n",
    "\n",
    "data_dmd_rebate_mat = np.matrix(data_dmd.query('Rebate_Dummy == 1')[['MktShare', 'PrImp_ExpAmt', 'PrImp_AvgT']])\n",
    "Y_paid = data_dmd_rebate_mat[:,0]\n",
    "X_paid = data_dmd_rebate_mat[:,1:]\n",
    "me_results_paid   = calculate_me_range(Y, X, result_paid,   ind, point, delta = .001, n_1 = 300, n_2 = 1, delta_range = [0.003, 0.0025], parameter_range = param_range)"
   ]
  },
  {
   "cell_type": "code",
   "execution_count": 110,
   "metadata": {},
   "outputs": [
    {
     "data": {
      "text/plain": [
       "[<matplotlib.lines.Line2D at 0x7fd86c0840f0>]"
      ]
     },
     "execution_count": 110,
     "metadata": {},
     "output_type": "execute_result"
    },
    {
     "data": {
      "image/png": "[encoded data removed]",
      "text/plain": [
       "<matplotlib.figure.Figure at 0x7fd8677d0da0>"
      ]
     },
     "metadata": {},
     "output_type": "display_data"
    }
   ],
   "source": [
    "ind_3 = 0\n",
    "# X parameter doesn't matter here, can be paid or unpaid, both ranges are the same (linspace_1 in function)\n",
    "plt.plot(me_results_unpaid[:,0,:], me_results_unpaid[:,1,:] - me_results_paid[:,1,:])"
   ]
  },
  {
   "cell_type": "markdown",
   "metadata": {},
   "source": [
    "### At Particular X's"
   ]
  },
  {
   "cell_type": "code",
   "execution_count": 75,
   "metadata": {},
   "outputs": [
    {
     "data": {
      "text/plain": [
       "-0.06412411177971386"
      ]
     },
     "metadata": {},
     "output_type": "display_data"
    },
    {
     "data": {
      "text/plain": [
       "0.011465387302266095"
      ]
     },
     "metadata": {},
     "output_type": "display_data"
    },
    {
     "data": {
      "text/plain": [
       "-0.0665041750171671"
      ]
     },
     "metadata": {},
     "output_type": "display_data"
    }
   ],
   "source": [
    "# At CDRG's stats\n",
    "CDRG_X = [0.01077, .161658]\n",
    "delta = 0.001\n",
    "\n",
    "display(compute_marginal_effect(Y, X, 0, np.matrix(CDRG_X), np.matrix(result_all.x).T,    delta = delta)*delta)\n",
    "display(compute_marginal_effect(Y, X, 0, np.matrix(CDRG_X), np.matrix(result_paid.x).T,   delta = delta)*delta)\n",
    "display(compute_marginal_effect(Y, X, 0, np.matrix(CDRG_X), np.matrix(result_unpaid.x).T, delta = delta)*delta)"
   ]
  },
  {
   "cell_type": "code",
   "execution_count": 111,
   "metadata": {},
   "outputs": [
    {
     "data": {
      "text/plain": [
       "[0.004360273984438516, 1.9866772850019099]"
      ]
     },
     "metadata": {},
     "output_type": "display_data"
    },
    {
     "name": "stdout",
     "output_type": "stream",
     "text": [
      "\n",
      "\n",
      "Percentile: 0\n",
      "ME: -0.04973\n",
      "ME: -0.16156\n",
      "ME: 0.03282\n",
      "Difference in ME: 0.19438103\n",
      "\n",
      "\n",
      "Percentile: 25\n",
      "ME: 0.03801\n",
      "ME: -0.16173\n",
      "ME: 0.05470\n",
      "Difference in ME: 0.21643508\n",
      "\n",
      "\n",
      "Percentile: 50\n",
      "ME: 0.02250\n",
      "ME: -0.16173\n",
      "ME: 0.07636\n",
      "Difference in ME: 0.23809738\n",
      "\n",
      "\n",
      "Percentile: 75\n",
      "ME: 0.08014\n",
      "ME: -0.16173\n",
      "ME: 0.04111\n",
      "Difference in ME: 0.20284785\n",
      "\n",
      "\n",
      "Percentile: 100\n",
      "ME: -0.00000\n",
      "ME: 0.03252\n",
      "ME: -0.00000\n",
      "Difference in ME: -0.03251697\n"
     ]
    }
   ],
   "source": [
    "data_605 = pd.read_csv('../data/processed/605_processed.csv').dropna().query('OrderCode == 11')\n",
    "\n",
    "PrImp_ExpAmt_mean = data_605['PrImp_ExpAmt'].mean()\n",
    "PrImp_AvgT_mean = data_605['PrImp_AvgT'].mean()\n",
    "\n",
    "display([PrImp_ExpAmt_mean, PrImp_AvgT_mean])\n",
    "\n",
    "delta = 0.01\n",
    "\n",
    "for x in range(0, 101, 25):\n",
    "\n",
    "    print('\\n\\nPercentile: %d' % x)\n",
    "    X_initial = [PrImp_ExpAmt_mean, PrImp_AvgT_mean]\n",
    "    X_initial[0] = np.percentile(data_605['PrImp_ExpAmt'], x)\n",
    "\n",
    "    print('ME: %0.5f' % (compute_marginal_effect(Y, X, 0, np.matrix(X_initial), np.matrix(result_all.x).T,    delta = delta)*delta))\n",
    "    print('ME: %0.5f' % (compute_marginal_effect(Y_paid, X_paid, 0, np.matrix(X_initial), np.matrix(result_paid.x).T,   delta = delta)*delta))\n",
    "    print('ME: %0.5f' % (compute_marginal_effect(Y_unpaid, X_unpaid, 0, np.matrix(X_initial), np.matrix(result_unpaid.x).T, delta = delta)*delta))\n",
    "    print('Difference in ME: %0.8f' % ((compute_marginal_effect(Y_unpaid, X_unpaid, 0, np.matrix(X_initial), np.matrix(result_unpaid.x).T, delta = delta)*delta) - \n",
    "         (compute_marginal_effect(Y_paid, X_paid, 0, np.matrix(X_initial), np.matrix(result_paid.x).T,   delta = delta)*delta)))"
   ]
  },
  {
   "cell_type": "code",
   "execution_count": 116,
   "metadata": {},
   "outputs": [
    {
     "name": "stdout",
     "output_type": "stream",
     "text": [
      "\n",
      "\n",
      "Percentile: 0\n",
      "ME: -0.16617\n",
      "ME: -0.05696\n",
      "ME: -0.16099\n",
      "Difference in ME: -0.10402914\n",
      "\n",
      "\n",
      "Percentile: 25\n",
      "ME: -0.16643\n",
      "ME: -0.05479\n",
      "ME: -0.16117\n",
      "Difference in ME: -0.10637214\n",
      "\n",
      "\n",
      "Percentile: 50\n",
      "ME: -0.16839\n",
      "ME: -0.04475\n",
      "ME: -0.16224\n",
      "Difference in ME: -0.11748790\n",
      "\n",
      "\n",
      "Percentile: 75\n",
      "ME: -0.11521\n",
      "ME: 0.01419\n",
      "ME: -0.15838\n",
      "Difference in ME: -0.17256931\n",
      "\n",
      "\n",
      "Percentile: 100\n",
      "ME: nan\n",
      "ME: nan\n",
      "ME: nan\n",
      "Difference in ME: nan\n"
     ]
    },
    {
     "name": "stderr",
     "output_type": "stream",
     "text": [
      "/usr/local/lib/python3.5/dist-packages/ipykernel_launcher.py:28: RuntimeWarning: invalid value encountered in true_divide\n"
     ]
    }
   ],
   "source": [
    "delta = 0.01\n",
    "\n",
    "for x in range(0, 101, 25):\n",
    "\n",
    "    print('\\n\\nPercentile: %d' % x)\n",
    "    X_initial = [PrImp_ExpAmt_mean, PrImp_AvgT_mean]\n",
    "    X_initial[1] = np.percentile(data_605['PrImp_AvgT'], x)\n",
    "\n",
    "    print('ME: %0.5f' % (compute_marginal_effect(Y, X, 0, np.matrix(X_initial), np.matrix(result_all.x).T,    delta = delta)*delta))\n",
    "    print('ME: %0.5f' % (compute_marginal_effect(Y_paid, X_paid, 0, np.matrix(X_initial), np.matrix(result_paid.x).T,   delta = delta)*delta))\n",
    "    print('ME: %0.5f' % (compute_marginal_effect(Y_unpaid, X_unpaid, 0, np.matrix(X_initial), np.matrix(result_unpaid.x).T, delta = delta)*delta))\n",
    "    print('Difference in ME: %0.8f' % ((compute_marginal_effect(Y_unpaid, X_unpaid, 0, np.matrix(X_initial), np.matrix(result_unpaid.x).T, delta = delta)*delta) - \n",
    "         (compute_marginal_effect(Y_paid, X_paid, 0, np.matrix(X_initial), np.matrix(result_paid.x).T,   delta = delta)*delta)))"
   ]
  },
  {
   "cell_type": "markdown",
   "metadata": {},
   "source": [
    "# Scratch"
   ]
  },
  {
   "cell_type": "code",
   "execution_count": null,
   "metadata": {},
   "outputs": [],
   "source": []
  },
  {
   "cell_type": "code",
   "execution_count": 84,
   "metadata": {},
   "outputs": [
    {
     "data": {
      "text/plain": [
       "      fun: 96.64524801044234\n",
       " hess_inv: array([[ 7.01365158e+00, -1.05423757e-01],\n",
       "       [-1.05423757e-01,  6.86709321e-03]])\n",
       "      jac: array([-9.53674316e-07,  0.00000000e+00])\n",
       "  message: 'Optimization terminated successfully.'\n",
       "     nfev: 40\n",
       "      nit: 9\n",
       "     njev: 10\n",
       "   status: 0\n",
       "  success: True\n",
       "        x: array([24.85331849, -0.09983802])"
      ]
     },
     "execution_count": 84,
     "metadata": {},
     "output_type": "execute_result"
    }
   ],
   "source": [
    "import scipy\n",
    "\n",
    "data_dmd_rebate_mat = np.matrix(data_dmd.query('MktShare != -1')[['MktShare', 'PrImp_ExpAmt', 'PrImp_AvgT']])\n",
    "Y = data_dmd_rebate_mat[:,0]\n",
    "X = data_dmd_rebate_mat[:,1:]\n",
    "\n",
    "obj_f = lambda x_0: np.sum(np.power(Y - X*np.matrix(x_0).T, 2)) #-SLS_1(x_0, Y, X, trim(X, 0.98))[0,0]\n",
    "result =  minimize(obj_f, [1,2], method='BFGS')\n",
    "result"
   ]
  },
  {
   "cell_type": "code",
   "execution_count": 85,
   "metadata": {},
   "outputs": [
    {
     "data": {
      "text/plain": [
       "matrix([[24.85332203],\n",
       "        [-0.09983807]])"
      ]
     },
     "execution_count": 85,
     "metadata": {},
     "output_type": "execute_result"
    }
   ],
   "source": [
    "beta = np.linalg.inv(X.T*X)*X.T*Y\n",
    "beta"
   ]
  },
  {
   "cell_type": "code",
   "execution_count": 86,
   "metadata": {},
   "outputs": [
    {
     "data": {
      "text/plain": [
       "(array([  8.,   4.,  12.,  13.,  62., 110., 300., 271., 176., 216., 158.,\n",
       "        114., 119.,  89.,  67.,  46.,  48.,  41.,  30.,  18.,  12.,  21.,\n",
       "         15.,  14.,  12.,  10.,   6.,   3.,  13.,   2.]),\n",
       " array([-0.45120354, -0.4056834 , -0.36016325, -0.31464311, -0.26912297,\n",
       "        -0.22360282, -0.17808268, -0.13256254, -0.08704239, -0.04152225,\n",
       "         0.00399789,  0.04951804,  0.09503818,  0.14055833,  0.18607847,\n",
       "         0.23159861,  0.27711876,  0.3226389 ,  0.36815904,  0.41367919,\n",
       "         0.45919933,  0.50471947,  0.55023962,  0.59575976,  0.6412799 ,\n",
       "         0.68680005,  0.73232019,  0.77784033,  0.82336048,  0.86888062,\n",
       "         0.91440077]),\n",
       " <a list of 30 Patch objects>)"
      ]
     },
     "execution_count": 86,
     "metadata": {},
     "output_type": "execute_result"
    },
    {
     "data": {
      "image/png": "[encoded data removed]",
      "text/plain": [
       "<matplotlib.figure.Figure at 0x7fd86d5c8dd8>"
      ]
     },
     "metadata": {},
     "output_type": "display_data"
    }
   ],
   "source": [
    "e_hat = Y - X*np.matrix(beta)\n",
    "\n",
    "plt.hist(e_hat, bins = 30)"
   ]
  },
  {
   "cell_type": "code",
   "execution_count": 88,
   "metadata": {},
   "outputs": [],
   "source": [
    "# mask = Y == 0\n",
    "# e_hat[mask]"
   ]
  },
  {
   "cell_type": "code",
   "execution_count": 89,
   "metadata": {},
   "outputs": [
    {
     "data": {
      "text/plain": [
       "(array([  2.,   4.,   5.,  34., 113., 178., 214., 194., 166., 107.,  73.,\n",
       "         62.,  37.,  23.,  25.,  25.,  20.,   8.,  11.,   7.]),\n",
       " array([-0.44820354, -0.38007332, -0.31194311, -0.24381289, -0.17568268,\n",
       "        -0.10755246, -0.03942225,  0.02870797,  0.09683818,  0.1649684 ,\n",
       "         0.23309861,  0.30122883,  0.36935904,  0.43748926,  0.50561947,\n",
       "         0.57374969,  0.6418799 ,  0.71001012,  0.77814033,  0.84627055,\n",
       "         0.91440077]),\n",
       " <a list of 20 Patch objects>)"
      ]
     },
     "execution_count": 89,
     "metadata": {},
     "output_type": "execute_result"
    },
    {
     "data": {
      "image/png": "[encoded data removed]",
      "text/plain": [
       "<matplotlib.figure.Figure at 0x7fd86d428a58>"
      ]
     },
     "metadata": {},
     "output_type": "display_data"
    }
   ],
   "source": [
    "plt.hist(e_hat[Y != 0].T, bins = 20)"
   ]
  },
  {
   "cell_type": "code",
   "execution_count": 82,
   "metadata": {},
   "outputs": [
    {
     "data": {
      "text/plain": [
       "NormaltestResult(statistic=array([173.74078391]), pvalue=array([1.87356228e-38]))"
      ]
     },
     "execution_count": 82,
     "metadata": {},
     "output_type": "execute_result"
    }
   ],
   "source": [
    "from scipy import stats\n",
    "stats.normaltest(e_hat[Y != 0].T)"
   ]
  },
  {
   "cell_type": "code",
   "execution_count": 83,
   "metadata": {},
   "outputs": [
    {
     "data": {
      "text/plain": [
       "matrix([], shape=(1, 0), dtype=float64)"
      ]
     },
     "execution_count": 83,
     "metadata": {},
     "output_type": "execute_result"
    }
   ],
   "source": [
    "e_hat[Y == 0]"
   ]
  },
  {
   "cell_type": "code",
   "execution_count": 154,
   "metadata": {},
   "outputs": [],
   "source": [
    "data_dmd_rebate_mat = np.matrix(data_dmd.query('Rebate_Dummy != 0')[['MktShare', 'PrImp_ExpAmt', 'PrImp_AvgT']])\n",
    "Y = data_dmd_rebate_mat[:,0]\n",
    "X = data_dmd_rebate_mat[:,1:]"
   ]
  },
  {
   "cell_type": "code",
   "execution_count": 155,
   "metadata": {},
   "outputs": [
    {
     "data": {
      "text/plain": [
       "<matplotlib.collections.PathCollection at 0x7fd8670b06a0>"
      ]
     },
     "execution_count": 155,
     "metadata": {},
     "output_type": "execute_result"
    },
    {
     "data": {
      "image/png": "[encoded data removed]",
      "text/plain": [
       "<matplotlib.figure.Figure at 0x7fd867712828>"
      ]
     },
     "metadata": {},
     "output_type": "display_data"
    }
   ],
   "source": [
    "plt.scatter(np.array(X*np.matrix(result_paid.x).T).flatten(), np.array(Y).flatten())\n"
   ]
  },
  {
   "cell_type": "code",
   "execution_count": null,
   "metadata": {},
   "outputs": [],
   "source": []
  }
 ],
 "metadata": {
  "kernelspec": {
   "display_name": "Python 3",
   "language": "python",
   "name": "python3"
  },
  "language_info": {
   "codemirror_mode": {
    "name": "ipython",
    "version": 3
   },
   "file_extension": ".py",
   "mimetype": "text/x-python",
   "name": "python",
   "nbconvert_exporter": "python",
   "pygments_lexer": "ipython3",
   "version": "3.5.2"
  },
  "toc": {
   "nav_menu": {},
   "number_sections": false,
   "sideBar": true,
   "skip_h1_title": false,
   "toc_cell": false,
   "toc_position": {},
   "toc_section_display": "block",
   "toc_window_display": true
  },
  "varInspector": {
   "cols": {
    "lenName": 16,
    "lenType": 16,
    "lenVar": 40
   },
   "kernels_config": {
    "python": {
     "delete_cmd_postfix": "",
     "delete_cmd_prefix": "del ",
     "library": "var_list.py",
     "varRefreshCmd": "print(var_dic_list())"
    },
    "r": {
     "delete_cmd_postfix": ") ",
     "delete_cmd_prefix": "rm(",
     "library": "var_list.r",
     "varRefreshCmd": "cat(var_dic_list()) "
    }
   },
   "types_to_exclude": [
    "module",
    "function",
    "builtin_function_or_method",
    "instance",
    "_Feature"
   ],
   "window_display": false
  }
 },
 "nbformat": 4,
 "nbformat_minor": 2
}
