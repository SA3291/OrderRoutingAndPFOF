{
 "cells": [
  {
   "cell_type": "code",
   "execution_count": 201,
   "metadata": {
    "ExecuteTime": {
     "end_time": "2018-02-18T23:20:57.312811Z",
     "start_time": "2018-02-18T23:20:57.307801Z"
    }
   },
   "outputs": [],
   "source": [
    "import numpy as np\n",
    "import matplotlib.pyplot as plt\n",
    "\n",
    "%matplotlib inline"
   ]
  },
  {
   "cell_type": "markdown",
   "metadata": {},
   "source": [
    "# Simulation"
   ]
  },
  {
   "cell_type": "code",
   "execution_count": 247,
   "metadata": {
    "ExecuteTime": {
     "end_time": "2018-02-18T23:20:57.477422Z",
     "start_time": "2018-02-18T23:20:57.468206Z"
    }
   },
   "outputs": [],
   "source": [
    "# Params\n",
    "n = 500\n",
    "f_true = lambda X: 2*X[:,0] + X[:,1] #np.square((X[:,0] + X[:,1]))*2/12.901058\n",
    "# Generate Data\n",
    "X = np.matrix(np.random.randn(2*n, 2))\n",
    "# Remove outliers\n",
    "ind_not_outlier = np.array(np.multiply((abs(X) < 3)[:,0], (abs(X) < 3)[:,1]).T)[0]\n",
    "X = X[ind_not_outlier, :][0:n, :]\n",
    "# square elements of X\n",
    "X = np.power(X, 2)\n",
    "Y = f_true(X) + np.random.randn(n, 1)/3"
   ]
  },
  {
   "cell_type": "code",
   "execution_count": 246,
   "metadata": {
    "ExecuteTime": {
     "end_time": "2018-02-18T23:20:57.684847Z",
     "start_time": "2018-02-18T23:20:57.619016Z"
    }
   },
   "outputs": [],
   "source": [
    "def trim(X, percent):\n",
    "    \n",
    "    alpha = (1 - percent)/2\n",
    "    n, k = np.shape(X)\n",
    "    t_ind = np.zeros((n, k))\n",
    "    \n",
    "    for i in range(0, k):\n",
    "        upper_bd = np.percentile(X[:,i], (1 - alpha)*100)\n",
    "        lower_bd = np.percentile(X[:,i], (alpha)*100)\n",
    "        t_ind[:, i] = [int(lower_bd < x < upper_bd) for x in X[:,i]]\n",
    "        \n",
    "    return np.prod(t_ind, axis = 1)\n",
    "\n",
    "def pdfn(x):\n",
    "    return np.exp(-np.multiply(x, x)/2)/np.sqrt(2*np.pi)\n",
    "\n",
    "# Conditional Expecttation\n",
    "def CE_1(Y, X, arg, r):\n",
    "    \n",
    "    n_arg = np.shape(arg)[0]\n",
    "    n = np.shape(X)[0]\n",
    "    h = (n**(-r)) * np.std(X, axis = 0, ddof = 1)\n",
    "    e = np.zeros((n, 1))\n",
    "    \n",
    "    for j in range(0, n_arg):\n",
    "        k = np.divide(pdfn(np.divide((arg[j] - X), h)), h)\n",
    "        k = np.prod(k, axis = 1)   \n",
    "        e[j] = (Y.T*k/n)/np.mean(k)\n",
    "        \n",
    "    return e\n",
    "\n",
    "def SLS_1(b, Y, X, X_ind):\n",
    "    \n",
    "    v = X * np.matrix(b).T\n",
    "    EY = CE_1(Y, v, v, 1/5)\n",
    "    residual = np.power((Y - EY), 2)\n",
    "    \n",
    "    return (-0.5 * np.matrix(X_ind)*residual)\n",
    "\n",
    "\n",
    "def semiparametricRegression(Y, X):\n",
    "    \n",
    "    guess = np.random.random((1, np.shape(X)[1]))\n",
    "    obj_f = lambda x_0: -SLS_1(x_0, Y, X, trim(X, 0.98))\n",
    "    result = minimize(obj_f, guess, method='BFGS')\n",
    "    return result\n",
    "\n",
    "def convertHessianToCov(Y, X, results):\n",
    "    \n",
    "    sigma_2_hat = np.mean(np.power(Y - X*np.matrix(results.x).T, 2))\n",
    "    return results.hess_inv * sigma_2_hat"
   ]
  },
  {
   "cell_type": "code",
   "execution_count": 253,
   "metadata": {
    "ExecuteTime": {
     "end_time": "2018-02-18T23:24:15.409235Z",
     "start_time": "2018-02-18T23:24:00.439677Z"
    }
   },
   "outputs": [
    {
     "data": {
      "text/plain": [
       "     fun: 131.00595584906563\n",
       "     jac: array([ 0.04420471, -0.08887672])\n",
       " message: 'Optimization terminated successfully.'\n",
       "    nfev: 49\n",
       "     nit: 8\n",
       "    njev: 8\n",
       "  status: 0\n",
       " success: True\n",
       "       x: array([4.83411352, 2.40415916])"
      ]
     },
     "execution_count": 253,
     "metadata": {},
     "output_type": "execute_result"
    }
   ],
   "source": [
    "from scipy.optimize import minimize\n",
    "obj_f = lambda x_0: -SLS_1(x_0, Y, X, trim(X, 0.98))\n",
    "result = minimize(obj_f, [1,2], method='SLSQP', options={'ftol': 10**-2})\n",
    "result"
   ]
  },
  {
   "cell_type": "code",
   "execution_count": 237,
   "metadata": {
    "ExecuteTime": {
     "end_time": "2018-02-18T23:24:15.439917Z",
     "start_time": "2018-02-18T23:24:15.430536Z"
    }
   },
   "outputs": [
    {
     "data": {
      "text/plain": [
       "2.0248936979765464"
      ]
     },
     "execution_count": 237,
     "metadata": {},
     "output_type": "execute_result"
    }
   ],
   "source": [
    "v_hat = X*np.matrix(result.x).T\n",
    "#CE_1(Y, v_hat, v_hat, 1/5)\n",
    "result.x[0] / result.x[1]"
   ]
  },
  {
   "cell_type": "code",
   "execution_count": 249,
   "metadata": {
    "ExecuteTime": {
     "end_time": "2018-02-18T23:24:15.910407Z",
     "start_time": "2018-02-18T23:24:15.463510Z"
    }
   },
   "outputs": [],
   "source": [
    "result = semiparametricRegression(Y, X)"
   ]
  },
  {
   "cell_type": "code",
   "execution_count": 255,
   "metadata": {},
   "outputs": [
    {
     "data": {
      "text/plain": [
       "     fun: 131.00595584906563\n",
       "     jac: array([ 0.04420471, -0.08887672])\n",
       " message: 'Optimization terminated successfully.'\n",
       "    nfev: 49\n",
       "     nit: 8\n",
       "    njev: 8\n",
       "  status: 0\n",
       " success: True\n",
       "       x: array([4.83411352, 2.40415916])"
      ]
     },
     "execution_count": 255,
     "metadata": {},
     "output_type": "execute_result"
    }
   ],
   "source": [
    "result"
   ]
  },
  {
   "cell_type": "code",
   "execution_count": 245,
   "metadata": {},
   "outputs": [
    {
     "data": {
      "text/plain": [
       "0.3206649151772749"
      ]
     },
     "execution_count": 245,
     "metadata": {},
     "output_type": "execute_result"
    },
    {
     "data": {
      "image/png": "[encoded data removed]",
      "text/plain": [
       "<matplotlib.figure.Figure at 0x7f6c7d00ab70>"
      ]
     },
     "metadata": {},
     "output_type": "display_data"
    }
   ],
   "source": [
    "# Marginal effect scratch\n",
    "delta = 0.01\n",
    "me_vec = CE_1(Y, v_hat, v_hat + delta, 1/5) - CE_1(Y, v_hat, v_hat, 1/5)\n",
    "plt.hist(me_vec)\n",
    "np.mean(me_vec/delta)"
   ]
  },
  {
   "cell_type": "markdown",
   "metadata": {},
   "source": [
    "# Actual Data"
   ]
  },
  {
   "cell_type": "code",
   "execution_count": 114,
   "metadata": {},
   "outputs": [],
   "source": [
    "import pandas as pd"
   ]
  },
  {
   "cell_type": "code",
   "execution_count": 115,
   "metadata": {},
   "outputs": [],
   "source": [
    "data_dmd = pd.read_csv(    '../data/processed/regression_data_levels_demeaned.csv')"
   ]
  },
  {
   "cell_type": "code",
   "execution_count": 195,
   "metadata": {},
   "outputs": [],
   "source": [
    "# All\n",
    "data_dmd_mat = np.matrix(data_dmd[['MktShare', 'PrImp_ExpAmt', 'PrImp_AvgT']])\n",
    "Y = data_dmd_mat[:,0]\n",
    "X = data_dmd_mat[:,1:]"
   ]
  },
  {
   "cell_type": "code",
   "execution_count": 196,
   "metadata": {},
   "outputs": [
    {
     "data": {
      "text/plain": [
       "      fun: 20.906169148161673\n",
       " hess_inv: array([[ 3180133.64785518, -9350943.64737649],\n",
       "       [-9350943.64737649, 27495755.68591442]])\n",
       "      jac: array([6.19888306e-06, 1.90734863e-06])\n",
       "  message: 'Optimization terminated successfully.'\n",
       "     nfev: 92\n",
       "      nit: 18\n",
       "     njev: 23\n",
       "   status: 0\n",
       "  success: True\n",
       "        x: array([-106.06022496,  321.70285919])"
      ]
     },
     "execution_count": 196,
     "metadata": {},
     "output_type": "execute_result"
    }
   ],
   "source": [
    "obj_f = lambda x_0: -SLS_1(x_0, Y, X, trim(X, 0.99))\n",
    "result = minimize(obj_f, [3,1], method='BFGS')\n",
    "result"
   ]
  },
  {
   "cell_type": "code",
   "execution_count": 182,
   "metadata": {},
   "outputs": [],
   "source": [
    "# Rebate accepting\n",
    "data_dmd_rebate_mat = np.matrix(data_dmd.query('Rebate_Dummy == 1')[['MktShare', 'PrImp_ExpAmt', 'PrImp_AvgT']])\n",
    "Y = data_dmd_rebate_mat[:,0]\n",
    "X = data_dmd_rebate_mat[:,1:]"
   ]
  },
  {
   "cell_type": "code",
   "execution_count": 193,
   "metadata": {},
   "outputs": [
    {
     "data": {
      "text/plain": [
       "      fun: 1.592015117428438\n",
       " hess_inv: array([[ 1.78087223, -1.61035473],\n",
       "       [-1.61035473,  4.17094113]])\n",
       "      jac: array([-1.49011612e-08, -2.98023224e-08])\n",
       "  message: 'Optimization terminated successfully.'\n",
       "     nfev: 64\n",
       "      nit: 3\n",
       "     njev: 16\n",
       "   status: 0\n",
       "  success: True\n",
       "        x: array([2.84147629, 0.14627105])"
      ]
     },
     "execution_count": 193,
     "metadata": {},
     "output_type": "execute_result"
    }
   ],
   "source": [
    "obj_f = lambda x_0: -SLS_1(x_0, Y, X, trim(X, 0.99))\n",
    "result = minimize(obj_f, [2.5, 1], method='BFGS')\n",
    "result"
   ]
  },
  {
   "cell_type": "code",
   "execution_count": 199,
   "metadata": {},
   "outputs": [],
   "source": [
    "# Unpaid\n",
    "data_dmd_rebate_mat = np.matrix(data_dmd.query('Rebate_Dummy == 0')[['MktShare', 'PrImp_ExpAmt', 'PrImp_AvgT']])\n",
    "Y = data_dmd_rebate_mat[:,0]\n",
    "X = data_dmd_rebate_mat[:,1:]"
   ]
  },
  {
   "cell_type": "code",
   "execution_count": 200,
   "metadata": {},
   "outputs": [
    {
     "data": {
      "text/plain": [
       "      fun: 19.049982379437697\n",
       " hess_inv: array([[ 1.98560833e+07, -4.85987656e+07],\n",
       "       [-4.85987656e+07,  1.18947937e+08]])\n",
       "      jac: array([1.26361847e-05, 5.48362732e-06])\n",
       "  message: 'Desired error not necessarily achieved due to precision loss.'\n",
       "     nfev: 376\n",
       "      nit: 18\n",
       "     njev: 91\n",
       "   status: 2\n",
       "  success: False\n",
       "        x: array([-84.22797439, 213.29358613])"
      ]
     },
     "execution_count": 200,
     "metadata": {},
     "output_type": "execute_result"
    }
   ],
   "source": [
    "obj_f = lambda x_0: -SLS_1(x_0, Y, X, trim(X, 0.99))\n",
    "result = minimize(obj_f, [2.5, 1], method='BFGS')\n",
    "result"
   ]
  },
  {
   "cell_type": "code",
   "execution_count": null,
   "metadata": {},
   "outputs": [],
   "source": []
  }
 ],
 "metadata": {
  "kernelspec": {
   "display_name": "Python 3",
   "language": "python",
   "name": "python3"
  },
  "language_info": {
   "codemirror_mode": {
    "name": "ipython",
    "version": 3
   },
   "file_extension": ".py",
   "mimetype": "text/x-python",
   "name": "python",
   "nbconvert_exporter": "python",
   "pygments_lexer": "ipython3",
   "version": "3.5.2"
  },
  "toc": {
   "nav_menu": {},
   "number_sections": false,
   "sideBar": true,
   "skip_h1_title": false,
   "toc_cell": false,
   "toc_position": {},
   "toc_section_display": "block",
   "toc_window_display": true
  },
  "varInspector": {
   "cols": {
    "lenName": 16,
    "lenType": 16,
    "lenVar": 40
   },
   "kernels_config": {
    "python": {
     "delete_cmd_postfix": "",
     "delete_cmd_prefix": "del ",
     "library": "var_list.py",
     "varRefreshCmd": "print(var_dic_list())"
    },
    "r": {
     "delete_cmd_postfix": ") ",
     "delete_cmd_prefix": "rm(",
     "library": "var_list.r",
     "varRefreshCmd": "cat(var_dic_list()) "
    }
   },
   "types_to_exclude": [
    "module",
    "function",
    "builtin_function_or_method",
    "instance",
    "_Feature"
   ],
   "window_display": false
  }
 },
 "nbformat": 4,
 "nbformat_minor": 2
}
