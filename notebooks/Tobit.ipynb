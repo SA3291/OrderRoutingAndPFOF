{
 "cells": [
  {
   "cell_type": "code",
   "execution_count": 9,
   "metadata": {
    "ExecuteTime": {
     "end_time": "2018-02-18T23:20:57.312811Z",
     "start_time": "2018-02-18T23:20:57.307801Z"
    }
   },
   "outputs": [],
   "source": [
    "import numpy as np\n",
    "import matplotlib.pyplot as plt\n",
    "from scipy.optimize import minimize\n",
    "\n",
    "%matplotlib inline"
   ]
  },
  {
   "cell_type": "markdown",
   "metadata": {},
   "source": [
    "# Simulation"
   ]
  },
  {
   "cell_type": "code",
   "execution_count": 71,
   "metadata": {
    "ExecuteTime": {
     "end_time": "2018-02-18T23:20:57.477422Z",
     "start_time": "2018-02-18T23:20:57.468206Z"
    }
   },
   "outputs": [],
   "source": [
    "# Params\n",
    "n = 1000\n",
    "f_true = lambda X: 2*X[:,0] + X[:,1] #np.square((X[:,0] + X[:,1]))*2/12.901058\n",
    "\n",
    "# Generate Data\n",
    "X = np.matrix(np.random.randn(2*n, 2))\n",
    "\n",
    "# Remove outliers\n",
    "ind_not_outlier = np.array(np.multiply((abs(X) < 3)[:,0], (abs(X) < 3)[:,1]).T)[0]\n",
    "X = X[ind_not_outlier, :][0:n, :]\n",
    "\n",
    "# square elements of X\n",
    "X = np.power(X, 2)\n",
    "Y = f_true(X) + np.random.randn(n, 1)/1000"
   ]
  },
  {
   "cell_type": "code",
   "execution_count": 372,
   "metadata": {
    "ExecuteTime": {
     "end_time": "2018-02-18T23:20:57.684847Z",
     "start_time": "2018-02-18T23:20:57.619016Z"
    }
   },
   "outputs": [],
   "source": [
    "def trim(X, percent):\n",
    "    \n",
    "    alpha = (1 - percent)/2\n",
    "    n, k = np.shape(X)\n",
    "    t_ind = np.zeros((n, k))\n",
    "    \n",
    "    for i in range(0, k):\n",
    "        upper_bd = np.percentile(X[:,i], (1 - alpha)*100)\n",
    "        lower_bd = np.percentile(X[:,i], (alpha)*100)\n",
    "        t_ind[:, i] = [int(lower_bd < x < upper_bd) for x in X[:,i]]\n",
    "        \n",
    "    return np.prod(t_ind, axis = 1)\n",
    "\n",
    "def pdfn(x):\n",
    "    return np.exp(-np.multiply(x, x)/2)/np.sqrt(2*np.pi)\n",
    "\n",
    "# Conditional Expecttation\n",
    "def CE_1(Y, X, arg, r):\n",
    "    \n",
    "    n_arg = np.shape(arg)[0]\n",
    "    n = np.shape(X)[0]\n",
    "    h = (n**(-r)) * np.std(X, axis = 0, ddof = 1)\n",
    "    e = np.zeros((n_arg, 1))\n",
    "    \n",
    "    for j in range(0, n_arg):\n",
    "        k = np.divide(pdfn(np.divide((arg[j] - X), h)), h)\n",
    "        k = np.prod(k, axis = 1)   \n",
    "        e[j] = (Y.T*k/n)/np.mean(k)\n",
    "        \n",
    "    return e\n",
    "\n",
    "def SLS_1(b, Y, X, X_ind):\n",
    "    \n",
    "    v = X * np.matrix(b).T\n",
    "    EY = CE_1(Y, v, v, 1/5)\n",
    "    residual = np.power((Y - EY), 2)\n",
    "    \n",
    "    return (-0.5 * np.matrix(X_ind)*residual)\n",
    "\n",
    "\n",
    "def semiparametricRegression(Y, X):\n",
    "    \n",
    "    guess = np.random.random((1, np.shape(X)[1]))\n",
    "    obj_f = lambda x_0: -SLS_1(x_0, Y, X, trim(X, 0.98))\n",
    "    result = minimize(obj_f, guess, method='BFGS')\n",
    "    return result\n",
    "\n",
    "def convert_hessian_to_cov(Y, X, results):\n",
    "    \n",
    "    sigma_2_hat = np.mean(np.power(Y - X*np.matrix(results.x).T, 2))\n",
    "    return results.hess_inv * sigma_2_hat\n",
    "\n",
    "def compute_marginal_effect(Y, X, ind, point, beta, delta = 0.01):\n",
    "\n",
    "    point_nudge = np.copy(point)\n",
    "    point_nudge[0, ind] = point_nudge[0, ind] + delta\n",
    "    point_nudge = np.matrix(point_nudge)\n",
    "\n",
    "    v_hat = X*beta\n",
    "    v_hat_avg = point*beta\n",
    "    v_hat_avg_nudge = point_nudge*beta\n",
    "    \n",
    "    return np.asscalar(CE_1(Y, v_hat, v_hat_avg_nudge, 1/5) - CE_1(Y, v_hat, v_hat_avg, 1/5))/delta\n",
    "\n",
    "def calculate_me_range(Y, X, result, ind, point, delta = .001, delta_range = [0.0001, 0.01], n_1 = 200, n_2 = 5):\n",
    "\n",
    "    beta = np.matrix(result.x).T\n",
    "    \n",
    "    me_results = np.zeros(shape = (n_1, 2, n_2))\n",
    "    \n",
    "    linspace_1 = np.linspace(0, 0.014, num = n_1)\n",
    "    linspace_2 = np.linspace(delta_range[0], delta_range[1], num = n_2)\n",
    "    \n",
    "    for j in range(0, n_2):\n",
    "\n",
    "        delta = linspace_2[j]\n",
    "        #primp_avgt = np.linspace(0.001, 0.5, num = n_2)[j]\n",
    "\n",
    "        for i in range(0, n_1):\n",
    "  \n",
    "            point_temp = np.copy(point)\n",
    "            point_temp[0, ind] = linspace_1[i]\n",
    "            \n",
    "            me_vec = compute_marginal_effect(Y, X, ind, point_temp, beta, delta = delta)\n",
    "\n",
    "            me_results[i,:,j] = np.array([linspace_1[i], np.asscalar(me_vec)])\n",
    "            \n",
    "    return me_results   \n",
    "\n",
    "def find_tstats(Y, X, results):\n",
    "    \n",
    "    V = convert_hessian_to_cov(Y, X, results)\n",
    "\n",
    "    n = np.shape(results.x)[0]\n",
    "    theta = results.x/results.x[0]\n",
    "    t_stats = np.zeros(shape = (n))\n",
    "    t_stats[0] = np.nan # first t-stat is unknown\n",
    "\n",
    "    for i in range(1, n):\n",
    "        t_stats[i] = theta[i] / np.sqrt(V[i,i])\n",
    "\n",
    "    return t_stats"
   ]
  },
  {
   "cell_type": "code",
   "execution_count": 359,
   "metadata": {},
   "outputs": [
    {
     "data": {
      "text/plain": [
       "array([         nan, -11.29568879])"
      ]
     },
     "execution_count": 359,
     "metadata": {},
     "output_type": "execute_result"
    }
   ],
   "source": [
    "# scratch \n"
   ]
  },
  {
   "cell_type": "code",
   "execution_count": 79,
   "metadata": {
    "ExecuteTime": {
     "end_time": "2018-02-18T23:24:15.409235Z",
     "start_time": "2018-02-18T23:24:00.439677Z"
    }
   },
   "outputs": [
    {
     "data": {
      "text/plain": [
       "     fun: 28.582951365719772\n",
       "     jac: array([ 0.00786161, -0.01561999])\n",
       " message: 'Optimization terminated successfully.'\n",
       "    nfev: 15\n",
       "     nit: 3\n",
       "    njev: 3\n",
       "  status: 0\n",
       " success: True\n",
       "       x: array([2.0024853 , 1.00741808])"
      ]
     },
     "execution_count": 79,
     "metadata": {},
     "output_type": "execute_result"
    }
   ],
   "source": [
    "# simulation\n",
    "obj_f = lambda x_0: -SLS_1(x_0, Y, X, trim(X, 0.98))\n",
    "result = minimize(obj_f, [2,1], method='SLSQP', options={'ftol': 10**-4})\n",
    "result"
   ]
  },
  {
   "cell_type": "code",
   "execution_count": 80,
   "metadata": {},
   "outputs": [
    {
     "name": "stdout",
     "output_type": "stream",
     "text": [
      "Coefficient ratio: 1.988\n"
     ]
    }
   ],
   "source": [
    "# Scratch \n",
    "\n",
    "print('Coefficient ratio: %0.3f' % (result.x[0] / result.x[1]))\n"
   ]
  },
  {
   "cell_type": "code",
   "execution_count": 111,
   "metadata": {},
   "outputs": [
    {
     "name": "stdout",
     "output_type": "stream",
     "text": [
      "Avg ME: 0.00349\n",
      "True ME: 2.00000\n"
     ]
    },
    {
     "data": {
      "image/png": "[encoded data removed]",
      "text/plain": [
       "<matplotlib.figure.Figure at 0x7f192e4bb0b8>"
      ]
     },
     "metadata": {},
     "output_type": "display_data"
    }
   ],
   "source": [
    "# Marginal effect scratch\n",
    "delta = 1.5\n",
    "\n",
    "beta = np.matrix(result.x).T\n",
    "X_new = np.copy(X)\n",
    "X_new[:,0] = np.reshape(X[:,0] + delta, (np.shape(X)[0]))\n",
    "\n",
    "v_hat = X*beta\n",
    "v_hat_new = X_new*beta\n",
    "\n",
    "me_vec = CE_1(Y, v_hat, v_hat_new, 1/5) - CE_1(Y, v_hat, v_hat, 1/5)\n",
    "plt.hist(me_vec)\n",
    "print('Avg ME: %0.5f' % np.mean(me_vec/delta))\n",
    "true_vec = f_true(X_new) - f_true(X)\n",
    "print('True ME: %0.5f' % np.mean(true_vec/delta))"
   ]
  },
  {
   "cell_type": "code",
   "execution_count": 88,
   "metadata": {},
   "outputs": [
    {
     "data": {
      "text/plain": [
       "[[0.01, 1.543078629725439],\n",
       " [1.12, 1.8384759830457036],\n",
       " [2.23, 1.926108612940292],\n",
       " [3.34, 1.9432778813556868],\n",
       " [4.45, 1.9396269141751956],\n",
       " [5.5600000000000005, 1.9573313290767087],\n",
       " [6.67, 1.9272311375604914],\n",
       " [7.78, 1.8820416818762582],\n",
       " [8.89, 1.8698772799941619],\n",
       " [10.0, 1.716800010453149]]"
      ]
     },
     "execution_count": 88,
     "metadata": {},
     "output_type": "execute_result"
    }
   ],
   "source": [
    "me_results = []\n",
    "\n",
    "for delta in np.linspace(0.01, 10, num = 10):\n",
    "    \n",
    "    beta = np.matrix(result.x).T\n",
    "    X_new = np.copy(X)\n",
    "    X_new[:,0] = np.reshape(X[:,0] + delta, (np.shape(X)[0]))\n",
    "\n",
    "    v_hat = X*beta\n",
    "    v_hat_new = X_new*beta\n",
    "\n",
    "    me_vec = CE_1(Y, v_hat, v_hat_new, 1/5) - CE_1(Y, v_hat, v_hat, 1/5)\n",
    "    me_results.append([delta, np.mean(me_vec/delta)])\n",
    "    \n",
    "me_results   "
   ]
  },
  {
   "cell_type": "code",
   "execution_count": 295,
   "metadata": {},
   "outputs": [],
   "source": []
  },
  {
   "cell_type": "markdown",
   "metadata": {},
   "source": [
    "# Actual Data"
   ]
  },
  {
   "cell_type": "code",
   "execution_count": 123,
   "metadata": {},
   "outputs": [],
   "source": [
    "import pandas as pd"
   ]
  },
  {
   "cell_type": "code",
   "execution_count": 197,
   "metadata": {},
   "outputs": [
    {
     "data": {
      "text/plain": [
       "(1611, 50)"
      ]
     },
     "execution_count": 197,
     "metadata": {},
     "output_type": "execute_result"
    }
   ],
   "source": [
    "n = 1200 # sample size\n",
    "data_dmd = pd.read_csv('../data/processed/regression_data_levels_demeaned.csv').query('OrderType == \"Market\"').dropna()#.sample(n = n)\n",
    "data_dmd.shape"
   ]
  },
  {
   "cell_type": "code",
   "execution_count": 198,
   "metadata": {},
   "outputs": [
    {
     "data": {
      "text/html": [
       "<div>\n",
       "<style scoped>\n",
       "    .dataframe tbody tr th:only-of-type {\n",
       "        vertical-align: middle;\n",
       "    }\n",
       "\n",
       "    .dataframe tbody tr th {\n",
       "        vertical-align: top;\n",
       "    }\n",
       "\n",
       "    .dataframe thead th {\n",
       "        text-align: right;\n",
       "    }\n",
       "</style>\n",
       "<table border=\"1\" class=\"dataframe\">\n",
       "  <thead>\n",
       "    <tr style=\"text-align: right;\">\n",
       "      <th></th>\n",
       "      <th>MarketCenter</th>\n",
       "      <th>Quarter</th>\n",
       "      <th>Exchange</th>\n",
       "      <th>OrderCode</th>\n",
       "      <th>CoveredOrders</th>\n",
       "      <th>CoveredShares</th>\n",
       "      <th>CancelledShares</th>\n",
       "      <th>MktCtrExecShares</th>\n",
       "      <th>AwayExecShares</th>\n",
       "      <th>ExecShares_0_9</th>\n",
       "      <th>...</th>\n",
       "      <th>Rel_PrImp_AvgT</th>\n",
       "      <th>MktCtrAvg_PrImp_ExpAmt</th>\n",
       "      <th>Rel_PrImp_ExpAmt</th>\n",
       "      <th>MktCtrAvg_All_AvgT</th>\n",
       "      <th>Rel_All_AvgT</th>\n",
       "      <th>Broker</th>\n",
       "      <th>MktShare</th>\n",
       "      <th>Rebate</th>\n",
       "      <th>Rebate_Dummy</th>\n",
       "      <th>Broker_Size</th>\n",
       "    </tr>\n",
       "  </thead>\n",
       "  <tbody>\n",
       "    <tr>\n",
       "      <th>0</th>\n",
       "      <td>ARCA</td>\n",
       "      <td>2015Q3</td>\n",
       "      <td>NASDAQ</td>\n",
       "      <td>11</td>\n",
       "      <td>167917</td>\n",
       "      <td>72636881</td>\n",
       "      <td>10384868</td>\n",
       "      <td>40788074</td>\n",
       "      <td>21463939</td>\n",
       "      <td>62072012</td>\n",
       "      <td>...</td>\n",
       "      <td>0.636061</td>\n",
       "      <td>0.010542</td>\n",
       "      <td>0.009003</td>\n",
       "      <td>0.474635</td>\n",
       "      <td>0.196964</td>\n",
       "      <td>Barclays Capital</td>\n",
       "      <td>0.0000</td>\n",
       "      <td>1.0</td>\n",
       "      <td>1</td>\n",
       "      <td>2.395827e+10</td>\n",
       "    </tr>\n",
       "    <tr>\n",
       "      <th>1</th>\n",
       "      <td>ARCA</td>\n",
       "      <td>2015Q3</td>\n",
       "      <td>NASDAQ</td>\n",
       "      <td>11</td>\n",
       "      <td>167917</td>\n",
       "      <td>72636881</td>\n",
       "      <td>10384868</td>\n",
       "      <td>40788074</td>\n",
       "      <td>21463939</td>\n",
       "      <td>62072012</td>\n",
       "      <td>...</td>\n",
       "      <td>0.636061</td>\n",
       "      <td>0.010542</td>\n",
       "      <td>0.009003</td>\n",
       "      <td>0.474635</td>\n",
       "      <td>0.196964</td>\n",
       "      <td>Cowen Execution</td>\n",
       "      <td>0.0000</td>\n",
       "      <td>0.0</td>\n",
       "      <td>0</td>\n",
       "      <td>5.018710e+07</td>\n",
       "    </tr>\n",
       "    <tr>\n",
       "      <th>2</th>\n",
       "      <td>ARCA</td>\n",
       "      <td>2015Q3</td>\n",
       "      <td>NASDAQ</td>\n",
       "      <td>11</td>\n",
       "      <td>167917</td>\n",
       "      <td>72636881</td>\n",
       "      <td>10384868</td>\n",
       "      <td>40788074</td>\n",
       "      <td>21463939</td>\n",
       "      <td>62072012</td>\n",
       "      <td>...</td>\n",
       "      <td>0.636061</td>\n",
       "      <td>0.010542</td>\n",
       "      <td>0.009003</td>\n",
       "      <td>0.474635</td>\n",
       "      <td>0.196964</td>\n",
       "      <td>Credit Suisse</td>\n",
       "      <td>0.0000</td>\n",
       "      <td>1.0</td>\n",
       "      <td>1</td>\n",
       "      <td>3.266721e+10</td>\n",
       "    </tr>\n",
       "    <tr>\n",
       "      <th>3</th>\n",
       "      <td>ARCA</td>\n",
       "      <td>2015Q3</td>\n",
       "      <td>NASDAQ</td>\n",
       "      <td>11</td>\n",
       "      <td>167917</td>\n",
       "      <td>72636881</td>\n",
       "      <td>10384868</td>\n",
       "      <td>40788074</td>\n",
       "      <td>21463939</td>\n",
       "      <td>62072012</td>\n",
       "      <td>...</td>\n",
       "      <td>0.636061</td>\n",
       "      <td>0.010542</td>\n",
       "      <td>0.009003</td>\n",
       "      <td>0.474635</td>\n",
       "      <td>0.196964</td>\n",
       "      <td>Deutsche</td>\n",
       "      <td>0.0151</td>\n",
       "      <td>1.0</td>\n",
       "      <td>1</td>\n",
       "      <td>2.045009e+10</td>\n",
       "    </tr>\n",
       "    <tr>\n",
       "      <th>20</th>\n",
       "      <td>ARCA</td>\n",
       "      <td>2015Q3</td>\n",
       "      <td>NYSE</td>\n",
       "      <td>11</td>\n",
       "      <td>332290</td>\n",
       "      <td>93147866</td>\n",
       "      <td>8771479</td>\n",
       "      <td>52918769</td>\n",
       "      <td>31457618</td>\n",
       "      <td>84371992</td>\n",
       "      <td>...</td>\n",
       "      <td>-0.279227</td>\n",
       "      <td>0.006620</td>\n",
       "      <td>0.004540</td>\n",
       "      <td>0.372442</td>\n",
       "      <td>-0.369889</td>\n",
       "      <td>Barclays Capital</td>\n",
       "      <td>0.0000</td>\n",
       "      <td>1.0</td>\n",
       "      <td>1</td>\n",
       "      <td>2.395827e+10</td>\n",
       "    </tr>\n",
       "  </tbody>\n",
       "</table>\n",
       "<p>5 rows × 50 columns</p>\n",
       "</div>"
      ],
      "text/plain": [
       "   MarketCenter Quarter Exchange  OrderCode  CoveredOrders  CoveredShares  \\\n",
       "0          ARCA  2015Q3   NASDAQ         11         167917       72636881   \n",
       "1          ARCA  2015Q3   NASDAQ         11         167917       72636881   \n",
       "2          ARCA  2015Q3   NASDAQ         11         167917       72636881   \n",
       "3          ARCA  2015Q3   NASDAQ         11         167917       72636881   \n",
       "20         ARCA  2015Q3     NYSE         11         332290       93147866   \n",
       "\n",
       "    CancelledShares  MktCtrExecShares  AwayExecShares  ExecShares_0_9  \\\n",
       "0          10384868          40788074        21463939        62072012   \n",
       "1          10384868          40788074        21463939        62072012   \n",
       "2          10384868          40788074        21463939        62072012   \n",
       "3          10384868          40788074        21463939        62072012   \n",
       "20          8771479          52918769        31457618        84371992   \n",
       "\n",
       "        ...       Rel_PrImp_AvgT  MktCtrAvg_PrImp_ExpAmt  Rel_PrImp_ExpAmt  \\\n",
       "0       ...             0.636061                0.010542          0.009003   \n",
       "1       ...             0.636061                0.010542          0.009003   \n",
       "2       ...             0.636061                0.010542          0.009003   \n",
       "3       ...             0.636061                0.010542          0.009003   \n",
       "20      ...            -0.279227                0.006620          0.004540   \n",
       "\n",
       "    MktCtrAvg_All_AvgT  Rel_All_AvgT            Broker  MktShare  Rebate  \\\n",
       "0             0.474635      0.196964  Barclays Capital    0.0000     1.0   \n",
       "1             0.474635      0.196964   Cowen Execution    0.0000     0.0   \n",
       "2             0.474635      0.196964     Credit Suisse    0.0000     1.0   \n",
       "3             0.474635      0.196964          Deutsche    0.0151     1.0   \n",
       "20            0.372442     -0.369889  Barclays Capital    0.0000     1.0   \n",
       "\n",
       "    Rebate_Dummy   Broker_Size  \n",
       "0              1  2.395827e+10  \n",
       "1              0  5.018710e+07  \n",
       "2              1  3.266721e+10  \n",
       "3              1  2.045009e+10  \n",
       "20             1  2.395827e+10  \n",
       "\n",
       "[5 rows x 50 columns]"
      ]
     },
     "execution_count": 198,
     "metadata": {},
     "output_type": "execute_result"
    }
   ],
   "source": [
    "data_dmd.head()"
   ]
  },
  {
   "cell_type": "markdown",
   "metadata": {},
   "source": [
    "### All"
   ]
  },
  {
   "cell_type": "code",
   "execution_count": 373,
   "metadata": {},
   "outputs": [],
   "source": [
    "data_dmd_mat = np.matrix(data_dmd[['MktShare', 'PrImp_ExpAmt', 'All_AvgT']])\n",
    "Y = data_dmd_mat[:,0]\n",
    "X = data_dmd_mat[:,1:]\n",
    "guess = [1, -0.00832]"
   ]
  },
  {
   "cell_type": "code",
   "execution_count": 374,
   "metadata": {},
   "outputs": [
    {
     "data": {
      "text/plain": [
       "      fun: 34.80456331769235\n",
       " hess_inv: array([[ 9.14308667e-01, -3.52484552e-04],\n",
       "       [-3.52484552e-04,  1.27692012e-05]])\n",
       "      jac: array([4.76837158e-07, 4.76837158e-07])\n",
       "  message: 'Optimization terminated successfully.'\n",
       "     nfev: 56\n",
       "      nit: 6\n",
       "     njev: 14\n",
       "   status: 0\n",
       "  success: True\n",
       "        x: array([ 1.0087221e+00, -2.2682397e-04])"
      ]
     },
     "execution_count": 374,
     "metadata": {},
     "output_type": "execute_result"
    }
   ],
   "source": [
    "obj_f = lambda x_0: -SLS_1(x_0, Y, X, trim(X, 0.98))\n",
    "result = minimize(obj_f, guess, method='BFGS', options = {'gtol': 1e-05})\n",
    "tstats_all = find_tstats(Y, X, result)\n",
    "result_all = result\n",
    "result"
   ]
  },
  {
   "cell_type": "markdown",
   "metadata": {},
   "source": [
    "### Rebate accepting"
   ]
  },
  {
   "cell_type": "code",
   "execution_count": 375,
   "metadata": {},
   "outputs": [],
   "source": [
    "data_dmd_rebate_mat = np.matrix(data_dmd.query('Rebate_Dummy == 1')[['MktShare', 'PrImp_ExpAmt', 'PrImp_AvgT']])\n",
    "Y = data_dmd_rebate_mat[:,0]\n",
    "X = data_dmd_rebate_mat[:,1:]"
   ]
  },
  {
   "cell_type": "code",
   "execution_count": 376,
   "metadata": {},
   "outputs": [
    {
     "data": {
      "text/plain": [
       "      fun: 1.7291273604032842\n",
       " hess_inv: array([[ 9.65696052e-01, -1.23278828e-02],\n",
       "       [-1.23278828e-02,  7.06990412e-04]])\n",
       "      jac: array([-1.78813934e-07,  1.28149986e-06])\n",
       "  message: 'Optimization terminated successfully.'\n",
       "     nfev: 44\n",
       "      nit: 5\n",
       "     njev: 11\n",
       "   status: 0\n",
       "  success: True\n",
       "        x: array([ 0.99596651, -0.01600973])"
      ]
     },
     "execution_count": 376,
     "metadata": {},
     "output_type": "execute_result"
    }
   ],
   "source": [
    "obj_f = lambda x_0: -SLS_1(x_0, Y, X, trim(X, 0.98))\n",
    "result = minimize(obj_f, guess, method='BFGS')\n",
    "tstats_paid = find_tstats(Y, X, result)\n",
    "result_paid = result\n",
    "result"
   ]
  },
  {
   "cell_type": "markdown",
   "metadata": {},
   "source": [
    "### Unpaid"
   ]
  },
  {
   "cell_type": "code",
   "execution_count": 377,
   "metadata": {},
   "outputs": [],
   "source": [
    "data_dmd_rebate_mat = np.matrix(data_dmd.query('Rebate_Dummy == 0')[['MktShare', 'PrImp_ExpAmt', 'PrImp_AvgT']])\n",
    "Y = data_dmd_rebate_mat[:,0]\n",
    "X = data_dmd_rebate_mat[:,1:]"
   ]
  },
  {
   "cell_type": "code",
   "execution_count": 378,
   "metadata": {},
   "outputs": [
    {
     "data": {
      "text/plain": [
       "      fun: 29.435237012198883\n",
       " hess_inv: array([[7.46634720e-01, 1.06780919e-02],\n",
       "       [1.06780919e-02, 4.13900957e-04]])\n",
       "      jac: array([0.00000000e+00, 4.76837158e-07])\n",
       "  message: 'Optimization terminated successfully.'\n",
       "     nfev: 44\n",
       "      nit: 6\n",
       "     njev: 11\n",
       "   status: 0\n",
       "  success: True\n",
       "        x: array([1.04195505, 0.0178853 ])"
      ]
     },
     "execution_count": 378,
     "metadata": {},
     "output_type": "execute_result"
    }
   ],
   "source": [
    "obj_f = lambda x_0: -SLS_1(x_0, Y, X, trim(X, 0.98))\n",
    "result = minimize(obj_f, guess, method='BFGS')\n",
    "tstats_unpaid = find_tstats(Y, X, result)\n",
    "result_unpaid = result\n",
    "result"
   ]
  },
  {
   "cell_type": "markdown",
   "metadata": {},
   "source": [
    "## Significance"
   ]
  },
  {
   "cell_type": "code",
   "execution_count": 379,
   "metadata": {},
   "outputs": [
    {
     "data": {
      "text/plain": [
       "'T-Stats (All)'"
      ]
     },
     "metadata": {},
     "output_type": "display_data"
    },
    {
     "data": {
      "text/plain": [
       "array([        nan, -0.20954218])"
      ]
     },
     "metadata": {},
     "output_type": "display_data"
    },
    {
     "data": {
      "text/plain": [
       "'T-Stats (Paid)'"
      ]
     },
     "metadata": {},
     "output_type": "display_data"
    },
    {
     "data": {
      "text/plain": [
       "array([        nan, -4.51375588])"
      ]
     },
     "metadata": {},
     "output_type": "display_data"
    },
    {
     "data": {
      "text/plain": [
       "'T-Stats (Unpaid)'"
      ]
     },
     "metadata": {},
     "output_type": "display_data"
    },
    {
     "data": {
      "text/plain": [
       "array([       nan, 2.50617519])"
      ]
     },
     "metadata": {},
     "output_type": "display_data"
    }
   ],
   "source": [
    "display('T-Stats (All)', tstats_all)\n",
    "display('T-Stats (Paid)', tstats_paid)\n",
    "display('T-Stats (Unpaid)', tstats_unpaid)"
   ]
  },
  {
   "cell_type": "markdown",
   "metadata": {},
   "source": [
    "## Marginal Effects"
   ]
  },
  {
   "cell_type": "code",
   "execution_count": 380,
   "metadata": {},
   "outputs": [
    {
     "data": {
      "image/png": "[encoded data removed]",
      "text/plain": [
       "<matplotlib.figure.Figure at 0x7fa3c20a5fd0>"
      ]
     },
     "metadata": {},
     "output_type": "display_data"
    }
   ],
   "source": [
    "# All\n",
    "result = result_all\n",
    "point = np.matrix(np.mean(X, axis = 0))\n",
    "me_results = calculate_me_range(Y, X, result, ind, point, delta = .001, n_1 = 300, n_2 = 3, delta_range = [0.001, 0.01])\n",
    "plt.plot(me_results[:,0],me_results[:,1]);"
   ]
  },
  {
   "cell_type": "code",
   "execution_count": 381,
   "metadata": {},
   "outputs": [
    {
     "data": {
      "image/png": "[encoded data removed]",
      "text/plain": [
       "<matplotlib.figure.Figure at 0x7fa3c1f5b3c8>"
      ]
     },
     "metadata": {},
     "output_type": "display_data"
    }
   ],
   "source": [
    "# Paid\n",
    "result = result_paid\n",
    "me_results = calculate_me_range(Y, X, result, ind, point, delta = .001, n_1 = 300, n_2 = 3, delta_range = [0.001, 0.01])\n",
    "plt.plot(me_results[:,0],me_results[:,1]);"
   ]
  },
  {
   "cell_type": "code",
   "execution_count": 382,
   "metadata": {},
   "outputs": [
    {
     "data": {
      "image/png": "[encoded data removed]",
      "text/plain": [
       "<matplotlib.figure.Figure at 0x7fa3c1f42588>"
      ]
     },
     "metadata": {},
     "output_type": "display_data"
    }
   ],
   "source": [
    "# Unpaid\n",
    "result = result_unpaid\n",
    "me_results = calculate_me_range(Y, X, result, ind, point, delta = .001, n_1 = 300, n_2 = 3, delta_range = [0.001, 0.01])\n",
    "plt.plot(me_results[:,0],me_results[:,1]);"
   ]
  },
  {
   "cell_type": "code",
   "execution_count": 390,
   "metadata": {},
   "outputs": [
    {
     "data": {
      "text/plain": [
       "matrix([[0.00628814, 0.08655341]])"
      ]
     },
     "metadata": {},
     "output_type": "display_data"
    }
   ],
   "source": [
    "point = np.mean(np.matrix(data_dmd[['PrImp_ExpAmt', 'PrImp_AvgT']]), axis = 0)\n",
    "display(point)\n",
    "\n",
    "data_dmd_rebate_mat = np.matrix(data_dmd.query('Rebate_Dummy == 0')[['MktShare', 'PrImp_ExpAmt', 'PrImp_AvgT']])\n",
    "Y = data_dmd_rebate_mat[:,0]\n",
    "X = data_dmd_rebate_mat[:,1:]\n",
    "me_results_unpaid = calculate_me_range(Y, X, result_unpaid, ind, point, delta = .001, n_1 = 300, n_2 = 2, delta_range = [0.01, 0.001])\n",
    "\n",
    "data_dmd_rebate_mat = np.matrix(data_dmd.query('Rebate_Dummy == 1')[['MktShare', 'PrImp_ExpAmt', 'PrImp_AvgT']])\n",
    "Y = data_dmd_rebate_mat[:,0]\n",
    "X = data_dmd_rebate_mat[:,1:]\n",
    "me_results_paid   = calculate_me_range(Y, X, result_paid,   ind, point, delta = .001, n_1 = 300, n_2 = 2, delta_range = [0.01, 0.001])"
   ]
  },
  {
   "cell_type": "code",
   "execution_count": 391,
   "metadata": {},
   "outputs": [
    {
     "data": {
      "text/plain": [
       "[<matplotlib.lines.Line2D at 0x7fa3c1c282e8>]"
      ]
     },
     "execution_count": 391,
     "metadata": {},
     "output_type": "execute_result"
    },
    {
     "data": {
      "image/png": "[encoded data removed]",
      "text/plain": [
       "<matplotlib.figure.Figure at 0x7fa3c1f01e10>"
      ]
     },
     "metadata": {},
     "output_type": "display_data"
    }
   ],
   "source": [
    "ind_3 = 0\n",
    "plt.plot(me_results_paid[:,0,ind_3], me_results_unpaid[:,1,ind_3] - me_results_paid[:,1,ind_3])"
   ]
  },
  {
   "cell_type": "code",
   "execution_count": 273,
   "metadata": {},
   "outputs": [
    {
     "data": {
      "text/plain": [
       "-0.06137082926080901"
      ]
     },
     "metadata": {},
     "output_type": "display_data"
    },
    {
     "data": {
      "text/plain": [
       "0.004517107899195072"
      ]
     },
     "metadata": {},
     "output_type": "display_data"
    },
    {
     "data": {
      "text/plain": [
       "0.011406665156122264"
      ]
     },
     "metadata": {},
     "output_type": "display_data"
    }
   ],
   "source": [
    "# At CDRG's stats\n",
    "CDRG_X = [0.01077, .161658]\n",
    "\n",
    "display(compute_marginal_effect(Y, X, 0, np.matrix(CDRG_X), np.matrix(result_all.x).T,    delta = 0.001)*0.001)\n",
    "display(compute_marginal_effect(Y, X, 0, np.matrix(CDRG_X), np.matrix(result_paid.x).T,   delta = 0.001)*0.001)\n",
    "display(compute_marginal_effect(Y, X, 0, np.matrix(CDRG_X), np.matrix(result_unpaid.x).T, delta = 0.001)*0.001)"
   ]
  },
  {
   "cell_type": "markdown",
   "metadata": {},
   "source": [
    "# Significance"
   ]
  },
  {
   "cell_type": "code",
   "execution_count": null,
   "metadata": {},
   "outputs": [],
   "source": [
    "V = convert_hessian_to_cov(Y, X, result)\n",
    "\n",
    "t_stat = (result.x[1]/result.x[0]) / V[1,1]\n",
    "display('Theta_1 T_Stat: %0.5f' % t_stat)"
   ]
  },
  {
   "cell_type": "markdown",
   "metadata": {},
   "source": [
    "# Scratch"
   ]
  },
  {
   "cell_type": "code",
   "execution_count": 344,
   "metadata": {},
   "outputs": [],
   "source": [
    "data_dmd_rebate_mat = np.matrix(data_dmd.query('Rebate_Dummy != 0')[['MktShare', 'PrImp_ExpAmt', 'PrImp_AvgT']])\n",
    "Y = data_dmd_rebate_mat[:,0]\n",
    "X = data_dmd_rebate_mat[:,1:]"
   ]
  },
  {
   "cell_type": "code",
   "execution_count": 345,
   "metadata": {},
   "outputs": [
    {
     "data": {
      "text/plain": [
       "      fun: 5.298272978053775\n",
       " hess_inv: array([[ 3.12509408e+01, -3.11660929e-01],\n",
       "       [-3.11660929e-01,  1.34274422e-02]])\n",
       "      jac: array([5.96046448e-08, 5.96046448e-08])\n",
       "  message: 'Optimization terminated successfully.'\n",
       "     nfev: 36\n",
       "      nit: 7\n",
       "     njev: 9\n",
       "   status: 0\n",
       "  success: True\n",
       "        x: array([10.55627117, -0.02126072])"
      ]
     },
     "execution_count": 345,
     "metadata": {},
     "output_type": "execute_result"
    }
   ],
   "source": [
    "obj_f = lambda beta: np.sum(np.power(Y - X*np.matrix(beta).T, 2))\n",
    "result = minimize(obj_f, [1,2], method='BFGS')\n",
    "result"
   ]
  },
  {
   "cell_type": "code",
   "execution_count": 346,
   "metadata": {},
   "outputs": [
    {
     "data": {
      "image/png": "[encoded data removed]",
      "text/plain": [
       "<matplotlib.figure.Figure at 0x7fa3c1f882e8>"
      ]
     },
     "metadata": {},
     "output_type": "display_data"
    }
   ],
   "source": [
    "plt.hist(Y - X*np.matrix(result.x).T, bins = 30);"
   ]
  },
  {
   "cell_type": "code",
   "execution_count": null,
   "metadata": {},
   "outputs": [],
   "source": []
  }
 ],
 "metadata": {
  "kernelspec": {
   "display_name": "Python 3",
   "language": "python",
   "name": "python3"
  },
  "language_info": {
   "codemirror_mode": {
    "name": "ipython",
    "version": 3
   },
   "file_extension": ".py",
   "mimetype": "text/x-python",
   "name": "python",
   "nbconvert_exporter": "python",
   "pygments_lexer": "ipython3",
   "version": "3.5.2"
  },
  "toc": {
   "nav_menu": {},
   "number_sections": false,
   "sideBar": true,
   "skip_h1_title": false,
   "toc_cell": false,
   "toc_position": {},
   "toc_section_display": "block",
   "toc_window_display": true
  },
  "varInspector": {
   "cols": {
    "lenName": 16,
    "lenType": 16,
    "lenVar": 40
   },
   "kernels_config": {
    "python": {
     "delete_cmd_postfix": "",
     "delete_cmd_prefix": "del ",
     "library": "var_list.py",
     "varRefreshCmd": "print(var_dic_list())"
    },
    "r": {
     "delete_cmd_postfix": ") ",
     "delete_cmd_prefix": "rm(",
     "library": "var_list.r",
     "varRefreshCmd": "cat(var_dic_list()) "
    }
   },
   "types_to_exclude": [
    "module",
    "function",
    "builtin_function_or_method",
    "instance",
    "_Feature"
   ],
   "window_display": false
  }
 },
 "nbformat": 4,
 "nbformat_minor": 2
}
