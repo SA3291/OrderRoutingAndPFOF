{
 "cells": [
  {
   "cell_type": "code",
   "execution_count": 253,
   "metadata": {
    "ExecuteTime": {
     "end_time": "2018-02-18T22:27:47.198852Z",
     "start_time": "2018-02-18T22:27:47.196417Z"
    }
   },
   "outputs": [],
   "source": [
    "import numpy as np"
   ]
  },
  {
   "cell_type": "code",
   "execution_count": 269,
   "metadata": {
    "ExecuteTime": {
     "end_time": "2018-02-18T22:29:50.597937Z",
     "start_time": "2018-02-18T22:29:50.588852Z"
    }
   },
   "outputs": [],
   "source": [
    "# Params\n",
    "n = 10\n",
    "f_true = lambda X: X[:,1] + 2*X[:,0] #np.square((X[:,0] + X[:,1]))*2/12.901058\n",
    "# Generate Data\n",
    "X = np.matrix(np.random.randn(2*n, 2))\n",
    "# Remove outliers\n",
    "ind_not_outlier = np.array(np.multiply((abs(X) < 3)[:,0], (abs(X) < 3)[:,1]).T)[0]\n",
    "X = X[ind_not_outlier, :][0:n, :]\n",
    "# square elements of X\n",
    "X = np.power(X, 2)\n",
    "Y = f_true(X) + np.random.randn(n, 1)/3"
   ]
  },
  {
   "cell_type": "code",
   "execution_count": 270,
   "metadata": {
    "ExecuteTime": {
     "end_time": "2018-02-18T22:29:50.759075Z",
     "start_time": "2018-02-18T22:29:50.754736Z"
    }
   },
   "outputs": [
    {
     "data": {
      "text/plain": [
       "matrix([[-0.13392476],\n",
       "        [-0.23606191],\n",
       "        [ 0.15651573],\n",
       "        [ 0.2673943 ],\n",
       "        [ 0.77688931],\n",
       "        [ 0.04889537],\n",
       "        [-0.63761714],\n",
       "        [-0.21961607],\n",
       "        [-0.23617505],\n",
       "        [ 0.27360961]])"
      ]
     },
     "execution_count": 270,
     "metadata": {},
     "output_type": "execute_result"
    }
   ],
   "source": [
    "Y - f_true(X)"
   ]
  },
  {
   "cell_type": "code",
   "execution_count": 271,
   "metadata": {
    "ExecuteTime": {
     "end_time": "2018-02-18T22:29:55.762336Z",
     "start_time": "2018-02-18T22:29:55.755617Z"
    }
   },
   "outputs": [
    {
     "data": {
      "text/plain": [
       "matrix([[-0.6647525]])"
      ]
     },
     "execution_count": 271,
     "metadata": {},
     "output_type": "execute_result"
    }
   ],
   "source": [
    "b_ols, res_ols, _, _ = np.linalg.lstsq(X, Y, rcond = None)\n",
    "b_b, res_b, _, _     = np.linalg.lstsq(X - np.ones((n, 2)), Y, rcond = None)\n",
    "b_b = b_b[1]/b_b[0]\n",
    "b_b"
   ]
  },
  {
   "cell_type": "code",
   "execution_count": 333,
   "metadata": {
    "ExecuteTime": {
     "end_time": "2018-02-18T22:55:34.668151Z",
     "start_time": "2018-02-18T22:55:34.601086Z"
    }
   },
   "outputs": [],
   "source": [
    "def trim(X, percent):\n",
    "    \n",
    "    alpha = (1 - percent)/2\n",
    "    n, k = np.shape(X)\n",
    "    t_ind = np.zeros((n, k))\n",
    "    \n",
    "    for i in range(0, k):\n",
    "        upper_bd = np.percentile(X[:,i], (1 - alpha)*100)\n",
    "        lower_bd = np.percentile(X[:,i], (alpha)*100)\n",
    "        t_ind[:, i] = [int(lower_bd < x < upper_bd) for x in X[:,i]]\n",
    "        \n",
    "    return np.prod(t_ind, axis = 1)\n",
    "\n",
    "def pdfn(x):\n",
    "    return np.exp(-np.multiply(x, x)/2)/np.sqrt(2*np.pi)\n",
    "\n",
    "# Conditional Expecttation\n",
    "def CE_1(Y, X, arg, r):\n",
    "    \n",
    "    n_arg = np.shape(arg)[0]\n",
    "    n = np.shape(X)[0]\n",
    "    h = (n**(-r)) * np.std(X, axis = 0, ddof = 1)\n",
    "    e = np.zeros((n, 1))\n",
    "    print(h)\n",
    "    \n",
    "    for j in range(0, n_arg):\n",
    "        k = np.divide(pdfn(np.divide((arg[j] - X), h)), h)\n",
    "        k = np.prod(k, axis = 1)   \n",
    "        e[j] = (Y.T*k/n)/np.mean(k)\n",
    "        print(k)\n",
    "        \n",
    "    return e\n",
    "\n",
    "def SLS_1(b, Y, X, X_ind):\n",
    "    \n",
    "    v = X[:, 0] + X[:, 1]*b\n",
    "    EY = CE_1(Y, v, v, 1/5)\n",
    "    residual = np.power((Y - EY), 2)\n",
    "    \n",
    "    return (-0.5 * np.matrix(trim(X, 0.98))*residual)"
   ]
  },
  {
   "cell_type": "code",
   "execution_count": 227,
   "metadata": {
    "ExecuteTime": {
     "end_time": "2018-02-16T22:55:31.694445Z",
     "start_time": "2018-02-16T22:55:31.685113Z"
    }
   },
   "outputs": [
    {
     "data": {
      "text/plain": [
       "matrix([[859.81649469]])"
      ]
     },
     "execution_count": 227,
     "metadata": {},
     "output_type": "execute_result"
    }
   ],
   "source": [
    "v = X[:, 0] + X[:, 1]*b_b\n",
    "EY = CE_1(Y, v, v, 1/5)\n",
    "residual = np.power((Y - EY), 2)\n",
    "np.matrix(trim(X, 0.98))*residual"
   ]
  },
  {
   "cell_type": "code",
   "execution_count": 334,
   "metadata": {
    "ExecuteTime": {
     "end_time": "2018-02-18T22:55:35.787995Z",
     "start_time": "2018-02-18T22:55:35.776951Z"
    }
   },
   "outputs": [
    {
     "name": "stdout",
     "output_type": "stream",
     "text": [
      "[[0.29351725]]\n",
      "[[1.35917831]\n",
      " [0.80617857]\n",
      " [0.168227  ]\n",
      " [0.01235008]]\n",
      "[[0.80617857]\n",
      " [1.35917831]\n",
      " [0.80617857]\n",
      " [0.168227  ]]\n",
      "[[0.168227  ]\n",
      " [0.80617857]\n",
      " [1.35917831]\n",
      " [0.80617857]]\n",
      "[[0.01235008]\n",
      " [0.168227  ]\n",
      " [0.80617857]\n",
      " [1.35917831]]\n"
     ]
    },
    {
     "data": {
      "text/plain": [
       "array([[ 6.01145102],\n",
       "       [ 8.42863625],\n",
       "       [11.57136375],\n",
       "       [13.98854898]])"
      ]
     },
     "execution_count": 334,
     "metadata": {},
     "output_type": "execute_result"
    }
   ],
   "source": [
    "Z = np.matrix([1,2,3,4]).T #X[:,0]*2 + np.random.randn(n, 1)/3\n",
    "CE_1(Z, Z*3/10, Z*0.3, 1/5)"
   ]
  },
  {
   "cell_type": "code",
   "execution_count": 311,
   "metadata": {
    "ExecuteTime": {
     "end_time": "2018-02-18T22:48:23.469583Z",
     "start_time": "2018-02-18T22:48:23.465975Z"
    }
   },
   "outputs": [
    {
     "data": {
      "text/plain": [
       "matrix([[0.3],\n",
       "        [0.6],\n",
       "        [0.9],\n",
       "        [1.2]])"
      ]
     },
     "execution_count": 311,
     "metadata": {},
     "output_type": "execute_result"
    }
   ],
   "source": [
    "Z*0.3"
   ]
  },
  {
   "cell_type": "code",
   "execution_count": 301,
   "metadata": {
    "ExecuteTime": {
     "end_time": "2018-02-18T22:44:29.440212Z",
     "start_time": "2018-02-18T22:44:29.434939Z"
    }
   },
   "outputs": [
    {
     "data": {
      "text/plain": [
       "0.17603266338214976"
      ]
     },
     "execution_count": 301,
     "metadata": {},
     "output_type": "execute_result"
    }
   ],
   "source": [
    "np.divide(pdfn(np.divide((3 - 4), 2)), 2)"
   ]
  },
  {
   "cell_type": "code",
   "execution_count": 174,
   "metadata": {
    "ExecuteTime": {
     "end_time": "2018-02-16T22:32:40.185610Z",
     "start_time": "2018-02-16T22:32:40.181184Z"
    }
   },
   "outputs": [
    {
     "data": {
      "text/plain": [
       "matrix([[1.6455901 ],\n",
       "        [1.10266646],\n",
       "        [0.00435273],\n",
       "        [2.1058546 ],\n",
       "        [0.52224853],\n",
       "        [1.30863571],\n",
       "        [0.01407831],\n",
       "        [1.21369834],\n",
       "        [3.91778579],\n",
       "        [1.12395326]])"
      ]
     },
     "execution_count": 174,
     "metadata": {},
     "output_type": "execute_result"
    }
   ],
   "source": [
    "np.percentilX[:,1]"
   ]
  },
  {
   "cell_type": "code",
   "execution_count": null,
   "metadata": {},
   "outputs": [],
   "source": []
  }
 ],
 "metadata": {
  "kernelspec": {
   "display_name": "Python 3",
   "language": "python",
   "name": "python3"
  },
  "language_info": {
   "codemirror_mode": {
    "name": "ipython",
    "version": 3
   },
   "file_extension": ".py",
   "mimetype": "text/x-python",
   "name": "python",
   "nbconvert_exporter": "python",
   "pygments_lexer": "ipython3",
   "version": "3.5.2"
  },
  "toc": {
   "nav_menu": {},
   "number_sections": false,
   "sideBar": true,
   "skip_h1_title": false,
   "toc_cell": false,
   "toc_position": {},
   "toc_section_display": "block",
   "toc_window_display": true
  },
  "varInspector": {
   "cols": {
    "lenName": 16,
    "lenType": 16,
    "lenVar": 40
   },
   "kernels_config": {
    "python": {
     "delete_cmd_postfix": "",
     "delete_cmd_prefix": "del ",
     "library": "var_list.py",
     "varRefreshCmd": "print(var_dic_list())"
    },
    "r": {
     "delete_cmd_postfix": ") ",
     "delete_cmd_prefix": "rm(",
     "library": "var_list.r",
     "varRefreshCmd": "cat(var_dic_list()) "
    }
   },
   "types_to_exclude": [
    "module",
    "function",
    "builtin_function_or_method",
    "instance",
    "_Feature"
   ],
   "window_display": false
  }
 },
 "nbformat": 4,
 "nbformat_minor": 2
}
