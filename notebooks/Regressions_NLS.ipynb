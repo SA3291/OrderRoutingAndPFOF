{
 "cells": [
  {
   "cell_type": "code",
   "execution_count": 131,
   "metadata": {},
   "outputs": [],
   "source": [
    "import numpy as np\n",
    "import pandas as pd\n",
    "from scipy.optimize import minimize, least_squares\n",
    "from scipy.stats import norm\n",
    "from openpyxl import Workbook, load_workbook, utils\n",
    "from openpyxl.styles import Alignment, Font\n",
    "import string"
   ]
  },
  {
   "cell_type": "markdown",
   "metadata": {},
   "source": [
    "### Functions"
   ]
  },
  {
   "cell_type": "code",
   "execution_count": 132,
   "metadata": {},
   "outputs": [],
   "source": [
    "def trim(X, percent):\n",
    "    ''' Trims X with the percent input by finding the top and bottom \n",
    "    (percent/2) observations and then returns a matrix of binary variables \n",
    "    indicating rows of X that would not be trimmed\n",
    "    '''\n",
    "    \n",
    "    alpha = (1 - percent)/2\n",
    "    n, k = np.shape(X)\n",
    "    t_ind = np.zeros((n, k))\n",
    "    \n",
    "    for i in range(0, k):\n",
    "        upper_bd = np.percentile(X[:,i], (1 - alpha)*100)\n",
    "        lower_bd = np.percentile(X[:,i], (alpha)*100)\n",
    "        t_ind[:, i] = [int(lower_bd < x < upper_bd) for x in X[:,i]]\n",
    "        \n",
    "    return np.prod(t_ind, axis = 1)\n",
    "\n",
    "\n",
    "def CE_1(Y, X, arg, r):\n",
    "    ''' Conditional Expectation of Y given X at arg (matrix) with bandwith r \n",
    "    using a gaussian kernel \n",
    "    '''\n",
    "\n",
    "    n_arg = np.shape(arg)[0]\n",
    "    n = np.shape(X)[0]\n",
    "    h = (n**(-r)) * np.std(X, axis = 0, ddof = 1)\n",
    "    e = np.zeros((n_arg, 1))\n",
    "    \n",
    "    for j in range(0, n_arg):\n",
    "        k = np.divide(norm.pdf(np.divide((arg[j] - X), h)), h)\n",
    "        k = np.prod(k, axis = 1)   \n",
    "        e[j] = (Y.T*k/n)/np.mean(k)\n",
    "        \n",
    "    return e\n",
    "\n",
    "\n",
    "def SLS_1(b, Y, X, X_ind):\n",
    "    ''' Semiparametric least-squares using CE_1 and bandwith = 1/5\n",
    "    '''\n",
    "    \n",
    "    v = X * np.matrix(b).T\n",
    "    EY = CE_1(Y, v, v, 1/5)\n",
    "    residual = np.power((Y - EY), 2)\n",
    "    \n",
    "    return (-0.5 * np.matrix(X_ind)*residual)\n",
    "\n",
    "\n",
    "# Regress Y on X with SLS\n",
    "def run_semiparametric_regression(Y, X, guess, trim_percent = 0.98, \n",
    "    xtol = 0.001, maxiter = 1):\n",
    "    ''' Runs SLS with some default parameters, approximates an initial guess \n",
    "    using BFGS\n",
    "    '''\n",
    "    \n",
    "    obj_f = lambda x_0: -1e6*SLS_1(np.append(np.array([1]), x_0), Y, X, \n",
    "        trim(X, 0.98))[0,0]\n",
    "\n",
    "    print('    Running LS...')\n",
    "    result = least_squares(obj_f, list(np.array(guess).flatten()), xtol = xtol)\n",
    "\n",
    "    print('    BFGS...')\n",
    "    result = minimize(obj_f, list(np.array(guess).flatten()), method='BFGS', \n",
    "        options = {'maxiter': maxiter})\n",
    "\n",
    "    return result\n",
    "\n",
    "\n",
    "def convert_hessian_to_cov(Y, X, results):\n",
    "    ''' Converts the result output from scipy.optimize into a covariance matrix \n",
    "    by taking the inverse of the hessian and multiplying by an estimate of the \n",
    "    variance of the residuals \n",
    "    '''\n",
    "    \n",
    "    sigma_2_hat = np.mean(np.power(Y - X*np.matrix(results.x).T, 2))\n",
    "    return results.hess_inv * sigma_2_hat\n",
    "\n",
    "\n",
    "def compute_marginal_effect(Y, X, ind, point, beta, delta = 0.01):\n",
    "    ''' Finds the marginal effects at a given point using CE_1, delta \n",
    "    represents the amount to nudge the point by when calculating the marginal \n",
    "    effects, ind refers to the index of the variable being nudged\n",
    "    '''\n",
    "\n",
    "    point_nudge = np.copy(point)\n",
    "    point_nudge[0, ind] = point_nudge[0, ind] + delta\n",
    "    point_nudge = np.matrix(point_nudge)\n",
    "    \n",
    "    v_hat = X*beta\n",
    "    v_hat_avg = point*beta\n",
    "    v_hat_avg_nudge = point_nudge*beta\n",
    "    \n",
    "    return np.asscalar(CE_1(Y, v_hat, v_hat_avg_nudge, 1/5) - \n",
    "        CE_1(Y, v_hat, v_hat_avg, 1/5))/delta\n",
    "\n",
    "\n",
    "def find_tstats(Y, X, results):\n",
    "    ''' Computes t_stats using an input of variables and the results \n",
    "    of a scipy.minimize routine (must output a hessian)\n",
    "    '''\n",
    "    \n",
    "    V = convert_hessian_to_cov(Y, X, results)\n",
    "\n",
    "    n = np.shape(results.x)[0]\n",
    "    theta = results.x/results.x[0]\n",
    "    t_stats = np.zeros(shape = (n))\n",
    "    t_stats[0] = np.nan # first t-stat is unknown\n",
    "\n",
    "    for i in range(1, n):\n",
    "        t_stats[i] = theta[i] / np.sqrt(V[i,i])\n",
    "\n",
    "    return t_stats    \n",
    "\n",
    "def get_sig_stars(coeff, stderr, p_value_labels):\n",
    "    ''' Outputs significance stars after calculating the t-stat \n",
    "    '''\n",
    "    t_stat = coeff/stderr\n",
    "    p_val  = 2*(1 - norm.cdf(np.abs(t_stat)))\n",
    "    below_ind = np.where([p_val < x for x in p_value_labels.keys()])[0]\n",
    "    below_vals = [list(p_value_labels.keys())[i] for i in below_ind]\n",
    "    if not below_vals:\n",
    "        return ''\n",
    "    else:\n",
    "        min_p_val = np.min(below_vals)\n",
    "        return p_value_labels[min_p_val]"
   ]
  },
  {
   "cell_type": "markdown",
   "metadata": {},
   "source": [
    "# Unpaid"
   ]
  },
  {
   "cell_type": "markdown",
   "metadata": {},
   "source": [
    "### Params"
   ]
  },
  {
   "cell_type": "code",
   "execution_count": 118,
   "metadata": {},
   "outputs": [],
   "source": [
    "data_dmd_loc = '../data/processed/regression_data_levels_demeaned.csv'\n",
    "\n",
    "output_file_loc  = '../analysis/results/nls_'\n",
    "output_file_name = 'unpaid_market'#input('Enter file name: ')\n",
    "workbook_file_loc = output_file_loc + output_file_name + '.xlsx'\n",
    "\n",
    "sample_query = 'Rebate_Dummy == 0 & OrderType == \"Market\"'#input('Enter data query: ')\n",
    "\n",
    "# 'nudge length' for calculating marginal effects\n",
    "delta = .001\n",
    "\n",
    "# params for optimization routines\n",
    "reg_xtol = 0.01\n",
    "reg_maxiter = 10\n",
    "\n",
    "p_value_labels = {0.05: '*', 0.01: '**', 0.001: '***'}"
   ]
  },
  {
   "cell_type": "code",
   "execution_count": 119,
   "metadata": {},
   "outputs": [
    {
     "name": "stdout",
     "output_type": "stream",
     "text": [
      "../analysis/results/nls_unpaid_market.xlsx\n",
      "Rebate_Dummy == 0 & OrderType == \"Market\"\n"
     ]
    }
   ],
   "source": [
    "print(workbook_file_loc)\n",
    "print(sample_query)"
   ]
  },
  {
   "cell_type": "markdown",
   "metadata": {},
   "source": [
    "### Main"
   ]
  },
  {
   "cell_type": "code",
   "execution_count": 120,
   "metadata": {},
   "outputs": [
    {
     "name": "stdout",
     "output_type": "stream",
     "text": [
      "Market Centers: ['UBSS' 'FBCO' 'SGMA' 'BNYC' 'CDRG' 'G1ES' 'VRTU' 'WOLV']\n",
      "Brokers: ['Insigneo Securities' 'AXA' 'Edward Jones' 'Dakota Securities'\n",
      " 'Florida Atlantic' 'BMO Capital' 'Aurora Capital' 'Bank of the West'\n",
      " 'LPL' 'Benjamin Jerold' 'Elish Elish' 'Euro Pacific Capital'\n",
      " 'Bull Market Securities' 'Fifth Third']\n",
      "Exchanges: ['Other' 'NYSE' 'NASDAQ']\n",
      "OrderTypes: ['Market']\n",
      "Samples: 1488\n",
      "Sparsity: 1.61%\n",
      "Regressing with fit 0...\n",
      "    Running LS...\n",
      "    BFGS...\n",
      "Regressing with fit 1...\n",
      "    Running LS...\n",
      "    BFGS...\n",
      "Regressing with fit 2...\n",
      "    Running LS...\n",
      "    BFGS...\n",
      "Regressing with fit 3...\n",
      "    Running LS...\n",
      "    BFGS...\n",
      "Complete\n"
     ]
    }
   ],
   "source": [
    "## Load data\n",
    "\n",
    "data_df = pd.read_csv(data_dmd_loc)\n",
    "data_df['PrImp_Pct_Rebate_Dummy'] = data_df['PrImp_Pct'] * \\\n",
    "                                        data_df['Rebate_Dummy']\n",
    "data_df['PrImp_AvgAmt_Rebate_Dummy'] = data_df['PrImp_AvgAmt'] * \\\n",
    "                                         data_df['Rebate_Dummy']\n",
    "data_df['PrImp_ExpAmt_Rebate_Dummy'] = data_df['PrImp_ExpAmt'] * \\\n",
    "                                         data_df['Rebate_Dummy']\n",
    "data_df['PrImp_AvgT_Rebate_Dummy'] = data_df['PrImp_AvgT'] * \\\n",
    "                                         data_df['Rebate_Dummy']\n",
    "data_df['All_AvgT_Rebate_Dummy'] = data_df['All_AvgT'] * \\\n",
    "                                         data_df['Rebate_Dummy']\n",
    "\n",
    "## Information about sample\n",
    "\n",
    "sample_frac = 1 # None => All obs\n",
    "data_df = data_df.sample(frac = sample_frac).query(sample_query)\n",
    "\n",
    "print('Market Centers: ', end = '') \n",
    "print(data_df['MarketCenter'].unique())\n",
    "\n",
    "print('Brokers: ', end = '') \n",
    "print(data_df['Broker'].unique())\n",
    "\n",
    "print('Exchanges: ', end = '') \n",
    "print(data_df['Exchange'].unique())\n",
    "\n",
    "print('OrderTypes: ', end = '') \n",
    "print(data_df['OrderType'].unique())\n",
    "\n",
    "print('Samples: %d' % data_df.shape[0])\n",
    "print('Sparsity: %0.2f%%' % \n",
    "    (100*data_df.query('MktShare == 0').shape[0] / data_df.shape[0]))\n",
    "\n",
    "\n",
    "## Regressions\n",
    "\n",
    "# Fits\n",
    "fit1_formula = 'MktShare ~ PrImp_Pct + PrImp_AvgAmt + PrImp_AvgT'\n",
    "fit2_formula = 'MktShare ~ PrImp_ExpAmt + PrImp_AvgT'\n",
    "fit3_formula = 'MktShare ~ PrImp_Pct + PrImp_AvgAmt + All_AvgT'\n",
    "fit4_formula = 'MktShare ~ PrImp_ExpAmt + All_AvgT'\n",
    "\n",
    "formulaCols = lambda x: x.replace(' ', '').replace('~', '+').split('+') \n",
    "fit_formulae = [fit1_formula, fit2_formula, fit3_formula, fit4_formula]\n",
    "fit_formulae = [formulaCols(x) for x in fit_formulae]\n",
    "\n",
    "# Store results\n",
    "fit_results = [None] * len(fit_formulae)\n",
    "\n",
    "\n",
    "## Get Results\n",
    "for i in range(0, len(fit_formulae)):\n",
    "    \n",
    "    ## Get results\n",
    "    print('Regressing with fit %d...' % i )\n",
    "    \n",
    "    data = data_df[fit_formulae[i]].dropna()\n",
    "    X = np.matrix(data)[:, 1:]\n",
    "    Y = np.matrix(data)[:, 0]\n",
    "\n",
    "    beta_guess, _, _ , _ = np.linalg.lstsq(X, Y, rcond = -1)\n",
    "    results = run_semiparametric_regression(Y, X, \n",
    "        beta_guess[1:]/beta_guess[0], xtol = 0.00001, maxiter = 50)\n",
    "    \n",
    "    fit_results[i] = results\n",
    "    \n",
    "    ## Update results\n",
    "    # Normalize results with first coefficient\n",
    "    fit_results[i].x = np.append(1, fit_results[i].x)\n",
    "    \n",
    "    # Add dictionary of coefficients \n",
    "    fit_results[i].coeffs  = {fit_formulae[i][1:][j]: fit_results[i].x[j] for \n",
    "        j in range(0, len(fit_formulae[i])-1)}\n",
    "    \n",
    "    # Add dictionary of standard errors \n",
    "    V = convert_hessian_to_cov(Y, X, fit_results[i])\n",
    "    fit_results[i].stderrs = {fit_formulae[i][1:][j]: np.sqrt(V[j-1,j-1]) for \n",
    "        j in range(1, len(fit_formulae[i])-1)}\n",
    "    fit_results[i].stderrs[fit_formulae[i][1:][0]] = np.nan\n",
    "    \n",
    "print('Complete')  \n",
    "\n",
    "\n",
    "## Marginal Effects\n",
    "\n",
    "for i in range(0, len(fit_formulae)):\n",
    "    \n",
    "    data = data_df[fit_formulae[i]]\n",
    "    X = np.matrix(data)[:, 1:]\n",
    "    Y = np.matrix(data)[:, 0]\n",
    "    \n",
    "    fit_results[i].marginal_effects = {}\n",
    "    \n",
    "    for j in range(0, len(fit_results[i].x)):  \n",
    "        \n",
    "        temp_dict = {}\n",
    "        \n",
    "        for percentile in range(20, 81, 20):\n",
    "\n",
    "            X_percentile = np.percentile(X, percentile, axis = 0)\n",
    "            \n",
    "            temp_dict[percentile] = compute_marginal_effect(Y, X, j, \n",
    "                np.matrix(X_percentile), np.matrix(fit_results[i].x).T, \n",
    "                delta = delta)\n",
    "            \n",
    "        fit_results[i].marginal_effects[fit_formulae[i][j+1]] = temp_dict"
   ]
  },
  {
   "cell_type": "code",
   "execution_count": 125,
   "metadata": {},
   "outputs": [],
   "source": [
    "fit_results_unpaid = fit_results"
   ]
  },
  {
   "cell_type": "markdown",
   "metadata": {},
   "source": [
    "# Paid"
   ]
  },
  {
   "cell_type": "markdown",
   "metadata": {},
   "source": [
    "### Params"
   ]
  },
  {
   "cell_type": "code",
   "execution_count": 127,
   "metadata": {},
   "outputs": [],
   "source": [
    "data_dmd_loc = '../data/processed/regression_data_levels_demeaned.csv'\n",
    "\n",
    "output_file_loc  = '../analysis/results/nls_'\n",
    "output_file_name = 'paid_market'#input('Enter file name: ')\n",
    "workbook_file_loc = output_file_loc + output_file_name + '.xlsx'\n",
    "\n",
    "sample_query = 'Rebate_Dummy == 1 & OrderType == \"Market\"'#input('Enter data query: ')\n",
    "\n",
    "# 'nudge length' for calculating marginal effects\n",
    "delta = .001\n",
    "\n",
    "# params for optimization routines\n",
    "reg_xtol = 0.01\n",
    "reg_maxiter = 10\n",
    "\n",
    "p_value_labels = {0.05: '*', 0.01: '**', 0.001: '***'}"
   ]
  },
  {
   "cell_type": "code",
   "execution_count": 128,
   "metadata": {},
   "outputs": [
    {
     "name": "stdout",
     "output_type": "stream",
     "text": [
      "../analysis/results/nls_paid_market.xlsx\n",
      "Rebate_Dummy == 1 & OrderType == \"Market\"\n"
     ]
    }
   ],
   "source": [
    "print(workbook_file_loc)\n",
    "print(sample_query)"
   ]
  },
  {
   "cell_type": "markdown",
   "metadata": {},
   "source": [
    "### Main"
   ]
  },
  {
   "cell_type": "code",
   "execution_count": 129,
   "metadata": {},
   "outputs": [
    {
     "name": "stdout",
     "output_type": "stream",
     "text": [
      "Market Centers: ['UBSS' 'CDRG' 'FBCO' 'BNYC' 'SGMA' 'G1ES' 'VRTU' 'WOLV']\n",
      "Brokers: ['Wells Fargo' 'E1 Asset Mgmt' 'INTL FCStone' 'Lightspeed Trading'\n",
      " 'Barclays Capital' 'Cambria Capital' 'TD Ameritrade' 'Deutsche'\n",
      " 'Boenning Scattergood' 'Hollencrest Securities' 'Two Sigma'\n",
      " 'Evercore Group' 'BTIG' 'Inlet Securities' 'JP Morgan' 'Credit Suisse']\n",
      "Exchanges: ['NYSE' 'Other' 'NASDAQ']\n",
      "OrderTypes: ['Market']\n",
      "Samples: 1494\n",
      "Sparsity: 27.31%\n",
      "Regressing with fit 0...\n",
      "    Running LS...\n",
      "    BFGS...\n",
      "Regressing with fit 1...\n",
      "    Running LS...\n",
      "    BFGS...\n",
      "Regressing with fit 2...\n",
      "    Running LS...\n",
      "    BFGS...\n",
      "Regressing with fit 3...\n",
      "    Running LS...\n",
      "    BFGS...\n",
      "Complete\n"
     ]
    }
   ],
   "source": [
    "## Load data\n",
    "\n",
    "data_df = pd.read_csv(data_dmd_loc)\n",
    "data_df['PrImp_Pct_Rebate_Dummy'] = data_df['PrImp_Pct'] * \\\n",
    "                                        data_df['Rebate_Dummy']\n",
    "data_df['PrImp_AvgAmt_Rebate_Dummy'] = data_df['PrImp_AvgAmt'] * \\\n",
    "                                         data_df['Rebate_Dummy']\n",
    "data_df['PrImp_ExpAmt_Rebate_Dummy'] = data_df['PrImp_ExpAmt'] * \\\n",
    "                                         data_df['Rebate_Dummy']\n",
    "data_df['PrImp_AvgT_Rebate_Dummy'] = data_df['PrImp_AvgT'] * \\\n",
    "                                         data_df['Rebate_Dummy']\n",
    "data_df['All_AvgT_Rebate_Dummy'] = data_df['All_AvgT'] * \\\n",
    "                                         data_df['Rebate_Dummy']\n",
    "\n",
    "## Information about sample\n",
    "\n",
    "sample_frac = 1 # None => All obs\n",
    "data_df = data_df.sample(frac = sample_frac).query(sample_query)\n",
    "\n",
    "print('Market Centers: ', end = '') \n",
    "print(data_df['MarketCenter'].unique())\n",
    "\n",
    "print('Brokers: ', end = '') \n",
    "print(data_df['Broker'].unique())\n",
    "\n",
    "print('Exchanges: ', end = '') \n",
    "print(data_df['Exchange'].unique())\n",
    "\n",
    "print('OrderTypes: ', end = '') \n",
    "print(data_df['OrderType'].unique())\n",
    "\n",
    "print('Samples: %d' % data_df.shape[0])\n",
    "print('Sparsity: %0.2f%%' % \n",
    "    (100*data_df.query('MktShare == 0').shape[0] / data_df.shape[0]))\n",
    "\n",
    "\n",
    "## Regressions\n",
    "\n",
    "# Fits\n",
    "fit1_formula = 'MktShare ~ PrImp_Pct + PrImp_AvgAmt + PrImp_AvgT'\n",
    "fit2_formula = 'MktShare ~ PrImp_ExpAmt + PrImp_AvgT'\n",
    "fit3_formula = 'MktShare ~ PrImp_Pct + PrImp_AvgAmt + All_AvgT'\n",
    "fit4_formula = 'MktShare ~ PrImp_ExpAmt + All_AvgT'\n",
    "\n",
    "formulaCols = lambda x: x.replace(' ', '').replace('~', '+').split('+') \n",
    "fit_formulae = [fit1_formula, fit2_formula, fit3_formula, fit4_formula]\n",
    "fit_formulae = [formulaCols(x) for x in fit_formulae]\n",
    "\n",
    "# Store results\n",
    "fit_results = [None] * len(fit_formulae)\n",
    "\n",
    "\n",
    "## Get Results\n",
    "for i in range(0, len(fit_formulae)):\n",
    "    \n",
    "    ## Get results\n",
    "    print('Regressing with fit %d...' % i )\n",
    "    \n",
    "    data = data_df[fit_formulae[i]].dropna()\n",
    "    X = np.matrix(data)[:, 1:]\n",
    "    Y = np.matrix(data)[:, 0]\n",
    "\n",
    "    beta_guess, _, _ , _ = np.linalg.lstsq(X, Y, rcond = -1)\n",
    "    results = run_semiparametric_regression(Y, X, \n",
    "        beta_guess[1:]/beta_guess[0], xtol = 0.00001, maxiter = 50)\n",
    "    \n",
    "    fit_results[i] = results\n",
    "    \n",
    "    ## Update results\n",
    "    # Normalize results with first coefficient\n",
    "    fit_results[i].x = np.append(1, fit_results[i].x)\n",
    "    \n",
    "    # Add dictionary of coefficients \n",
    "    fit_results[i].coeffs  = {fit_formulae[i][1:][j]: fit_results[i].x[j] for \n",
    "        j in range(0, len(fit_formulae[i])-1)}\n",
    "    \n",
    "    # Add dictionary of standard errors \n",
    "    V = convert_hessian_to_cov(Y, X, fit_results[i])\n",
    "    fit_results[i].stderrs = {fit_formulae[i][1:][j]: np.sqrt(V[j-1,j-1]) for \n",
    "        j in range(1, len(fit_formulae[i])-1)}\n",
    "    fit_results[i].stderrs[fit_formulae[i][1:][0]] = np.nan\n",
    "    \n",
    "print('Complete')  \n",
    "\n",
    "\n",
    "## Marginal Effects\n",
    "\n",
    "for i in range(0, len(fit_formulae)):\n",
    "    \n",
    "    data = data_df[fit_formulae[i]]\n",
    "    X = np.matrix(data)[:, 1:]\n",
    "    Y = np.matrix(data)[:, 0]\n",
    "    \n",
    "    fit_results[i].marginal_effects = {}\n",
    "    \n",
    "    for j in range(0, len(fit_results[i].x)):  \n",
    "        \n",
    "        temp_dict = {}\n",
    "        \n",
    "        for percentile in range(20, 81, 20):\n",
    "\n",
    "            X_percentile = np.percentile(X, percentile, axis = 0)\n",
    "            \n",
    "            temp_dict[percentile] = compute_marginal_effect(Y, X, j, \n",
    "                np.matrix(X_percentile), np.matrix(fit_results[i].x).T, \n",
    "                delta = delta)\n",
    "            \n",
    "        fit_results[i].marginal_effects[fit_formulae[i][j+1]] = temp_dict"
   ]
  },
  {
   "cell_type": "code",
   "execution_count": 130,
   "metadata": {},
   "outputs": [],
   "source": [
    "fit_results_paid = fit_results"
   ]
  },
  {
   "cell_type": "markdown",
   "metadata": {},
   "source": [
    "# Marginal Effects"
   ]
  },
  {
   "cell_type": "code",
   "execution_count": 99,
   "metadata": {},
   "outputs": [],
   "source": [
    "fit_marginal_effects = [None]*len(fit_formulae)"
   ]
  },
  {
   "cell_type": "code",
   "execution_count": 110,
   "metadata": {},
   "outputs": [],
   "source": [
    "## Marginal Effects\n",
    "\n",
    "for i in range(0, len(fit_formulae)):\n",
    "    \n",
    "    data = data_df[fit_formulae[i]]\n",
    "    X = np.matrix(data)[:, 1:]\n",
    "    Y = np.matrix(data)[:, 0]\n",
    "    \n",
    "    fit_marginal_effects[i] = {}\n",
    "    \n",
    "    for j in range(0, len(fit_results[i].x)):  \n",
    "        \n",
    "        temp_results = np.empty((0,2))\n",
    "        \n",
    "        for percentile in range(20, 81, 1):\n",
    "            \n",
    "            X_percentile = np.percentile(X, percentile, axis = 0)\n",
    "            \n",
    "            temp_results = np.append(temp_results, \n",
    "                                     [[percentile, compute_marginal_effect(Y, X, j, \n",
    "                                                                          np.matrix(X_percentile), np.matrix(fit_results[i].x).T, \n",
    "                                                                          delta = delta)]], \n",
    "                                     axis = 0)\n",
    "            \n",
    "        fit_marginal_effects[i][fit_formulae[i][j+1]] = temp_results \n",
    "            \n",
    "        #fit_results[i].marginal_effects[fit_formulae[i][j+1]] = temp_dict"
   ]
  },
  {
   "cell_type": "code",
   "execution_count": 111,
   "metadata": {},
   "outputs": [
    {
     "data": {
      "text/plain": [
       "[None, None, None, None]"
      ]
     },
     "execution_count": 111,
     "metadata": {},
     "output_type": "execute_result"
    }
   ],
   "source": [
    "[None]*4"
   ]
  },
  {
   "cell_type": "code",
   "execution_count": 112,
   "metadata": {},
   "outputs": [
    {
     "data": {
      "text/plain": [
       "<matplotlib.axes._subplots.AxesSubplot at 0x7fec6be5c390>"
      ]
     },
     "execution_count": 112,
     "metadata": {},
     "output_type": "execute_result"
    },
    {
     "data": {
      "image/png": "[encoded data removed]",
      "text/plain": [
       "<matplotlib.figure.Figure at 0x7fec6be6de48>"
      ]
     },
     "metadata": {},
     "output_type": "display_data"
    }
   ],
   "source": [
    "pd.DataFrame(temp_results).set_index(0).plot()"
   ]
  },
  {
   "cell_type": "code",
   "execution_count": 124,
   "metadata": {},
   "outputs": [
    {
     "data": {
      "text/plain": [
       "<matplotlib.axes._subplots.AxesSubplot at 0x7fec6bacadd8>"
      ]
     },
     "execution_count": 124,
     "metadata": {},
     "output_type": "execute_result"
    },
    {
     "data": {
      "image/png": "[encoded data removed]",
      "text/plain": [
       "<matplotlib.figure.Figure at 0x7fec6ba960b8>"
      ]
     },
     "metadata": {},
     "output_type": "display_data"
    }
   ],
   "source": [
    "temp = fit_marginal_effects[3]['PrImp_ExpAmt']\n",
    "\n",
    "pd.DataFrame(temp).set_index(0).plot()"
   ]
  },
  {
   "cell_type": "code",
   "execution_count": 148,
   "metadata": {},
   "outputs": [
    {
     "data": {
      "text/plain": [
       "[dict_keys(['PrImp_AvgAmt', 'PrImp_AvgT', 'PrImp_Pct']),\n",
       " dict_keys(['PrImp_ExpAmt', 'PrImp_AvgT']),\n",
       " dict_keys(['All_AvgT', 'PrImp_AvgAmt', 'PrImp_Pct']),\n",
       " dict_keys(['All_AvgT', 'PrImp_ExpAmt'])]"
      ]
     },
     "execution_count": 148,
     "metadata": {},
     "output_type": "execute_result"
    }
   ],
   "source": [
    "[i.keys() for i in fit_marginal_effects]"
   ]
  },
  {
   "cell_type": "code",
   "execution_count": null,
   "metadata": {},
   "outputs": [],
   "source": []
  },
  {
   "cell_type": "markdown",
   "metadata": {},
   "source": [
    "# Scratch"
   ]
  },
  {
   "cell_type": "code",
   "execution_count": null,
   "metadata": {},
   "outputs": [],
   "source": []
  }
 ],
 "metadata": {
  "kernelspec": {
   "display_name": "Python 3",
   "language": "python",
   "name": "python3"
  },
  "language_info": {
   "codemirror_mode": {
    "name": "ipython",
    "version": 3
   },
   "file_extension": ".py",
   "mimetype": "text/x-python",
   "name": "python",
   "nbconvert_exporter": "python",
   "pygments_lexer": "ipython3",
   "version": "3.5.2"
  }
 },
 "nbformat": 4,
 "nbformat_minor": 2
}
